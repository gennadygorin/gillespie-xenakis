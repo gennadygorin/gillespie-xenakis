{
  "nbformat": 4,
  "nbformat_minor": 0,
  "metadata": {
    "colab": {
      "name": "gg210728_music.ipynb",
      "provenance": [],
      "collapsed_sections": [],
      "toc_visible": true,
      "include_colab_link": true
    },
    "kernelspec": {
      "display_name": "Python 3",
      "name": "python3"
    }
  },
  "cells": [
    {
      "cell_type": "markdown",
      "metadata": {
        "id": "view-in-github",
        "colab_type": "text"
      },
      "source": [
        "<a href=\"https://colab.research.google.com/github/gennadygorin/gillespie-xenakis/blob/main/gg210728_music.ipynb\" target=\"_parent\"><img src=\"https://colab.research.google.com/assets/colab-badge.svg\" alt=\"Open In Colab\"/></a>"
      ]
    },
    {
      "cell_type": "markdown",
      "metadata": {
        "id": "dPkdg9jTjkTd"
      },
      "source": [
        "# Gillespie-Xenakis\n",
        "\n",
        "This notebook uses the [Magenta library](https://magenta.tensorflow.org/) to synthesize audio representations of stochastic process realizations, as simulated by the [Gillespie algorithm](https://www.sciencedirect.com/science/article/pii/0021999176900413). It is based on a [sample Magenta notebook](https://colab.research.google.com/notebooks/magenta/hello_magenta/hello_magenta.ipynb)."
      ]
    },
    {
      "cell_type": "markdown",
      "metadata": {
        "id": "zJbq5TmtFJUU"
      },
      "source": [
        "# Install dependencies"
      ]
    },
    {
      "cell_type": "code",
      "metadata": {
        "cellView": "both",
        "id": "PfRDVhNs3UFx"
      },
      "source": [
        "%%capture\n",
        "#@test {\"output\": \"ignore\"}\n",
        "print('Installing dependencies...')\n",
        "!apt-get update -qq && apt-get install -qq libfluidsynth1 fluid-soundfont-gm build-essential libasound2-dev libjack-dev\n",
        "!pip install -qU pyfluidsynth pretty_midi\n",
        "\n",
        "!pip install -qU magenta\n",
        "\n",
        "# Hack to allow python to pick up the newly-installed fluidsynth lib. \n",
        "# This is only needed for the hosted Colab environment.\n",
        "import ctypes.util\n",
        "orig_ctypes_util_find_library = ctypes.util.find_library\n",
        "def proxy_find_library(lib):\n",
        "  if lib == 'fluidsynth':\n",
        "    return 'libfluidsynth.so.1'\n",
        "  else:\n",
        "    return orig_ctypes_util_find_library(lib)\n",
        "ctypes.util.find_library = proxy_find_library\n",
        "\n",
        "print('Importing libraries and defining some helper functions...')\n",
        "from google.colab import files\n",
        "\n",
        "import magenta\n",
        "import note_seq\n",
        "import tensorflow\n",
        "\n",
        "print('🎉 Done!')\n",
        "print(magenta.__version__)\n",
        "print(tensorflow.__version__)"
      ],
      "execution_count": 1,
      "outputs": []
    },
    {
      "cell_type": "markdown",
      "metadata": {
        "id": "keOzlQwB_s7L"
      },
      "source": [
        "# Import package and define simulation\n",
        "\n",
        "For now, the notebook has a very simple bursty production - isomerization - degradation reaction system:\n",
        "$\\varnothing \\to B\\times \\mathcal{U} \\to \\mathcal{S} \\to \\varnothing$, where $B$ is geometrically distributed."
      ]
    },
    {
      "cell_type": "code",
      "metadata": {
        "id": "E9YTPnC1_rW8"
      },
      "source": [
        "from note_seq.protobuf import music_pb2"
      ],
      "execution_count": 245,
      "outputs": []
    },
    {
      "cell_type": "code",
      "metadata": {
        "id": "BZwKl1n3GZTi"
      },
      "source": [
        "#rewritten to be nonvectorized: if you want multiple cells, just run it multiple times\n",
        "def gill(musicline,k,tvec,S,dt=0.1):\n",
        "    n_species = S.shape[1]\n",
        "    num_t_pts = len(tvec)\n",
        "    X_mesh = np.empty((num_t_pts,n_species),dtype=int) #change to float if storing floats!!!!!!! \n",
        "    X_mesh[:] = np.nan\n",
        "\t#initialize state\n",
        "    t = 0\n",
        "    tindex = 0\n",
        "    X = np.zeros(n_species)\n",
        "\n",
        "\t#initialize list of cells that are being simulated\n",
        "    active = True\n",
        "    while active:\n",
        "        (t_upd,mu_upd) = rxn_calculator(X,t,k,S)\n",
        "        t = t_upd\n",
        "        mu = mu_upd\n",
        "        tvec_time = tvec[tindex]\n",
        "        update = t>tvec_time\n",
        "        while update:\n",
        "            X_mesh[tindex,:] = X\n",
        "            tindex += 1\n",
        "            ended_in_update = tindex>=num_t_pts\n",
        "            if ended_in_update:\n",
        "                active = False\n",
        "                if not active:\n",
        "                    break\n",
        "            tvec_time = tvec[tindex]\n",
        "            update = t>tvec_time\n",
        "        not_burst = mu > 1\n",
        "        burst = mu == 1\n",
        "        if not_burst:\n",
        "            X += S[mu-1]\n",
        "            v_offs = 0\n",
        "        if burst:\n",
        "            bs = np.random.geometric(1/(1+S[0][0]))-1\n",
        "            X += np.matlib.hstack((bs,[0]))\n",
        "            v_offs = bs*3\n",
        "        if active:\n",
        "            add_chord(musicline,t,dt,mu,velocity=80+v_offs)\n",
        "    return X_mesh, musicline"
      ],
      "execution_count": 253,
      "outputs": []
    },
    {
      "cell_type": "code",
      "metadata": {
        "id": "pkOYoMM62WxO"
      },
      "source": [
        "def add_chord(musicline,t,dt,mu=1,inst_dict={1:10,2:11,3:12},velocity=80):\n",
        "    pitch_dict = {1:[36,38,42,46],2:[36],3:[42]}\n",
        "    pitch = pitch_dict[mu]\n",
        "    for i in range(len(pitch)):\n",
        "        musicline.notes.add(pitch=pitch[i], start_time=t, end_time=t+dt, is_drum=True, instrument=inst_dict[mu], velocity=velocity)"
      ],
      "execution_count": 247,
      "outputs": []
    },
    {
      "cell_type": "code",
      "metadata": {
        "id": "bPR6h5ku1xR_"
      },
      "source": [
        "def rxn_calculator(X,t,k,S):\n",
        "    nRxn = S.shape[0]\n",
        "    kinit = k[0]\n",
        "    a = np.zeros(nRxn,dtype=float)\n",
        "    a[0] = kinit\n",
        "    for i in range(1,nRxn):\n",
        "\t    ind = np.where(S[i,:]==-1)[0][0]\n",
        "\t    a[i] = X[ind]*k[i]\n",
        "    a0 = np.sum(a)\n",
        "    t += np.log(1./np.random.rand(nCells)) / a0\n",
        "    r2ao = a0 * np.random.rand()\n",
        "    mu = np.sum(r2ao >= np.cumsum(np.concatenate(([0],a))))\n",
        "    return (t,mu)"
      ],
      "execution_count": 248,
      "outputs": []
    },
    {
      "cell_type": "code",
      "metadata": {
        "id": "nFW_l8LzFjeY"
      },
      "source": [
        "import numpy as np\n",
        "from numpy import matlib\n",
        "import matplotlib.pyplot as plt"
      ],
      "execution_count": 249,
      "outputs": []
    },
    {
      "cell_type": "markdown",
      "metadata": {
        "id": "B2n7wEQVABgg"
      },
      "source": [
        "Define the parameters of the system. $k$ defines the transcription, splicing, and degradation rates; $bs$ defines the mean of the geometric burst distribution; $S$ defines the reaction stoichiometry matrix (where the burst size is stored in the first entry for convenience). $T$ is the simulation time horizon."
      ]
    },
    {
      "cell_type": "code",
      "metadata": {
        "id": "acnCiyYHFU5C"
      },
      "source": [
        "k = [0.4,1,1]\n",
        "T = 10\n",
        "# measure_time = T/min(k)\n",
        "measure_time = T\n",
        "bs=10\n",
        "S = np.asarray([[bs,0],[-1,1],[0,-1]])\n",
        "tvec = np.linspace(0,measure_time,1000,endpoint=True)"
      ],
      "execution_count": 260,
      "outputs": []
    },
    {
      "cell_type": "markdown",
      "metadata": {
        "id": "6VY_-FPyASPQ"
      },
      "source": [
        "Define the drum sequence and run the simulation!"
      ]
    },
    {
      "cell_type": "code",
      "metadata": {
        "id": "bJFKdtlXFnW7"
      },
      "source": [
        "drums = music_pb2.NoteSequence()\n",
        "drums.total_time = T\n",
        "\n",
        "drums.tempos.add(qpm=120)\n",
        "X,drums=gill(drums,k,tvec,S)"
      ],
      "execution_count": 261,
      "outputs": []
    },
    {
      "cell_type": "markdown",
      "metadata": {
        "id": "enV6e9QFAVj1"
      },
      "source": [
        "Plot the simulation trajectory."
      ]
    },
    {
      "cell_type": "code",
      "metadata": {
        "colab": {
          "base_uri": "https://localhost:8080/",
          "height": 298
        },
        "id": "18IpjHdb4MBB",
        "outputId": "b9a09f64-1a97-48ca-c06d-545fa9e88681"
      },
      "source": [
        "plt.plot(tvec,X)"
      ],
      "execution_count": 262,
      "outputs": [
        {
          "output_type": "execute_result",
          "data": {
            "text/plain": [
              "[<matplotlib.lines.Line2D at 0x7f5ed9540bd0>,\n",
              " <matplotlib.lines.Line2D at 0x7f5ed9540dd0>]"
            ]
          },
          "metadata": {
            "tags": []
          },
          "execution_count": 262
        },
        {
          "output_type": "display_data",
          "data": {
            "image/png": "[encoded data removed]",
            "text/plain": [
              "<Figure size 432x288 with 1 Axes>"
            ]
          },
          "metadata": {
            "tags": [],
            "needs_background": "light"
          }
        }
      ]
    },
    {
      "cell_type": "markdown",
      "metadata": {
        "id": "vALlwlS7AYmU"
      },
      "source": [
        "Visualize and play the sequence. A transcription event has several notes (with strike velocity modulated by burst size), other reactions only one. "
      ]
    },
    {
      "cell_type": "code",
      "metadata": {
        "id": "xtpm0LciE_K1",
        "colab": {
          "base_uri": "https://localhost:8080/",
          "height": 275
        },
        "outputId": "06e20f1f-a5c9-495f-89e2-8fd7f94395a9"
      },
      "source": [
        "note_seq.plot_sequence(drums)\n",
        "note_seq.play_sequence(drums,synth=note_seq.fluidsynth)"
      ],
      "execution_count": 263,
      "outputs": [
        {
          "output_type": "display_data",
          "data": {
            "application/javascript": [
              "\n",
              "(function(root) {\n",
              "  function now() {\n",
              "    return new Date();\n",
              "  }\n",
              "\n",
              "  var force = true;\n",
              "\n",
              "  if (typeof root._bokeh_onload_callbacks === \"undefined\" || force === true) {\n",
              "    root._bokeh_onload_callbacks = [];\n",
              "    root._bokeh_is_loading = undefined;\n",
              "  }\n",
              "\n",
              "  var JS_MIME_TYPE = 'application/javascript';\n",
              "  var HTML_MIME_TYPE = 'text/html';\n",
              "  var EXEC_MIME_TYPE = 'application/vnd.bokehjs_exec.v0+json';\n",
              "  var CLASS_NAME = 'output_bokeh rendered_html';\n",
              "\n",
              "  /**\n",
              "   * Render data to the DOM node\n",
              "   */\n",
              "  function render(props, node) {\n",
              "    var script = document.createElement(\"script\");\n",
              "    node.appendChild(script);\n",
              "  }\n",
              "\n",
              "  /**\n",
              "   * Handle when an output is cleared or removed\n",
              "   */\n",
              "  function handleClearOutput(event, handle) {\n",
              "    var cell = handle.cell;\n",
              "\n",
              "    var id = cell.output_area._bokeh_element_id;\n",
              "    var server_id = cell.output_area._bokeh_server_id;\n",
              "    // Clean up Bokeh references\n",
              "    if (id != null && id in Bokeh.index) {\n",
              "      Bokeh.index[id].model.document.clear();\n",
              "      delete Bokeh.index[id];\n",
              "    }\n",
              "\n",
              "    if (server_id !== undefined) {\n",
              "      // Clean up Bokeh references\n",
              "      var cmd = \"from bokeh.io.state import curstate; print(curstate().uuid_to_server['\" + server_id + \"'].get_sessions()[0].document.roots[0]._id)\";\n",
              "      cell.notebook.kernel.execute(cmd, {\n",
              "        iopub: {\n",
              "          output: function(msg) {\n",
              "            var id = msg.content.text.trim();\n",
              "            if (id in Bokeh.index) {\n",
              "              Bokeh.index[id].model.document.clear();\n",
              "              delete Bokeh.index[id];\n",
              "            }\n",
              "          }\n",
              "        }\n",
              "      });\n",
              "      // Destroy server and session\n",
              "      var cmd = \"import bokeh.io.notebook as ion; ion.destroy_server('\" + server_id + \"')\";\n",
              "      cell.notebook.kernel.execute(cmd);\n",
              "    }\n",
              "  }\n",
              "\n",
              "  /**\n",
              "   * Handle when a new output is added\n",
              "   */\n",
              "  function handleAddOutput(event, handle) {\n",
              "    var output_area = handle.output_area;\n",
              "    var output = handle.output;\n",
              "\n",
              "    // limit handleAddOutput to display_data with EXEC_MIME_TYPE content only\n",
              "    if ((output.output_type != \"display_data\") || (!Object.prototype.hasOwnProperty.call(output.data, EXEC_MIME_TYPE))) {\n",
              "      return\n",
              "    }\n",
              "\n",
              "    var toinsert = output_area.element.find(\".\" + CLASS_NAME.split(' ')[0]);\n",
              "\n",
              "    if (output.metadata[EXEC_MIME_TYPE][\"id\"] !== undefined) {\n",
              "      toinsert[toinsert.length - 1].firstChild.textContent = output.data[JS_MIME_TYPE];\n",
              "      // store reference to embed id on output_area\n",
              "      output_area._bokeh_element_id = output.metadata[EXEC_MIME_TYPE][\"id\"];\n",
              "    }\n",
              "    if (output.metadata[EXEC_MIME_TYPE][\"server_id\"] !== undefined) {\n",
              "      var bk_div = document.createElement(\"div\");\n",
              "      bk_div.innerHTML = output.data[HTML_MIME_TYPE];\n",
              "      var script_attrs = bk_div.children[0].attributes;\n",
              "      for (var i = 0; i < script_attrs.length; i++) {\n",
              "        toinsert[toinsert.length - 1].firstChild.setAttribute(script_attrs[i].name, script_attrs[i].value);\n",
              "        toinsert[toinsert.length - 1].firstChild.textContent = bk_div.children[0].textContent\n",
              "      }\n",
              "      // store reference to server id on output_area\n",
              "      output_area._bokeh_server_id = output.metadata[EXEC_MIME_TYPE][\"server_id\"];\n",
              "    }\n",
              "  }\n",
              "\n",
              "  function register_renderer(events, OutputArea) {\n",
              "\n",
              "    function append_mime(data, metadata, element) {\n",
              "      // create a DOM node to render to\n",
              "      var toinsert = this.create_output_subarea(\n",
              "        metadata,\n",
              "        CLASS_NAME,\n",
              "        EXEC_MIME_TYPE\n",
              "      );\n",
              "      this.keyboard_manager.register_events(toinsert);\n",
              "      // Render to node\n",
              "      var props = {data: data, metadata: metadata[EXEC_MIME_TYPE]};\n",
              "      render(props, toinsert[toinsert.length - 1]);\n",
              "      element.append(toinsert);\n",
              "      return toinsert\n",
              "    }\n",
              "\n",
              "    /* Handle when an output is cleared or removed */\n",
              "    events.on('clear_output.CodeCell', handleClearOutput);\n",
              "    events.on('delete.Cell', handleClearOutput);\n",
              "\n",
              "    /* Handle when a new output is added */\n",
              "    events.on('output_added.OutputArea', handleAddOutput);\n",
              "\n",
              "    /**\n",
              "     * Register the mime type and append_mime function with output_area\n",
              "     */\n",
              "    OutputArea.prototype.register_mime_type(EXEC_MIME_TYPE, append_mime, {\n",
              "      /* Is output safe? */\n",
              "      safe: true,\n",
              "      /* Index of renderer in `output_area.display_order` */\n",
              "      index: 0\n",
              "    });\n",
              "  }\n",
              "\n",
              "  // register the mime type if in Jupyter Notebook environment and previously unregistered\n",
              "  if (root.Jupyter !== undefined) {\n",
              "    var events = require('base/js/events');\n",
              "    var OutputArea = require('notebook/js/outputarea').OutputArea;\n",
              "\n",
              "    if (OutputArea.prototype.mime_types().indexOf(EXEC_MIME_TYPE) == -1) {\n",
              "      register_renderer(events, OutputArea);\n",
              "    }\n",
              "  }\n",
              "\n",
              "  \n",
              "  if (typeof (root._bokeh_timeout) === \"undefined\" || force === true) {\n",
              "    root._bokeh_timeout = Date.now() + 5000;\n",
              "    root._bokeh_failed_load = false;\n",
              "  }\n",
              "\n",
              "  var NB_LOAD_WARNING = {'data': {'text/html':\n",
              "     \"<div style='background-color: #fdd'>\\n\"+\n",
              "     \"<p>\\n\"+\n",
              "     \"BokehJS does not appear to have successfully loaded. If loading BokehJS from CDN, this \\n\"+\n",
              "     \"may be due to a slow or bad network connection. Possible fixes:\\n\"+\n",
              "     \"</p>\\n\"+\n",
              "     \"<ul>\\n\"+\n",
              "     \"<li>re-rerun `output_notebook()` to attempt to load from CDN again, or</li>\\n\"+\n",
              "     \"<li>use INLINE resources instead, as so:</li>\\n\"+\n",
              "     \"</ul>\\n\"+\n",
              "     \"<code>\\n\"+\n",
              "     \"from bokeh.resources import INLINE\\n\"+\n",
              "     \"output_notebook(resources=INLINE)\\n\"+\n",
              "     \"</code>\\n\"+\n",
              "     \"</div>\"}};\n",
              "\n",
              "  function display_loaded() {\n",
              "    var el = document.getElementById(null);\n",
              "    if (el != null) {\n",
              "      el.textContent = \"BokehJS is loading...\";\n",
              "    }\n",
              "    if (root.Bokeh !== undefined) {\n",
              "      if (el != null) {\n",
              "        el.textContent = \"BokehJS \" + root.Bokeh.version + \" successfully loaded.\";\n",
              "      }\n",
              "    } else if (Date.now() < root._bokeh_timeout) {\n",
              "      setTimeout(display_loaded, 100)\n",
              "    }\n",
              "  }\n",
              "\n",
              "\n",
              "  function run_callbacks() {\n",
              "    try {\n",
              "      root._bokeh_onload_callbacks.forEach(function(callback) {\n",
              "        if (callback != null)\n",
              "          callback();\n",
              "      });\n",
              "    } finally {\n",
              "      delete root._bokeh_onload_callbacks\n",
              "    }\n",
              "    console.debug(\"Bokeh: all callbacks have finished\");\n",
              "  }\n",
              "\n",
              "  function load_libs(css_urls, js_urls, callback) {\n",
              "    if (css_urls == null) css_urls = [];\n",
              "    if (js_urls == null) js_urls = [];\n",
              "\n",
              "    root._bokeh_onload_callbacks.push(callback);\n",
              "    if (root._bokeh_is_loading > 0) {\n",
              "      console.debug(\"Bokeh: BokehJS is being loaded, scheduling callback at\", now());\n",
              "      return null;\n",
              "    }\n",
              "    if (js_urls == null || js_urls.length === 0) {\n",
              "      run_callbacks();\n",
              "      return null;\n",
              "    }\n",
              "    console.debug(\"Bokeh: BokehJS not loaded, scheduling load and callback at\", now());\n",
              "    root._bokeh_is_loading = css_urls.length + js_urls.length;\n",
              "\n",
              "    function on_load() {\n",
              "      root._bokeh_is_loading--;\n",
              "      if (root._bokeh_is_loading === 0) {\n",
              "        console.debug(\"Bokeh: all BokehJS libraries/stylesheets loaded\");\n",
              "        run_callbacks()\n",
              "      }\n",
              "    }\n",
              "\n",
              "    function on_error(url) {\n",
              "      console.error(\"failed to load \" + url);\n",
              "    }\n",
              "\n",
              "    for (let i = 0; i < css_urls.length; i++) {\n",
              "      const url = css_urls[i];\n",
              "      const element = document.createElement(\"link\");\n",
              "      element.onload = on_load;\n",
              "      element.onerror = on_error.bind(null, url);\n",
              "      element.rel = \"stylesheet\";\n",
              "      element.type = \"text/css\";\n",
              "      element.href = url;\n",
              "      console.debug(\"Bokeh: injecting link tag for BokehJS stylesheet: \", url);\n",
              "      document.body.appendChild(element);\n",
              "    }\n",
              "\n",
              "    const hashes = {\"https://cdn.bokeh.org/bokeh/release/bokeh-2.3.3.min.js\": \"dM3QQsP+wXdHg42wTqW85BjZQdLNNIXqlPw/BgKoExPmTG7ZLML4EGqLMfqHT6ON\", \"https://cdn.bokeh.org/bokeh/release/bokeh-tables-2.3.3.min.js\": \"8x57I4YuIfu8XyZfFo0XVr2WAT8EK4rh/uDe3wF7YuW2FNUSNEpJbsPaB1nJ2fz2\", \"https://cdn.bokeh.org/bokeh/release/bokeh-widgets-2.3.3.min.js\": \"3QTqdz9LyAm2i0sG5XTePsHec3UHWwVsrOL68SYRoAXsafvfAyqtQ+h440+qIBhS\"};\n",
              "\n",
              "    for (let i = 0; i < js_urls.length; i++) {\n",
              "      const url = js_urls[i];\n",
              "      const element = document.createElement('script');\n",
              "      element.onload = on_load;\n",
              "      element.onerror = on_error.bind(null, url);\n",
              "      element.async = false;\n",
              "      element.src = url;\n",
              "      if (url in hashes) {\n",
              "        element.crossOrigin = \"anonymous\";\n",
              "        element.integrity = \"sha384-\" + hashes[url];\n",
              "      }\n",
              "      console.debug(\"Bokeh: injecting script tag for BokehJS library: \", url);\n",
              "      document.head.appendChild(element);\n",
              "    }\n",
              "  };\n",
              "\n",
              "  function inject_raw_css(css) {\n",
              "    const element = document.createElement(\"style\");\n",
              "    element.appendChild(document.createTextNode(css));\n",
              "    document.body.appendChild(element);\n",
              "  }\n",
              "\n",
              "  \n",
              "  var js_urls = [\"https://cdn.bokeh.org/bokeh/release/bokeh-2.3.3.min.js\", \"https://cdn.bokeh.org/bokeh/release/bokeh-widgets-2.3.3.min.js\", \"https://cdn.bokeh.org/bokeh/release/bokeh-tables-2.3.3.min.js\"];\n",
              "  var css_urls = [];\n",
              "  \n",
              "\n",
              "  var inline_js = [\n",
              "    function(Bokeh) {\n",
              "      Bokeh.set_log_level(\"info\");\n",
              "    },\n",
              "    function(Bokeh) {\n",
              "    \n",
              "    \n",
              "    }\n",
              "  ];\n",
              "\n",
              "  function run_inline_js() {\n",
              "    \n",
              "    if (root.Bokeh !== undefined || force === true) {\n",
              "      \n",
              "    for (var i = 0; i < inline_js.length; i++) {\n",
              "      inline_js[i].call(root, root.Bokeh);\n",
              "    }\n",
              "    } else if (Date.now() < root._bokeh_timeout) {\n",
              "      setTimeout(run_inline_js, 100);\n",
              "    } else if (!root._bokeh_failed_load) {\n",
              "      console.log(\"Bokeh: BokehJS failed to load within specified timeout.\");\n",
              "      root._bokeh_failed_load = true;\n",
              "    } else if (force !== true) {\n",
              "      var cell = $(document.getElementById(null)).parents('.cell').data().cell;\n",
              "      cell.output_area.append_execute_result(NB_LOAD_WARNING)\n",
              "    }\n",
              "\n",
              "  }\n",
              "\n",
              "  if (root._bokeh_is_loading === 0) {\n",
              "    console.debug(\"Bokeh: BokehJS loaded, going straight to plotting\");\n",
              "    run_inline_js();\n",
              "  } else {\n",
              "    load_libs(css_urls, js_urls, function() {\n",
              "      console.debug(\"Bokeh: BokehJS plotting callback run at\", now());\n",
              "      run_inline_js();\n",
              "    });\n",
              "  }\n",
              "}(window));"
            ],
            "application/vnd.bokehjs_load.v0+json": "\n(function(root) {\n  function now() {\n    return new Date();\n  }\n\n  var force = true;\n\n  if (typeof root._bokeh_onload_callbacks === \"undefined\" || force === true) {\n    root._bokeh_onload_callbacks = [];\n    root._bokeh_is_loading = undefined;\n  }\n\n  \n\n  \n  if (typeof (root._bokeh_timeout) === \"undefined\" || force === true) {\n    root._bokeh_timeout = Date.now() + 5000;\n    root._bokeh_failed_load = false;\n  }\n\n  var NB_LOAD_WARNING = {'data': {'text/html':\n     \"<div style='background-color: #fdd'>\\n\"+\n     \"<p>\\n\"+\n     \"BokehJS does not appear to have successfully loaded. If loading BokehJS from CDN, this \\n\"+\n     \"may be due to a slow or bad network connection. Possible fixes:\\n\"+\n     \"</p>\\n\"+\n     \"<ul>\\n\"+\n     \"<li>re-rerun `output_notebook()` to attempt to load from CDN again, or</li>\\n\"+\n     \"<li>use INLINE resources instead, as so:</li>\\n\"+\n     \"</ul>\\n\"+\n     \"<code>\\n\"+\n     \"from bokeh.resources import INLINE\\n\"+\n     \"output_notebook(resources=INLINE)\\n\"+\n     \"</code>\\n\"+\n     \"</div>\"}};\n\n  function display_loaded() {\n    var el = document.getElementById(null);\n    if (el != null) {\n      el.textContent = \"BokehJS is loading...\";\n    }\n    if (root.Bokeh !== undefined) {\n      if (el != null) {\n        el.textContent = \"BokehJS \" + root.Bokeh.version + \" successfully loaded.\";\n      }\n    } else if (Date.now() < root._bokeh_timeout) {\n      setTimeout(display_loaded, 100)\n    }\n  }\n\n\n  function run_callbacks() {\n    try {\n      root._bokeh_onload_callbacks.forEach(function(callback) {\n        if (callback != null)\n          callback();\n      });\n    } finally {\n      delete root._bokeh_onload_callbacks\n    }\n    console.debug(\"Bokeh: all callbacks have finished\");\n  }\n\n  function load_libs(css_urls, js_urls, callback) {\n    if (css_urls == null) css_urls = [];\n    if (js_urls == null) js_urls = [];\n\n    root._bokeh_onload_callbacks.push(callback);\n    if (root._bokeh_is_loading > 0) {\n      console.debug(\"Bokeh: BokehJS is being loaded, scheduling callback at\", now());\n      return null;\n    }\n    if (js_urls == null || js_urls.length === 0) {\n      run_callbacks();\n      return null;\n    }\n    console.debug(\"Bokeh: BokehJS not loaded, scheduling load and callback at\", now());\n    root._bokeh_is_loading = css_urls.length + js_urls.length;\n\n    function on_load() {\n      root._bokeh_is_loading--;\n      if (root._bokeh_is_loading === 0) {\n        console.debug(\"Bokeh: all BokehJS libraries/stylesheets loaded\");\n        run_callbacks()\n      }\n    }\n\n    function on_error(url) {\n      console.error(\"failed to load \" + url);\n    }\n\n    for (let i = 0; i < css_urls.length; i++) {\n      const url = css_urls[i];\n      const element = document.createElement(\"link\");\n      element.onload = on_load;\n      element.onerror = on_error.bind(null, url);\n      element.rel = \"stylesheet\";\n      element.type = \"text/css\";\n      element.href = url;\n      console.debug(\"Bokeh: injecting link tag for BokehJS stylesheet: \", url);\n      document.body.appendChild(element);\n    }\n\n    const hashes = {\"https://cdn.bokeh.org/bokeh/release/bokeh-2.3.3.min.js\": \"dM3QQsP+wXdHg42wTqW85BjZQdLNNIXqlPw/BgKoExPmTG7ZLML4EGqLMfqHT6ON\", \"https://cdn.bokeh.org/bokeh/release/bokeh-tables-2.3.3.min.js\": \"8x57I4YuIfu8XyZfFo0XVr2WAT8EK4rh/uDe3wF7YuW2FNUSNEpJbsPaB1nJ2fz2\", \"https://cdn.bokeh.org/bokeh/release/bokeh-widgets-2.3.3.min.js\": \"3QTqdz9LyAm2i0sG5XTePsHec3UHWwVsrOL68SYRoAXsafvfAyqtQ+h440+qIBhS\"};\n\n    for (let i = 0; i < js_urls.length; i++) {\n      const url = js_urls[i];\n      const element = document.createElement('script');\n      element.onload = on_load;\n      element.onerror = on_error.bind(null, url);\n      element.async = false;\n      element.src = url;\n      if (url in hashes) {\n        element.crossOrigin = \"anonymous\";\n        element.integrity = \"sha384-\" + hashes[url];\n      }\n      console.debug(\"Bokeh: injecting script tag for BokehJS library: \", url);\n      document.head.appendChild(element);\n    }\n  };\n\n  function inject_raw_css(css) {\n    const element = document.createElement(\"style\");\n    element.appendChild(document.createTextNode(css));\n    document.body.appendChild(element);\n  }\n\n  \n  var js_urls = [\"https://cdn.bokeh.org/bokeh/release/bokeh-2.3.3.min.js\", \"https://cdn.bokeh.org/bokeh/release/bokeh-widgets-2.3.3.min.js\", \"https://cdn.bokeh.org/bokeh/release/bokeh-tables-2.3.3.min.js\"];\n  var css_urls = [];\n  \n\n  var inline_js = [\n    function(Bokeh) {\n      Bokeh.set_log_level(\"info\");\n    },\n    function(Bokeh) {\n    \n    \n    }\n  ];\n\n  function run_inline_js() {\n    \n    if (root.Bokeh !== undefined || force === true) {\n      \n    for (var i = 0; i < inline_js.length; i++) {\n      inline_js[i].call(root, root.Bokeh);\n    }\n    } else if (Date.now() < root._bokeh_timeout) {\n      setTimeout(run_inline_js, 100);\n    } else if (!root._bokeh_failed_load) {\n      console.log(\"Bokeh: BokehJS failed to load within specified timeout.\");\n      root._bokeh_failed_load = true;\n    } else if (force !== true) {\n      var cell = $(document.getElementById(null)).parents('.cell').data().cell;\n      cell.output_area.append_execute_result(NB_LOAD_WARNING)\n    }\n\n  }\n\n  if (root._bokeh_is_loading === 0) {\n    console.debug(\"Bokeh: BokehJS loaded, going straight to plotting\");\n    run_inline_js();\n  } else {\n    load_libs(css_urls, js_urls, function() {\n      console.debug(\"Bokeh: BokehJS plotting callback run at\", now());\n      run_inline_js();\n    });\n  }\n}(window));"
          },
          "metadata": {
            "tags": []
          }
        },
        {
          "output_type": "display_data",
          "data": {
            "text/html": [
              "\n",
              "\n",
              "\n",
              "\n",
              "\n",
              "\n",
              "  <div class=\"bk-root\" id=\"8088acc5-52c5-430e-bd15-3bf5ca192ff0\" data-root-id=\"7704\"></div>\n"
            ]
          },
          "metadata": {
            "tags": []
          }
        },
        {
          "output_type": "display_data",
          "data": {
            "application/javascript": [
              "(function(root) {\n",
              "  function embed_document(root) {\n",
              "    \n",
              "  var docs_json = {\"7dedeec5-cd8e-4c18-a5ea-b05ab5fe0443\":{\"defs\":[],\"roots\":{\"references\":[{\"attributes\":{\"below\":[{\"id\":\"7713\"}],\"center\":[{\"id\":\"7716\"},{\"id\":\"7720\"}],\"height\":200,\"left\":[{\"id\":\"7717\"}],\"renderers\":[{\"id\":\"7740\"},{\"id\":\"7746\"},{\"id\":\"7752\"}],\"title\":{\"id\":\"7755\"},\"toolbar\":{\"id\":\"7727\"},\"width\":500,\"x_range\":{\"id\":\"7705\"},\"x_scale\":{\"id\":\"7709\"},\"y_range\":{\"id\":\"7707\"},\"y_scale\":{\"id\":\"7711\"}},\"id\":\"7704\",\"subtype\":\"Figure\",\"type\":\"Plot\"},{\"attributes\":{},\"id\":\"7714\",\"type\":\"BasicTicker\"},{\"attributes\":{\"interval\":12},\"id\":\"7733\",\"type\":\"SingleIntervalTicker\"},{\"attributes\":{\"bottom\":{\"field\":\"bottom\"},\"fill_alpha\":{\"value\":0.1},\"fill_color\":{\"value\":\"#f46d43\"},\"left\":{\"field\":\"start_time\"},\"line_alpha\":{\"value\":0.1},\"right\":{\"field\":\"end_time\"},\"top\":{\"field\":\"top\"}},\"id\":\"7751\",\"type\":\"Quad\"},{\"attributes\":{\"bottom\":{\"field\":\"bottom\"},\"fill_alpha\":{\"value\":0.1},\"fill_color\":{\"value\":\"#d53e4f\"},\"left\":{\"field\":\"start_time\"},\"line_alpha\":{\"value\":0.1},\"right\":{\"field\":\"end_time\"},\"top\":{\"field\":\"top\"}},\"id\":\"7739\",\"type\":\"Quad\"},{\"attributes\":{},\"id\":\"7757\",\"type\":\"BasicTickFormatter\"},{\"attributes\":{},\"id\":\"7724\",\"type\":\"ResetTool\"},{\"attributes\":{},\"id\":\"7755\",\"type\":\"Title\"},{\"attributes\":{\"source\":{\"id\":\"7736\"}},\"id\":\"7741\",\"type\":\"CDSView\"},{\"attributes\":{},\"id\":\"7758\",\"type\":\"AllLabels\"},{\"attributes\":{\"data\":{\"bottom\":{\"__ndarray__\":\"zczMzMzMREDNzMzMzMxEQM3MzMzMzERAzczMzMzMREDNzMzMzMxEQM3MzMzMzERAzczMzMzMREDNzMzMzMxEQM3MzMzMzERAzczMzMzMREDNzMzMzMxEQM3MzMzMzERAzczMzMzMREDNzMzMzMxEQM3MzMzMzERAzczMzMzMREDNzMzMzMxEQM3MzMzMzERAzczMzMzMREDNzMzMzMxEQM3MzMzMzERAzczMzMzMREDNzMzMzMxEQM3MzMzMzERAzczMzMzMREDNzMzMzMxEQM3MzMzMzERAzczMzMzMREDNzMzMzMxEQM3MzMzMzERAzczMzMzMREDNzMzMzMxEQM3MzMzMzERA\",\"dtype\":\"float64\",\"order\":\"little\",\"shape\":[33]},\"duration\":{\"__ndarray__\":\"oJmZmZmZuT+gmZmZmZm5P6CZmZmZmbk/oJmZmZmZuT+AmZmZmZm5P4CZmZmZmbk/gJmZmZmZuT+AmZmZmZm5P4CZmZmZmbk/gJmZmZmZuT+AmZmZmZm5P4CZmZmZmbk/gJmZmZmZuT+AmZmZmZm5P4CZmZmZmbk/gJmZmZmZuT+AmZmZmZm5P4CZmZmZmbk/gJmZmZmZuT+AmZmZmZm5P4CZmZmZmbk/gJmZmZmZuT+AmZmZmZm5P4CZmZmZmbk/gJmZmZmZuT+AmZmZmZm5P4CZmZmZmbk/gJmZmZmZuT+AmZmZmZm5P4CZmZmZmbk/gJmZmZmZuT+AmZmZmZm5P4CZmZmZmbk/\",\"dtype\":\"float64\",\"order\":\"little\",\"shape\":[33]},\"end_time\":{\"__ndarray__\":\"0ncobJF8B0A5dD6YmtMIQFj+ZlY7mA1AtVAxgy67DkCsfVs2qXoQQLlrBOU5exBAtkF1omnGEECXv5wEhPgQQNbkCvQUfRFAM+n7e5inE0CnTiSZ/TkUQMkuCcisTBRARS6mJP6QFEBPhtB9CyccQIdo5I9QPBxAW3/DayojHUAipZYocpwdQIADqJvZrh1AmLHKEL0jHkBTUlpvdcsfQAJ5312nzh9AQwpjQvBKIEB68WOwe1YgQCoFryv35SBA1y7fjXwOIkAC0sbPjGgiQDTWmVcuqiJAd6Kgd1rIIkB+3biV1NQiQPwXercwOyNApYDEhLw/I0BSnnaF6twjQDgO27Q5LiRA\",\"dtype\":\"float64\",\"order\":\"little\",\"shape\":[33]},\"fill_alpha\":{\"__ndarray__\":\"AAAAAAAA5D8AAAAAAADkPwAAAAAAAOQ/AAAAAAAA5D8AAAAAAADkPwAAAAAAAOQ/AAAAAAAA5D8AAAAAAADkPwAAAAAAAOQ/AAAAAAAA5D8AAAAAAADkPwAAAAAAAOQ/AAAAAAAA5D8AAAAAAADkPwAAAAAAAOQ/AAAAAAAA5D8AAAAAAADkPwAAAAAAAOQ/AAAAAAAA5D8AAAAAAADkPwAAAAAAAOQ/AAAAAAAA5D8AAAAAAADkPwAAAAAAAOQ/AAAAAAAA5D8AAAAAAADkPwAAAAAAAOQ/AAAAAAAA5D8AAAAAAADkPwAAAAAAAOQ/AAAAAAAA5D8AAAAAAADkPwAAAAAAAOQ/\",\"dtype\":\"float64\",\"order\":\"little\",\"shape\":[33]},\"index\":[12,14,20,21,25,26,28,29,32,35,36,37,38,50,52,55,58,60,61,66,67,71,73,74,76,77,84,86,87,92,94,97,99],\"instrument\":[12,12,12,12,12,12,12,12,12,12,12,12,12,12,12,12,12,12,12,12,12,12,12,12,12,12,12,12,12,12,12,12,12],\"pitch\":[42,42,42,42,42,42,42,42,42,42,42,42,42,42,42,42,42,42,42,42,42,42,42,42,42,42,42,42,42,42,42,42,42],\"program\":[0,0,0,0,0,0,0,0,0,0,0,0,0,0,0,0,0,0,0,0,0,0,0,0,0,0,0,0,0,0,0,0,0],\"start_time\":{\"__ndarray__\":\"Batbn8SvBkBsp3HLzQYIQIsxmoluywxA6INktmHuDUBGF/XPQhQQQFMFnn7TFBBAUNsOPANgEEAxWTaeHZIQQHB+pI2uFhFAzYKVFTJBE0BB6L0yl9MTQGPIomFG5hNA38c/vpcqFEDpH2oXpcAbQCECfinq1RtA9RhdBcS8HEC8PjDCCzYdQBqdQTVzSB1AMktkqla9HUDt6/MID2UfQJwSefdAaB9AENcvD70XIEBHvjB9SCMgQPfRe/jDsiBApPurWknbIUDPnpOcWTUiQAGjZiT7diJARG9tRCeVIkBLqoVioaEiQMnkRoT9ByNAck2RUYkMI0Afa0NSt6kjQAXbp4EG+yNA\",\"dtype\":\"float64\",\"order\":\"little\",\"shape\":[33]},\"top\":{\"__ndarray__\":\"MzMzMzMzRUAzMzMzMzNFQDMzMzMzM0VAMzMzMzMzRUAzMzMzMzNFQDMzMzMzM0VAMzMzMzMzRUAzMzMzMzNFQDMzMzMzM0VAMzMzMzMzRUAzMzMzMzNFQDMzMzMzM0VAMzMzMzMzRUAzMzMzMzNFQDMzMzMzM0VAMzMzMzMzRUAzMzMzMzNFQDMzMzMzM0VAMzMzMzMzRUAzMzMzMzNFQDMzMzMzM0VAMzMzMzMzRUAzMzMzMzNFQDMzMzMzM0VAMzMzMzMzRUAzMzMzMzNFQDMzMzMzM0VAMzMzMzMzRUAzMzMzMzNFQDMzMzMzM0VAMzMzMzMzRUAzMzMzMzNFQDMzMzMzM0VA\",\"dtype\":\"float64\",\"order\":\"little\",\"shape\":[33]},\"velocity\":[80,80,80,80,80,80,80,80,80,80,80,80,80,80,80,80,80,80,80,80,80,80,80,80,80,80,80,80,80,80,80,80,80]},\"selected\":{\"id\":\"7766\"},\"selection_policy\":{\"id\":\"7765\"}},\"id\":\"7748\",\"type\":\"ColumnDataSource\"},{\"attributes\":{\"axis\":{\"id\":\"7717\"},\"dimension\":1,\"ticker\":{\"id\":\"7735\"}},\"id\":\"7720\",\"type\":\"Grid\"},{\"attributes\":{},\"id\":\"7707\",\"type\":\"DataRange1d\"},{\"attributes\":{\"callback\":null,\"tooltips\":[[\"pitch\",\"@pitch\"],[\"program\",\"@program\"],[\"velo\",\"@velocity\"],[\"duration\",\"@duration\"],[\"start_time\",\"@start_time\"],[\"end_time\",\"@end_time\"],[\"velocity\",\"@velocity\"],[\"fill_alpha\",\"@fill_alpha\"]]},\"id\":\"7721\",\"type\":\"HoverTool\"},{\"attributes\":{\"bottom\":{\"field\":\"bottom\"},\"fill_alpha\":{\"field\":\"fill_alpha\"},\"fill_color\":{\"value\":\"#3288bd\"},\"left\":{\"field\":\"start_time\"},\"right\":{\"field\":\"end_time\"},\"top\":{\"field\":\"top\"}},\"id\":\"7744\",\"type\":\"Quad\"},{\"attributes\":{\"source\":{\"id\":\"7742\"}},\"id\":\"7747\",\"type\":\"CDSView\"},{\"attributes\":{},\"id\":\"7762\",\"type\":\"Selection\"},{\"attributes\":{},\"id\":\"7709\",\"type\":\"LinearScale\"},{\"attributes\":{\"data_source\":{\"id\":\"7748\"},\"glyph\":{\"id\":\"7750\"},\"hover_glyph\":null,\"muted_glyph\":null,\"nonselection_glyph\":{\"id\":\"7751\"},\"view\":{\"id\":\"7753\"}},\"id\":\"7752\",\"type\":\"GlyphRenderer\"},{\"attributes\":{\"data\":{\"bottom\":{\"__ndarray__\":\"zczMzMzMQUDNzMzMzMxBQM3MzMzMzEFAzczMzMzMQUDNzMzMzMxBQM3MzMzMzEFAzczMzMzMQUDNzMzMzMxBQM3MzMzMzEFAzczMzMzMQUDNzMzMzMxBQM3MzMzMzEFAzczMzMzMQUDNzMzMzMxBQM3MzMzMzEFAzczMzMzMQUDNzMzMzMxBQM3MzMzMzEFAzczMzMzMQUDNzMzMzMxBQM3MzMzMzEFAzczMzMzMQUDNzMzMzMxBQM3MzMzMzEFAzczMzMzMQUDNzMzMzMxBQM3MzMzMzEFAzczMzMzMQUDNzMzMzMxBQM3MzMzMzEFAzczMzMzMQUDNzMzMzMxBQM3MzMzMzEFAzczMzMzMQUDNzMzMzMxBQM3MzMzMzEFAzczMzMzMQUDNzMzMzMxBQM3MzMzMzEFAzczMzMzMQUDNzMzMzMxBQM3MzMzMzEFAzczMzMzMQUA=\",\"dtype\":\"float64\",\"order\":\"little\",\"shape\":[43]},\"duration\":{\"__ndarray__\":\"kJmZmZmZuT+gmZmZmZm5P6CZmZmZmbk/oJmZmZmZuT+gmZmZmZm5P6CZmZmZmbk/oJmZmZmZuT+gmZmZmZm5P4CZmZmZmbk/gJmZmZmZuT+AmZmZmZm5P4CZmZmZmbk/gJmZmZmZuT+AmZmZmZm5P4CZmZmZmbk/gJmZmZmZuT+AmZmZmZm5P4CZmZmZmbk/gJmZmZmZuT+AmZmZmZm5P4CZmZmZmbk/gJmZmZmZuT+AmZmZmZm5P4CZmZmZmbk/gJmZmZmZuT+AmZmZmZm5P4CZmZmZmbk/gJmZmZmZuT+AmZmZmZm5P4CZmZmZmbk/gJmZmZmZuT+AmZmZmZm5P4CZmZmZmbk/gJmZmZmZuT+AmZmZmZm5P4CZmZmZmbk/gJmZmZmZuT+AmZmZmZm5P4CZmZmZmbk/gJmZmZmZuT+AmZmZmZm5P4CZmZmZmbk/gJmZmZmZuT8=\",\"dtype\":\"float64\",\"order\":\"little\",\"shape\":[43]},\"end_time\":{\"__ndarray__\":\"nsSKo24GAEBEEgEjFA4EQFXwQ41yiwVAzHi7ngziBUCLvCuXvO8HQI+8GG77Zg1AYOTiioMvD0CFefG6ywIQQGdoQqd7VRBAE7LJF62tEEB+/l8SyBsRQPnHeS5hQxFAMOfdFgVMEkDGD9H4BZsTQNpYjLS3kxRAtkPZgjruG0CwV6TRyRAcQENNxOkoLBxAWk2/ycTDHEBjy2Wyz8UcQA/+Qx8NZB1AccsP/MVyHUDcpoyLXZ8dQG9sD1PZoR5APQeGPgvhHkB2mlsQ9LcfQA6/tiewxB9ASDz7JlrkH0CRFM4icRAgQKOBnH4fSCBAREoyo9hMIEBO52EmyfYgQHWpwxnUgSJA5kOrhciRIkCNeyYvBKsiQMmuNb9M/CJA3Ey7Ur42I0AINZaxuDcjQK//9NB9OCNA1Nlxi6k7I0DvOIT6K2AjQD3r8qX4uSNAIJxeyqwFJEA=\",\"dtype\":\"float64\",\"order\":\"little\",\"shape\":[43]},\"fill_alpha\":{\"__ndarray__\":\"AAAAAAAA5D8AAAAAAADkPwAAAAAAAOQ/AAAAAAAA5D8AAAAAAADkPwAAAAAAAOQ/AAAAAAAA5D8AAAAAAADkPwAAAAAAAOQ/AAAAAAAA5D8AAAAAAADkPwAAAAAAAOQ/AAAAAAAA5D8AAAAAAADkPwAAAAAAAOQ/AAAAAAAA5D8AAAAAAADkPwAAAAAAAOQ/AAAAAAAA5D8AAAAAAADkPwAAAAAAAOQ/AAAAAAAA5D8AAAAAAADkPwAAAAAAAOQ/AAAAAAAA5D8AAAAAAADkPwAAAAAAAOQ/AAAAAAAA5D8AAAAAAADkPwAAAAAAAOQ/AAAAAAAA5D8AAAAAAADkPwAAAAAAAOQ/AAAAAAAA5D8AAAAAAADkPwAAAAAAAOQ/AAAAAAAA5D8AAAAAAADkPwAAAAAAAOQ/AAAAAAAA5D8AAAAAAADkPwAAAAAAAOQ/AAAAAAAA5D8=\",\"dtype\":\"float64\",\"order\":\"little\",\"shape\":[43]},\"index\":[4,9,10,11,13,19,22,23,24,27,30,31,33,34,39,48,49,51,53,54,56,57,59,62,63,64,65,68,69,70,72,75,82,83,85,88,89,90,91,93,95,96,98],\"instrument\":[11,11,11,11,11,11,11,11,11,11,11,11,11,11,11,11,11,11,11,11,11,11,11,11,11,11,11,11,11,11,11,11,11,11,11,11,11,11,11,11,11,11,11],\"pitch\":[36,36,36,36,36,36,36,36,36,36,36,36,36,36,36,36,36,36,36,36,36,36,36,36,36,36,36,36,36,36,36,36,36,36,36,36,36,36,36,36,36,36,36],\"program\":[0,0,0,0,0,0,0,0,0,0,0,0,0,0,0,0,0,0,0,0,0,0,0,0,0,0,0,0,0,0,0,0,0,0,0,0,0,0,0,0,0,0,0],\"start_time\":{\"__ndarray__\":\"o+97rUNz/j93RTRWR0EDQIgjd8ClvgRA/6vu0T8VBUC+717K7yIHQMLvS6EumgxAkxcWvrZiDkA9JhapyjgPQAIEuIEq3g9ArUtjsUZHEEAYmPmrYbUQQJNhE8j63BBAyoB3sJ7lEUBgqWqSnzQTQHTyJU5RLRRAUN1yHNSHG0BK8T1rY6obQN3mXYPCxRtA9OZYY15dHED9ZP9LaV8cQKmX3bim/RxAC2WplV8MHUB2QCYl9zgdQAkGqexyOx5A16Af2KR6HkAQNPWpjVEfQKhYUMFJXh9A4tWUwPN9H0C8wjXfe7ofQHBOaUvsFCBAERf/b6UZIEAbtC7zlcMgQEJ2kOagTiJAsxB4UpVeIkBaSPP70HciQJZ7AowZySJAqRmIH4sDI0DVAWN+hQQjQHzMwZ1KBSNAoaY+WHYII0C8BVHH+CwjQAq4v3LFhiNA7Wgrl3nSI0A=\",\"dtype\":\"float64\",\"order\":\"little\",\"shape\":[43]},\"top\":{\"__ndarray__\":\"MzMzMzMzQkAzMzMzMzNCQDMzMzMzM0JAMzMzMzMzQkAzMzMzMzNCQDMzMzMzM0JAMzMzMzMzQkAzMzMzMzNCQDMzMzMzM0JAMzMzMzMzQkAzMzMzMzNCQDMzMzMzM0JAMzMzMzMzQkAzMzMzMzNCQDMzMzMzM0JAMzMzMzMzQkAzMzMzMzNCQDMzMzMzM0JAMzMzMzMzQkAzMzMzMzNCQDMzMzMzM0JAMzMzMzMzQkAzMzMzMzNCQDMzMzMzM0JAMzMzMzMzQkAzMzMzMzNCQDMzMzMzM0JAMzMzMzMzQkAzMzMzMzNCQDMzMzMzM0JAMzMzMzMzQkAzMzMzMzNCQDMzMzMzM0JAMzMzMzMzQkAzMzMzMzNCQDMzMzMzM0JAMzMzMzMzQkAzMzMzMzNCQDMzMzMzM0JAMzMzMzMzQkAzMzMzMzNCQDMzMzMzM0JAMzMzMzMzQkA=\",\"dtype\":\"float64\",\"order\":\"little\",\"shape\":[43]},\"velocity\":[80,80,80,80,80,80,80,80,80,80,80,80,80,80,80,80,80,80,80,80,80,80,80,80,80,80,80,80,80,80,80,80,80,80,80,80,80,80,80,80,80,80,80]},\"selected\":{\"id\":\"7764\"},\"selection_policy\":{\"id\":\"7763\"}},\"id\":\"7742\",\"type\":\"ColumnDataSource\"},{\"attributes\":{},\"id\":\"7766\",\"type\":\"Selection\"},{\"attributes\":{\"data_source\":{\"id\":\"7742\"},\"glyph\":{\"id\":\"7744\"},\"hover_glyph\":null,\"muted_glyph\":null,\"nonselection_glyph\":{\"id\":\"7745\"},\"view\":{\"id\":\"7747\"}},\"id\":\"7746\",\"type\":\"GlyphRenderer\"},{\"attributes\":{\"interval\":12},\"id\":\"7735\",\"type\":\"SingleIntervalTicker\"},{\"attributes\":{\"bottom_units\":\"screen\",\"fill_alpha\":0.5,\"fill_color\":\"lightgrey\",\"left_units\":\"screen\",\"level\":\"overlay\",\"line_alpha\":1.0,\"line_color\":\"black\",\"line_dash\":[4,4],\"line_width\":2,\"right_units\":\"screen\",\"syncable\":false,\"top_units\":\"screen\"},\"id\":\"7726\",\"type\":\"BoxAnnotation\"},{\"attributes\":{\"overlay\":{\"id\":\"7726\"}},\"id\":\"7723\",\"type\":\"BoxZoomTool\"},{\"attributes\":{\"axis\":{\"id\":\"7713\"},\"ticker\":null},\"id\":\"7716\",\"type\":\"Grid\"},{\"attributes\":{\"bottom\":{\"field\":\"bottom\"},\"fill_alpha\":{\"field\":\"fill_alpha\"},\"fill_color\":{\"value\":\"#f46d43\"},\"left\":{\"field\":\"start_time\"},\"right\":{\"field\":\"end_time\"},\"top\":{\"field\":\"top\"}},\"id\":\"7750\",\"type\":\"Quad\"},{\"attributes\":{},\"id\":\"7765\",\"type\":\"UnionRenderers\"},{\"attributes\":{\"data_source\":{\"id\":\"7736\"},\"glyph\":{\"id\":\"7738\"},\"hover_glyph\":null,\"muted_glyph\":null,\"nonselection_glyph\":{\"id\":\"7739\"},\"view\":{\"id\":\"7741\"}},\"id\":\"7740\",\"type\":\"GlyphRenderer\"},{\"attributes\":{},\"id\":\"7761\",\"type\":\"UnionRenderers\"},{\"attributes\":{},\"id\":\"7722\",\"type\":\"PanTool\"},{\"attributes\":{},\"id\":\"7764\",\"type\":\"Selection\"},{\"attributes\":{\"axis_label\":\"pitch (MIDI)\",\"formatter\":{\"id\":\"7759\"},\"major_label_policy\":{\"id\":\"7760\"},\"ticker\":{\"id\":\"7733\"}},\"id\":\"7717\",\"type\":\"LinearAxis\"},{\"attributes\":{\"bottom\":{\"field\":\"bottom\"},\"fill_alpha\":{\"value\":0.1},\"fill_color\":{\"value\":\"#3288bd\"},\"left\":{\"field\":\"start_time\"},\"line_alpha\":{\"value\":0.1},\"right\":{\"field\":\"end_time\"},\"top\":{\"field\":\"top\"}},\"id\":\"7745\",\"type\":\"Quad\"},{\"attributes\":{},\"id\":\"7705\",\"type\":\"DataRange1d\"},{\"attributes\":{\"bottom\":{\"field\":\"bottom\"},\"fill_alpha\":{\"field\":\"fill_alpha\"},\"fill_color\":{\"value\":\"#d53e4f\"},\"left\":{\"field\":\"start_time\"},\"right\":{\"field\":\"end_time\"},\"top\":{\"field\":\"top\"}},\"id\":\"7738\",\"type\":\"Quad\"},{\"attributes\":{},\"id\":\"7760\",\"type\":\"AllLabels\"},{\"attributes\":{},\"id\":\"7725\",\"type\":\"SaveTool\"},{\"attributes\":{},\"id\":\"7711\",\"type\":\"LinearScale\"},{\"attributes\":{\"source\":{\"id\":\"7748\"}},\"id\":\"7753\",\"type\":\"CDSView\"},{\"attributes\":{},\"id\":\"7763\",\"type\":\"UnionRenderers\"},{\"attributes\":{\"active_multi\":null,\"tools\":[{\"id\":\"7721\"},{\"id\":\"7722\"},{\"id\":\"7723\"},{\"id\":\"7724\"},{\"id\":\"7725\"}]},\"id\":\"7727\",\"type\":\"Toolbar\"},{\"attributes\":{},\"id\":\"7759\",\"type\":\"BasicTickFormatter\"},{\"attributes\":{\"axis_label\":\"time (sec)\",\"formatter\":{\"id\":\"7757\"},\"major_label_policy\":{\"id\":\"7758\"},\"ticker\":{\"id\":\"7714\"}},\"id\":\"7713\",\"type\":\"LinearAxis\"},{\"attributes\":{\"data\":{\"bottom\":{\"__ndarray__\":\"zczMzMzMQUDNzMzMzMxCQM3MzMzMzERAzczMzMzMRkDNzMzMzMxBQM3MzMzMzEJAzczMzMzMREDNzMzMzMxGQM3MzMzMzEFAzczMzMzMQkDNzMzMzMxEQM3MzMzMzEZAzczMzMzMQUDNzMzMzMxCQM3MzMzMzERAzczMzMzMRkDNzMzMzMxBQM3MzMzMzEJAzczMzMzMREDNzMzMzMxGQM3MzMzMzEFAzczMzMzMQkDNzMzMzMxEQM3MzMzMzEZA\",\"dtype\":\"float64\",\"order\":\"little\",\"shape\":[24]},\"duration\":{\"__ndarray__\":\"oJmZmZmZuT+gmZmZmZm5P6CZmZmZmbk/oJmZmZmZuT+gmZmZmZm5P6CZmZmZmbk/oJmZmZmZuT+gmZmZmZm5P6CZmZmZmbk/oJmZmZmZuT+gmZmZmZm5P6CZmZmZmbk/gJmZmZmZuT+AmZmZmZm5P4CZmZmZmbk/gJmZmZmZuT+AmZmZmZm5P4CZmZmZmbk/gJmZmZmZuT+AmZmZmZm5P4CZmZmZmbk/gJmZmZmZuT+AmZmZmZm5P4CZmZmZmbk/\",\"dtype\":\"float64\",\"order\":\"little\",\"shape\":[24]},\"end_time\":{\"__ndarray__\":\"e4Bj/O05/T97gGP87Tn9P3uAY/ztOf0/e4Bj/O05/T9iORp7bVUCQGI5GnttVQJAYjkae21VAkBiORp7bVUCQEEgOjdk6QxAQSA6N2TpDEBBIDo3ZOkMQEEgOjdk6QxA0GnobercGUDQaeht6twZQNBp6G3q3BlA0GnobercGUDUO8jw+r8bQNQ7yPD6vxtA1DvI8Pq/G0DUO8jw+r8bQEkHlL9ybiJASQeUv3JuIkBJB5S/cm4iQEkHlL9ybiJA\",\"dtype\":\"float64\",\"order\":\"little\",\"shape\":[24]},\"fill_alpha\":{\"__ndarray__\":\"AAAAAABA5j8AAAAAAEDmPwAAAAAAQOY/AAAAAABA5j8AAAAAAADnPwAAAAAAAOc/AAAAAAAA5z8AAAAAAADnPwAAAAAAAOo/AAAAAAAA6j8AAAAAAADqPwAAAAAAAOo/AAAAAADA5D8AAAAAAMDkPwAAAAAAwOQ/AAAAAADA5D8AAAAAAADwPwAAAAAAAPA/AAAAAAAA8D8AAAAAAADwPwAAAAAA4PE/AAAAAADg8T8AAAAAAODxPwAAAAAA4PE/\",\"dtype\":\"float64\",\"order\":\"little\",\"shape\":[24]},\"index\":[0,1,2,3,5,6,7,8,15,16,17,18,40,41,42,43,44,45,46,47,78,79,80,81],\"instrument\":[10,10,10,10,10,10,10,10,10,10,10,10,10,10,10,10,10,10,10,10,10,10,10,10],\"pitch\":[36,38,42,46,36,38,42,46,36,38,42,46,36,38,42,46,36,38,42,46,36,38,42,46],\"program\":[0,0,0,0,0,0,0,0,0,0,0,0,0,0,0,0,0,0,0,0,0,0,0,0],\"start_time\":{\"__ndarray__\":\"4ebJYlSg+z/h5sliVKD7P+HmyWJUoPs/4ebJYlSg+z+VbE2uoIgBQJVsTa6giAFAlWxNrqCIAUCVbE2uoIgBQHRTbWqXHAxAdFNtapccDEB0U21qlxwMQHRTbWqXHAxAagOCB4R2GUBqA4IHhHYZQGoDggeEdhlAagOCB4R2GUBu1WGKlFkbQG7VYYqUWRtAbtVhipRZG0Bu1WGKlFkbQBbUYIw/OyJAFtRgjD87IkAW1GCMPzsiQBbUYIw/OyJA\",\"dtype\":\"float64\",\"order\":\"little\",\"shape\":[24]},\"top\":{\"__ndarray__\":\"MzMzMzMzQkAzMzMzMzNDQDMzMzMzM0VAMzMzMzMzR0AzMzMzMzNCQDMzMzMzM0NAMzMzMzMzRUAzMzMzMzNHQDMzMzMzM0JAMzMzMzMzQ0AzMzMzMzNFQDMzMzMzM0dAMzMzMzMzQkAzMzMzMzNDQDMzMzMzM0VAMzMzMzMzR0AzMzMzMzNCQDMzMzMzM0NAMzMzMzMzRUAzMzMzMzNHQDMzMzMzM0JAMzMzMzMzQ0AzMzMzMzNFQDMzMzMzM0dA\",\"dtype\":\"float64\",\"order\":\"little\",\"shape\":[24]},\"velocity\":[89,89,89,89,92,92,92,92,104,104,104,104,83,83,83,83,128,128,128,128,143,143,143,143]},\"selected\":{\"id\":\"7762\"},\"selection_policy\":{\"id\":\"7761\"}},\"id\":\"7736\",\"type\":\"ColumnDataSource\"}],\"root_ids\":[\"7704\"]},\"title\":\"Bokeh Application\",\"version\":\"2.3.3\"}};\n",
              "  var render_items = [{\"docid\":\"7dedeec5-cd8e-4c18-a5ea-b05ab5fe0443\",\"root_ids\":[\"7704\"],\"roots\":{\"7704\":\"8088acc5-52c5-430e-bd15-3bf5ca192ff0\"}}];\n",
              "  root.Bokeh.embed.embed_items_notebook(docs_json, render_items);\n",
              "\n",
              "  }\n",
              "  if (root.Bokeh !== undefined) {\n",
              "    embed_document(root);\n",
              "  } else {\n",
              "    var attempts = 0;\n",
              "    var timer = setInterval(function(root) {\n",
              "      if (root.Bokeh !== undefined) {\n",
              "        clearInterval(timer);\n",
              "        embed_document(root);\n",
              "      } else {\n",
              "        attempts++;\n",
              "        if (attempts > 100) {\n",
              "          clearInterval(timer);\n",
              "          console.log(\"Bokeh: ERROR: Unable to run BokehJS code because BokehJS library is missing\");\n",
              "        }\n",
              "      }\n",
              "    }, 10, root)\n",
              "  }\n",
              "})(window);"
            ],
            "application/vnd.bokehjs_exec.v0+json": ""
          },
          "metadata": {
            "tags": [],
            "application/vnd.bokehjs_exec.v0+json": {
              "id": "7704"
            }
          }
        },
        {
          "output_type": "display_data",
          "data": {
            "text/html": [
              "<div id=\"id_27\"> </div>"
            ],
            "text/plain": [
              "<IPython.core.display.HTML object>"
            ]
          },
          "metadata": {
            "tags": []
          }
        }
      ]
    },
    {
      "cell_type": "code",
      "metadata": {
        "id": "MrQL05zqBBOQ"
      },
      "source": [
        ""
      ],
      "execution_count": null,
      "outputs": []
    }
  ]
}