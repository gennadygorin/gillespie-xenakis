{
  "nbformat": 4,
  "nbformat_minor": 0,
  "metadata": {
    "colab": {
      "name": "gg210728_music.ipynb",
      "provenance": [],
      "collapsed_sections": [],
      "toc_visible": true,
      "include_colab_link": true
    },
    "kernelspec": {
      "display_name": "Python 3",
      "name": "python3"
    }
  },
  "cells": [
    {
      "cell_type": "markdown",
      "metadata": {
        "id": "view-in-github",
        "colab_type": "text"
      },
      "source": [
        "<a href=\"https://colab.research.google.com/github/gennadygorin/gillespie-xenakis/blob/main/gg210728_music.ipynb\" target=\"_parent\"><img src=\"https://colab.research.google.com/assets/colab-badge.svg\" alt=\"Open In Colab\"/></a>"
      ]
    },
    {
      "cell_type": "markdown",
      "metadata": {
        "id": "dPkdg9jTjkTd"
      },
      "source": [
        "# Gillespie-Xenakis\n",
        "\n",
        "This notebook uses the [Magenta library](https://magenta.tensorflow.org/) to synthesize audio representations of stochastic process realizations, as simulated by the [Gillespie algorithm](https://www.sciencedirect.com/science/article/pii/0021999176900413). It is based on a [sample Magenta notebook](https://colab.research.google.com/notebooks/magenta/hello_magenta/hello_magenta.ipynb)."
      ]
    },
    {
      "cell_type": "markdown",
      "metadata": {
        "id": "zJbq5TmtFJUU"
      },
      "source": [
        "# Install dependencies"
      ]
    },
    {
      "cell_type": "code",
      "metadata": {
        "cellView": "both",
        "id": "PfRDVhNs3UFx"
      },
      "source": [
        "%%capture\n",
        "#@test {\"output\": \"ignore\"}\n",
        "print('Installing dependencies...')\n",
        "!apt-get update -qq && apt-get install -qq libfluidsynth1 fluid-soundfont-gm build-essential libasound2-dev libjack-dev\n",
        "!pip install -qU pyfluidsynth pretty_midi\n",
        "\n",
        "!pip install -qU magenta\n",
        "\n",
        "# Hack to allow python to pick up the newly-installed fluidsynth lib. \n",
        "# This is only needed for the hosted Colab environment.\n",
        "import ctypes.util\n",
        "orig_ctypes_util_find_library = ctypes.util.find_library\n",
        "def proxy_find_library(lib):\n",
        "  if lib == 'fluidsynth':\n",
        "    return 'libfluidsynth.so.1'\n",
        "  else:\n",
        "    return orig_ctypes_util_find_library(lib)\n",
        "ctypes.util.find_library = proxy_find_library\n",
        "\n",
        "print('Importing libraries and defining some helper functions...')\n",
        "from google.colab import files\n",
        "\n",
        "import magenta\n",
        "import note_seq\n",
        "import tensorflow\n",
        "\n",
        "print('🎉 Done!')\n",
        "print(magenta.__version__)\n",
        "print(tensorflow.__version__)"
      ],
      "execution_count": 1,
      "outputs": []
    },
    {
      "cell_type": "markdown",
      "metadata": {
        "id": "keOzlQwB_s7L"
      },
      "source": [
        "# Import package and define simulation\n",
        "\n",
        "For now, the notebook has a very simple bursty production - isomerization - degradation reaction system:\n",
        "$\\varnothing \\to B\\times \\mathcal{U} \\to \\mathcal{S} \\to \\varnothing$, where $B$ is geometrically distributed."
      ]
    },
    {
      "cell_type": "code",
      "metadata": {
        "id": "E9YTPnC1_rW8"
      },
      "source": [
        "from note_seq.protobuf import music_pb2"
      ],
      "execution_count": 245,
      "outputs": []
    },
    {
      "cell_type": "code",
      "metadata": {
        "id": "BZwKl1n3GZTi"
      },
      "source": [
        "#rewritten to be nonvectorized: if you want multiple cells, just run it multiple times\n",
        "def gillvec(musicline,k,tvec,S,dt=0.1):\n",
        "    n_species = S.shape[1]\n",
        "    num_t_pts = len(tvec)\n",
        "    X_mesh = np.empty((num_t_pts,n_species),dtype=int) #change to float if storing floats!!!!!!! \n",
        "    X_mesh[:] = np.nan\n",
        "\t#initialize state\n",
        "    t = 0\n",
        "    tindex = 0\n",
        "    X = np.zeros(n_species)\n",
        "\n",
        "\t#initialize list of cells that are being simulated\n",
        "    active = True\n",
        "    while active:\n",
        "        (t_upd,mu_upd) = rxn_calculator(X,t,k,S)\n",
        "        t = t_upd\n",
        "        mu = mu_upd\n",
        "        tvec_time = tvec[tindex]\n",
        "        update = t>tvec_time\n",
        "        while update:\n",
        "            X_mesh[tindex,:] = X\n",
        "            tindex += 1\n",
        "            ended_in_update = tindex>=num_t_pts\n",
        "            if ended_in_update:\n",
        "                active = False\n",
        "                if not active:\n",
        "                    break\n",
        "            tvec_time = tvec[tindex]\n",
        "            update = t>tvec_time\n",
        "        not_burst = mu > 1\n",
        "        burst = mu == 1\n",
        "        if not_burst:\n",
        "            X += S[mu-1]\n",
        "            v_offs = 0\n",
        "        if burst:\n",
        "            bs = np.random.geometric(1/(1+S[0][0]))-1\n",
        "            X += np.matlib.hstack((bs,[0]))\n",
        "            v_offs = bs*3\n",
        "        if active:\n",
        "            add_chord(musicline,t,dt,mu,velocity=80+v_offs)\n",
        "    return X_mesh, musicline"
      ],
      "execution_count": 246,
      "outputs": []
    },
    {
      "cell_type": "code",
      "metadata": {
        "id": "pkOYoMM62WxO"
      },
      "source": [
        "def add_chord(musicline,t,dt,mu=1,inst_dict={1:10,2:11,3:12},velocity=80):\n",
        "    pitch_dict = {1:[36,38,42,46],2:[36],3:[42]}\n",
        "    pitch = pitch_dict[mu]\n",
        "    for i in range(len(pitch)):\n",
        "        musicline.notes.add(pitch=pitch[i], start_time=t, end_time=t+dt, is_drum=True, instrument=inst_dict[mu], velocity=velocity)"
      ],
      "execution_count": 247,
      "outputs": []
    },
    {
      "cell_type": "code",
      "metadata": {
        "id": "bPR6h5ku1xR_"
      },
      "source": [
        "def rxn_calculator(X,t,k,S):\n",
        "    nRxn = S.shape[0]\n",
        "    kinit = k[0]\n",
        "    a = np.zeros(nRxn,dtype=float)\n",
        "    a[0] = kinit\n",
        "    for i in range(1,nRxn):\n",
        "\t    ind = np.where(S[i,:]==-1)[0][0]\n",
        "\t    a[i] = X[ind]*k[i]\n",
        "    a0 = np.sum(a)\n",
        "    t += np.log(1./np.random.rand(nCells)) / a0\n",
        "    r2ao = a0 * np.random.rand()\n",
        "    mu = np.sum(r2ao >= np.cumsum(np.concatenate(([0],a))))\n",
        "    return (t,mu)"
      ],
      "execution_count": 248,
      "outputs": []
    },
    {
      "cell_type": "code",
      "metadata": {
        "id": "nFW_l8LzFjeY"
      },
      "source": [
        "import numpy as np\n",
        "from numpy import matlib\n",
        "import matplotlib.pyplot as plt"
      ],
      "execution_count": 249,
      "outputs": []
    },
    {
      "cell_type": "markdown",
      "metadata": {
        "id": "B2n7wEQVABgg"
      },
      "source": [
        "Define the parameters of the system. $k$ defines the transcription, splicing, and degradation rates; $bs$ defines the mean of the geometric burst distribution; $S$ defines the reaction stoichiometry matrix (where the burst size is stored in the first entry for convenience). $T$ is the simulation time horizon."
      ]
    },
    {
      "cell_type": "code",
      "metadata": {
        "id": "acnCiyYHFU5C"
      },
      "source": [
        "k = [0.4,1,2]\n",
        "T = 10\n",
        "# measure_time = T/min(k)\n",
        "measure_time = T\n",
        "bs=10\n",
        "S = np.asarray([[bs,0],[-1,1],[0,-1]])\n",
        "tvec = np.linspace(0,measure_time,1000,endpoint=True)"
      ],
      "execution_count": 237,
      "outputs": []
    },
    {
      "cell_type": "markdown",
      "metadata": {
        "id": "6VY_-FPyASPQ"
      },
      "source": [
        "Define the drum sequence and run the simulation!"
      ]
    },
    {
      "cell_type": "code",
      "metadata": {
        "id": "bJFKdtlXFnW7"
      },
      "source": [
        "drums = music_pb2.NoteSequence()\n",
        "drums.total_time = T\n",
        "\n",
        "drums.tempos.add(qpm=120)\n",
        "X,drums=gillvec(drums,k,tvec,S)"
      ],
      "execution_count": 238,
      "outputs": []
    },
    {
      "cell_type": "markdown",
      "metadata": {
        "id": "enV6e9QFAVj1"
      },
      "source": [
        "Plot the simulation trajectory."
      ]
    },
    {
      "cell_type": "code",
      "metadata": {
        "colab": {
          "base_uri": "https://localhost:8080/",
          "height": 298
        },
        "id": "18IpjHdb4MBB",
        "outputId": "ccd36012-7426-4423-e515-9d74ad7af57b"
      },
      "source": [
        "plt.plot(tvec,X)"
      ],
      "execution_count": 239,
      "outputs": [
        {
          "output_type": "execute_result",
          "data": {
            "text/plain": [
              "[<matplotlib.lines.Line2D at 0x7f5ed9758c50>,\n",
              " <matplotlib.lines.Line2D at 0x7f5ed9758190>]"
            ]
          },
          "metadata": {
            "tags": []
          },
          "execution_count": 239
        },
        {
          "output_type": "display_data",
          "data": {
            "image/png": "[encoded data removed]",
            "text/plain": [
              "<Figure size 432x288 with 1 Axes>"
            ]
          },
          "metadata": {
            "tags": [],
            "needs_background": "light"
          }
        }
      ]
    },
    {
      "cell_type": "markdown",
      "metadata": {
        "id": "vALlwlS7AYmU"
      },
      "source": [
        "Visualize and play the sequence. A transcription event has several notes (with strike velocity modulated by burst size), other reactions only one. "
      ]
    },
    {
      "cell_type": "code",
      "metadata": {
        "id": "xtpm0LciE_K1",
        "colab": {
          "base_uri": "https://localhost:8080/",
          "height": 275
        },
        "outputId": "90adcf39-2cb5-45a4-da95-8aa073ba12e5"
      },
      "source": [
        "note_seq.plot_sequence(drums)\n",
        "note_seq.play_sequence(drums,synth=note_seq.fluidsynth)"
      ],
      "execution_count": 250,
      "outputs": [
        {
          "output_type": "display_data",
          "data": {
            "application/javascript": [
              "\n",
              "(function(root) {\n",
              "  function now() {\n",
              "    return new Date();\n",
              "  }\n",
              "\n",
              "  var force = true;\n",
              "\n",
              "  if (typeof root._bokeh_onload_callbacks === \"undefined\" || force === true) {\n",
              "    root._bokeh_onload_callbacks = [];\n",
              "    root._bokeh_is_loading = undefined;\n",
              "  }\n",
              "\n",
              "  var JS_MIME_TYPE = 'application/javascript';\n",
              "  var HTML_MIME_TYPE = 'text/html';\n",
              "  var EXEC_MIME_TYPE = 'application/vnd.bokehjs_exec.v0+json';\n",
              "  var CLASS_NAME = 'output_bokeh rendered_html';\n",
              "\n",
              "  /**\n",
              "   * Render data to the DOM node\n",
              "   */\n",
              "  function render(props, node) {\n",
              "    var script = document.createElement(\"script\");\n",
              "    node.appendChild(script);\n",
              "  }\n",
              "\n",
              "  /**\n",
              "   * Handle when an output is cleared or removed\n",
              "   */\n",
              "  function handleClearOutput(event, handle) {\n",
              "    var cell = handle.cell;\n",
              "\n",
              "    var id = cell.output_area._bokeh_element_id;\n",
              "    var server_id = cell.output_area._bokeh_server_id;\n",
              "    // Clean up Bokeh references\n",
              "    if (id != null && id in Bokeh.index) {\n",
              "      Bokeh.index[id].model.document.clear();\n",
              "      delete Bokeh.index[id];\n",
              "    }\n",
              "\n",
              "    if (server_id !== undefined) {\n",
              "      // Clean up Bokeh references\n",
              "      var cmd = \"from bokeh.io.state import curstate; print(curstate().uuid_to_server['\" + server_id + \"'].get_sessions()[0].document.roots[0]._id)\";\n",
              "      cell.notebook.kernel.execute(cmd, {\n",
              "        iopub: {\n",
              "          output: function(msg) {\n",
              "            var id = msg.content.text.trim();\n",
              "            if (id in Bokeh.index) {\n",
              "              Bokeh.index[id].model.document.clear();\n",
              "              delete Bokeh.index[id];\n",
              "            }\n",
              "          }\n",
              "        }\n",
              "      });\n",
              "      // Destroy server and session\n",
              "      var cmd = \"import bokeh.io.notebook as ion; ion.destroy_server('\" + server_id + \"')\";\n",
              "      cell.notebook.kernel.execute(cmd);\n",
              "    }\n",
              "  }\n",
              "\n",
              "  /**\n",
              "   * Handle when a new output is added\n",
              "   */\n",
              "  function handleAddOutput(event, handle) {\n",
              "    var output_area = handle.output_area;\n",
              "    var output = handle.output;\n",
              "\n",
              "    // limit handleAddOutput to display_data with EXEC_MIME_TYPE content only\n",
              "    if ((output.output_type != \"display_data\") || (!Object.prototype.hasOwnProperty.call(output.data, EXEC_MIME_TYPE))) {\n",
              "      return\n",
              "    }\n",
              "\n",
              "    var toinsert = output_area.element.find(\".\" + CLASS_NAME.split(' ')[0]);\n",
              "\n",
              "    if (output.metadata[EXEC_MIME_TYPE][\"id\"] !== undefined) {\n",
              "      toinsert[toinsert.length - 1].firstChild.textContent = output.data[JS_MIME_TYPE];\n",
              "      // store reference to embed id on output_area\n",
              "      output_area._bokeh_element_id = output.metadata[EXEC_MIME_TYPE][\"id\"];\n",
              "    }\n",
              "    if (output.metadata[EXEC_MIME_TYPE][\"server_id\"] !== undefined) {\n",
              "      var bk_div = document.createElement(\"div\");\n",
              "      bk_div.innerHTML = output.data[HTML_MIME_TYPE];\n",
              "      var script_attrs = bk_div.children[0].attributes;\n",
              "      for (var i = 0; i < script_attrs.length; i++) {\n",
              "        toinsert[toinsert.length - 1].firstChild.setAttribute(script_attrs[i].name, script_attrs[i].value);\n",
              "        toinsert[toinsert.length - 1].firstChild.textContent = bk_div.children[0].textContent\n",
              "      }\n",
              "      // store reference to server id on output_area\n",
              "      output_area._bokeh_server_id = output.metadata[EXEC_MIME_TYPE][\"server_id\"];\n",
              "    }\n",
              "  }\n",
              "\n",
              "  function register_renderer(events, OutputArea) {\n",
              "\n",
              "    function append_mime(data, metadata, element) {\n",
              "      // create a DOM node to render to\n",
              "      var toinsert = this.create_output_subarea(\n",
              "        metadata,\n",
              "        CLASS_NAME,\n",
              "        EXEC_MIME_TYPE\n",
              "      );\n",
              "      this.keyboard_manager.register_events(toinsert);\n",
              "      // Render to node\n",
              "      var props = {data: data, metadata: metadata[EXEC_MIME_TYPE]};\n",
              "      render(props, toinsert[toinsert.length - 1]);\n",
              "      element.append(toinsert);\n",
              "      return toinsert\n",
              "    }\n",
              "\n",
              "    /* Handle when an output is cleared or removed */\n",
              "    events.on('clear_output.CodeCell', handleClearOutput);\n",
              "    events.on('delete.Cell', handleClearOutput);\n",
              "\n",
              "    /* Handle when a new output is added */\n",
              "    events.on('output_added.OutputArea', handleAddOutput);\n",
              "\n",
              "    /**\n",
              "     * Register the mime type and append_mime function with output_area\n",
              "     */\n",
              "    OutputArea.prototype.register_mime_type(EXEC_MIME_TYPE, append_mime, {\n",
              "      /* Is output safe? */\n",
              "      safe: true,\n",
              "      /* Index of renderer in `output_area.display_order` */\n",
              "      index: 0\n",
              "    });\n",
              "  }\n",
              "\n",
              "  // register the mime type if in Jupyter Notebook environment and previously unregistered\n",
              "  if (root.Jupyter !== undefined) {\n",
              "    var events = require('base/js/events');\n",
              "    var OutputArea = require('notebook/js/outputarea').OutputArea;\n",
              "\n",
              "    if (OutputArea.prototype.mime_types().indexOf(EXEC_MIME_TYPE) == -1) {\n",
              "      register_renderer(events, OutputArea);\n",
              "    }\n",
              "  }\n",
              "\n",
              "  \n",
              "  if (typeof (root._bokeh_timeout) === \"undefined\" || force === true) {\n",
              "    root._bokeh_timeout = Date.now() + 5000;\n",
              "    root._bokeh_failed_load = false;\n",
              "  }\n",
              "\n",
              "  var NB_LOAD_WARNING = {'data': {'text/html':\n",
              "     \"<div style='background-color: #fdd'>\\n\"+\n",
              "     \"<p>\\n\"+\n",
              "     \"BokehJS does not appear to have successfully loaded. If loading BokehJS from CDN, this \\n\"+\n",
              "     \"may be due to a slow or bad network connection. Possible fixes:\\n\"+\n",
              "     \"</p>\\n\"+\n",
              "     \"<ul>\\n\"+\n",
              "     \"<li>re-rerun `output_notebook()` to attempt to load from CDN again, or</li>\\n\"+\n",
              "     \"<li>use INLINE resources instead, as so:</li>\\n\"+\n",
              "     \"</ul>\\n\"+\n",
              "     \"<code>\\n\"+\n",
              "     \"from bokeh.resources import INLINE\\n\"+\n",
              "     \"output_notebook(resources=INLINE)\\n\"+\n",
              "     \"</code>\\n\"+\n",
              "     \"</div>\"}};\n",
              "\n",
              "  function display_loaded() {\n",
              "    var el = document.getElementById(null);\n",
              "    if (el != null) {\n",
              "      el.textContent = \"BokehJS is loading...\";\n",
              "    }\n",
              "    if (root.Bokeh !== undefined) {\n",
              "      if (el != null) {\n",
              "        el.textContent = \"BokehJS \" + root.Bokeh.version + \" successfully loaded.\";\n",
              "      }\n",
              "    } else if (Date.now() < root._bokeh_timeout) {\n",
              "      setTimeout(display_loaded, 100)\n",
              "    }\n",
              "  }\n",
              "\n",
              "\n",
              "  function run_callbacks() {\n",
              "    try {\n",
              "      root._bokeh_onload_callbacks.forEach(function(callback) {\n",
              "        if (callback != null)\n",
              "          callback();\n",
              "      });\n",
              "    } finally {\n",
              "      delete root._bokeh_onload_callbacks\n",
              "    }\n",
              "    console.debug(\"Bokeh: all callbacks have finished\");\n",
              "  }\n",
              "\n",
              "  function load_libs(css_urls, js_urls, callback) {\n",
              "    if (css_urls == null) css_urls = [];\n",
              "    if (js_urls == null) js_urls = [];\n",
              "\n",
              "    root._bokeh_onload_callbacks.push(callback);\n",
              "    if (root._bokeh_is_loading > 0) {\n",
              "      console.debug(\"Bokeh: BokehJS is being loaded, scheduling callback at\", now());\n",
              "      return null;\n",
              "    }\n",
              "    if (js_urls == null || js_urls.length === 0) {\n",
              "      run_callbacks();\n",
              "      return null;\n",
              "    }\n",
              "    console.debug(\"Bokeh: BokehJS not loaded, scheduling load and callback at\", now());\n",
              "    root._bokeh_is_loading = css_urls.length + js_urls.length;\n",
              "\n",
              "    function on_load() {\n",
              "      root._bokeh_is_loading--;\n",
              "      if (root._bokeh_is_loading === 0) {\n",
              "        console.debug(\"Bokeh: all BokehJS libraries/stylesheets loaded\");\n",
              "        run_callbacks()\n",
              "      }\n",
              "    }\n",
              "\n",
              "    function on_error(url) {\n",
              "      console.error(\"failed to load \" + url);\n",
              "    }\n",
              "\n",
              "    for (let i = 0; i < css_urls.length; i++) {\n",
              "      const url = css_urls[i];\n",
              "      const element = document.createElement(\"link\");\n",
              "      element.onload = on_load;\n",
              "      element.onerror = on_error.bind(null, url);\n",
              "      element.rel = \"stylesheet\";\n",
              "      element.type = \"text/css\";\n",
              "      element.href = url;\n",
              "      console.debug(\"Bokeh: injecting link tag for BokehJS stylesheet: \", url);\n",
              "      document.body.appendChild(element);\n",
              "    }\n",
              "\n",
              "    const hashes = {\"https://cdn.bokeh.org/bokeh/release/bokeh-2.3.3.min.js\": \"dM3QQsP+wXdHg42wTqW85BjZQdLNNIXqlPw/BgKoExPmTG7ZLML4EGqLMfqHT6ON\", \"https://cdn.bokeh.org/bokeh/release/bokeh-tables-2.3.3.min.js\": \"8x57I4YuIfu8XyZfFo0XVr2WAT8EK4rh/uDe3wF7YuW2FNUSNEpJbsPaB1nJ2fz2\", \"https://cdn.bokeh.org/bokeh/release/bokeh-widgets-2.3.3.min.js\": \"3QTqdz9LyAm2i0sG5XTePsHec3UHWwVsrOL68SYRoAXsafvfAyqtQ+h440+qIBhS\"};\n",
              "\n",
              "    for (let i = 0; i < js_urls.length; i++) {\n",
              "      const url = js_urls[i];\n",
              "      const element = document.createElement('script');\n",
              "      element.onload = on_load;\n",
              "      element.onerror = on_error.bind(null, url);\n",
              "      element.async = false;\n",
              "      element.src = url;\n",
              "      if (url in hashes) {\n",
              "        element.crossOrigin = \"anonymous\";\n",
              "        element.integrity = \"sha384-\" + hashes[url];\n",
              "      }\n",
              "      console.debug(\"Bokeh: injecting script tag for BokehJS library: \", url);\n",
              "      document.head.appendChild(element);\n",
              "    }\n",
              "  };\n",
              "\n",
              "  function inject_raw_css(css) {\n",
              "    const element = document.createElement(\"style\");\n",
              "    element.appendChild(document.createTextNode(css));\n",
              "    document.body.appendChild(element);\n",
              "  }\n",
              "\n",
              "  \n",
              "  var js_urls = [\"https://cdn.bokeh.org/bokeh/release/bokeh-2.3.3.min.js\", \"https://cdn.bokeh.org/bokeh/release/bokeh-widgets-2.3.3.min.js\", \"https://cdn.bokeh.org/bokeh/release/bokeh-tables-2.3.3.min.js\"];\n",
              "  var css_urls = [];\n",
              "  \n",
              "\n",
              "  var inline_js = [\n",
              "    function(Bokeh) {\n",
              "      Bokeh.set_log_level(\"info\");\n",
              "    },\n",
              "    function(Bokeh) {\n",
              "    \n",
              "    \n",
              "    }\n",
              "  ];\n",
              "\n",
              "  function run_inline_js() {\n",
              "    \n",
              "    if (root.Bokeh !== undefined || force === true) {\n",
              "      \n",
              "    for (var i = 0; i < inline_js.length; i++) {\n",
              "      inline_js[i].call(root, root.Bokeh);\n",
              "    }\n",
              "    } else if (Date.now() < root._bokeh_timeout) {\n",
              "      setTimeout(run_inline_js, 100);\n",
              "    } else if (!root._bokeh_failed_load) {\n",
              "      console.log(\"Bokeh: BokehJS failed to load within specified timeout.\");\n",
              "      root._bokeh_failed_load = true;\n",
              "    } else if (force !== true) {\n",
              "      var cell = $(document.getElementById(null)).parents('.cell').data().cell;\n",
              "      cell.output_area.append_execute_result(NB_LOAD_WARNING)\n",
              "    }\n",
              "\n",
              "  }\n",
              "\n",
              "  if (root._bokeh_is_loading === 0) {\n",
              "    console.debug(\"Bokeh: BokehJS loaded, going straight to plotting\");\n",
              "    run_inline_js();\n",
              "  } else {\n",
              "    load_libs(css_urls, js_urls, function() {\n",
              "      console.debug(\"Bokeh: BokehJS plotting callback run at\", now());\n",
              "      run_inline_js();\n",
              "    });\n",
              "  }\n",
              "}(window));"
            ],
            "application/vnd.bokehjs_load.v0+json": "\n(function(root) {\n  function now() {\n    return new Date();\n  }\n\n  var force = true;\n\n  if (typeof root._bokeh_onload_callbacks === \"undefined\" || force === true) {\n    root._bokeh_onload_callbacks = [];\n    root._bokeh_is_loading = undefined;\n  }\n\n  \n\n  \n  if (typeof (root._bokeh_timeout) === \"undefined\" || force === true) {\n    root._bokeh_timeout = Date.now() + 5000;\n    root._bokeh_failed_load = false;\n  }\n\n  var NB_LOAD_WARNING = {'data': {'text/html':\n     \"<div style='background-color: #fdd'>\\n\"+\n     \"<p>\\n\"+\n     \"BokehJS does not appear to have successfully loaded. If loading BokehJS from CDN, this \\n\"+\n     \"may be due to a slow or bad network connection. Possible fixes:\\n\"+\n     \"</p>\\n\"+\n     \"<ul>\\n\"+\n     \"<li>re-rerun `output_notebook()` to attempt to load from CDN again, or</li>\\n\"+\n     \"<li>use INLINE resources instead, as so:</li>\\n\"+\n     \"</ul>\\n\"+\n     \"<code>\\n\"+\n     \"from bokeh.resources import INLINE\\n\"+\n     \"output_notebook(resources=INLINE)\\n\"+\n     \"</code>\\n\"+\n     \"</div>\"}};\n\n  function display_loaded() {\n    var el = document.getElementById(null);\n    if (el != null) {\n      el.textContent = \"BokehJS is loading...\";\n    }\n    if (root.Bokeh !== undefined) {\n      if (el != null) {\n        el.textContent = \"BokehJS \" + root.Bokeh.version + \" successfully loaded.\";\n      }\n    } else if (Date.now() < root._bokeh_timeout) {\n      setTimeout(display_loaded, 100)\n    }\n  }\n\n\n  function run_callbacks() {\n    try {\n      root._bokeh_onload_callbacks.forEach(function(callback) {\n        if (callback != null)\n          callback();\n      });\n    } finally {\n      delete root._bokeh_onload_callbacks\n    }\n    console.debug(\"Bokeh: all callbacks have finished\");\n  }\n\n  function load_libs(css_urls, js_urls, callback) {\n    if (css_urls == null) css_urls = [];\n    if (js_urls == null) js_urls = [];\n\n    root._bokeh_onload_callbacks.push(callback);\n    if (root._bokeh_is_loading > 0) {\n      console.debug(\"Bokeh: BokehJS is being loaded, scheduling callback at\", now());\n      return null;\n    }\n    if (js_urls == null || js_urls.length === 0) {\n      run_callbacks();\n      return null;\n    }\n    console.debug(\"Bokeh: BokehJS not loaded, scheduling load and callback at\", now());\n    root._bokeh_is_loading = css_urls.length + js_urls.length;\n\n    function on_load() {\n      root._bokeh_is_loading--;\n      if (root._bokeh_is_loading === 0) {\n        console.debug(\"Bokeh: all BokehJS libraries/stylesheets loaded\");\n        run_callbacks()\n      }\n    }\n\n    function on_error(url) {\n      console.error(\"failed to load \" + url);\n    }\n\n    for (let i = 0; i < css_urls.length; i++) {\n      const url = css_urls[i];\n      const element = document.createElement(\"link\");\n      element.onload = on_load;\n      element.onerror = on_error.bind(null, url);\n      element.rel = \"stylesheet\";\n      element.type = \"text/css\";\n      element.href = url;\n      console.debug(\"Bokeh: injecting link tag for BokehJS stylesheet: \", url);\n      document.body.appendChild(element);\n    }\n\n    const hashes = {\"https://cdn.bokeh.org/bokeh/release/bokeh-2.3.3.min.js\": \"dM3QQsP+wXdHg42wTqW85BjZQdLNNIXqlPw/BgKoExPmTG7ZLML4EGqLMfqHT6ON\", \"https://cdn.bokeh.org/bokeh/release/bokeh-tables-2.3.3.min.js\": \"8x57I4YuIfu8XyZfFo0XVr2WAT8EK4rh/uDe3wF7YuW2FNUSNEpJbsPaB1nJ2fz2\", \"https://cdn.bokeh.org/bokeh/release/bokeh-widgets-2.3.3.min.js\": \"3QTqdz9LyAm2i0sG5XTePsHec3UHWwVsrOL68SYRoAXsafvfAyqtQ+h440+qIBhS\"};\n\n    for (let i = 0; i < js_urls.length; i++) {\n      const url = js_urls[i];\n      const element = document.createElement('script');\n      element.onload = on_load;\n      element.onerror = on_error.bind(null, url);\n      element.async = false;\n      element.src = url;\n      if (url in hashes) {\n        element.crossOrigin = \"anonymous\";\n        element.integrity = \"sha384-\" + hashes[url];\n      }\n      console.debug(\"Bokeh: injecting script tag for BokehJS library: \", url);\n      document.head.appendChild(element);\n    }\n  };\n\n  function inject_raw_css(css) {\n    const element = document.createElement(\"style\");\n    element.appendChild(document.createTextNode(css));\n    document.body.appendChild(element);\n  }\n\n  \n  var js_urls = [\"https://cdn.bokeh.org/bokeh/release/bokeh-2.3.3.min.js\", \"https://cdn.bokeh.org/bokeh/release/bokeh-widgets-2.3.3.min.js\", \"https://cdn.bokeh.org/bokeh/release/bokeh-tables-2.3.3.min.js\"];\n  var css_urls = [];\n  \n\n  var inline_js = [\n    function(Bokeh) {\n      Bokeh.set_log_level(\"info\");\n    },\n    function(Bokeh) {\n    \n    \n    }\n  ];\n\n  function run_inline_js() {\n    \n    if (root.Bokeh !== undefined || force === true) {\n      \n    for (var i = 0; i < inline_js.length; i++) {\n      inline_js[i].call(root, root.Bokeh);\n    }\n    } else if (Date.now() < root._bokeh_timeout) {\n      setTimeout(run_inline_js, 100);\n    } else if (!root._bokeh_failed_load) {\n      console.log(\"Bokeh: BokehJS failed to load within specified timeout.\");\n      root._bokeh_failed_load = true;\n    } else if (force !== true) {\n      var cell = $(document.getElementById(null)).parents('.cell').data().cell;\n      cell.output_area.append_execute_result(NB_LOAD_WARNING)\n    }\n\n  }\n\n  if (root._bokeh_is_loading === 0) {\n    console.debug(\"Bokeh: BokehJS loaded, going straight to plotting\");\n    run_inline_js();\n  } else {\n    load_libs(css_urls, js_urls, function() {\n      console.debug(\"Bokeh: BokehJS plotting callback run at\", now());\n      run_inline_js();\n    });\n  }\n}(window));"
          },
          "metadata": {
            "tags": []
          }
        },
        {
          "output_type": "display_data",
          "data": {
            "text/html": [
              "\n",
              "\n",
              "\n",
              "\n",
              "\n",
              "\n",
              "  <div class=\"bk-root\" id=\"9f8b3f99-6f44-4f1c-9c04-97e6dfeff939\" data-root-id=\"6858\"></div>\n"
            ]
          },
          "metadata": {
            "tags": []
          }
        },
        {
          "output_type": "display_data",
          "data": {
            "application/javascript": [
              "(function(root) {\n",
              "  function embed_document(root) {\n",
              "    \n",
              "  var docs_json = {\"304bb7c8-53fc-461f-92bb-5047bcddf22b\":{\"defs\":[],\"roots\":{\"references\":[{\"attributes\":{\"below\":[{\"id\":\"6867\"}],\"center\":[{\"id\":\"6870\"},{\"id\":\"6874\"}],\"height\":200,\"left\":[{\"id\":\"6871\"}],\"renderers\":[{\"id\":\"6894\"},{\"id\":\"6900\"},{\"id\":\"6906\"}],\"title\":{\"id\":\"6909\"},\"toolbar\":{\"id\":\"6881\"},\"width\":500,\"x_range\":{\"id\":\"6859\"},\"x_scale\":{\"id\":\"6863\"},\"y_range\":{\"id\":\"6861\"},\"y_scale\":{\"id\":\"6865\"}},\"id\":\"6858\",\"subtype\":\"Figure\",\"type\":\"Plot\"},{\"attributes\":{\"source\":{\"id\":\"6890\"}},\"id\":\"6895\",\"type\":\"CDSView\"},{\"attributes\":{\"bottom\":{\"field\":\"bottom\"},\"fill_alpha\":{\"field\":\"fill_alpha\"},\"fill_color\":{\"value\":\"#f46d43\"},\"left\":{\"field\":\"start_time\"},\"right\":{\"field\":\"end_time\"},\"top\":{\"field\":\"top\"}},\"id\":\"6904\",\"type\":\"Quad\"},{\"attributes\":{},\"id\":\"6919\",\"type\":\"UnionRenderers\"},{\"attributes\":{\"bottom\":{\"field\":\"bottom\"},\"fill_alpha\":{\"field\":\"fill_alpha\"},\"fill_color\":{\"value\":\"#3288bd\"},\"left\":{\"field\":\"start_time\"},\"right\":{\"field\":\"end_time\"},\"top\":{\"field\":\"top\"}},\"id\":\"6898\",\"type\":\"Quad\"},{\"attributes\":{},\"id\":\"6876\",\"type\":\"PanTool\"},{\"attributes\":{},\"id\":\"6916\",\"type\":\"Selection\"},{\"attributes\":{},\"id\":\"6912\",\"type\":\"AllLabels\"},{\"attributes\":{\"data_source\":{\"id\":\"6902\"},\"glyph\":{\"id\":\"6904\"},\"hover_glyph\":null,\"muted_glyph\":null,\"nonselection_glyph\":{\"id\":\"6905\"},\"view\":{\"id\":\"6907\"}},\"id\":\"6906\",\"type\":\"GlyphRenderer\"},{\"attributes\":{\"active_multi\":null,\"tools\":[{\"id\":\"6875\"},{\"id\":\"6876\"},{\"id\":\"6877\"},{\"id\":\"6878\"},{\"id\":\"6879\"}]},\"id\":\"6881\",\"type\":\"Toolbar\"},{\"attributes\":{},\"id\":\"6878\",\"type\":\"ResetTool\"},{\"attributes\":{\"interval\":12},\"id\":\"6887\",\"type\":\"SingleIntervalTicker\"},{\"attributes\":{},\"id\":\"6879\",\"type\":\"SaveTool\"},{\"attributes\":{\"data\":{\"bottom\":{\"__ndarray__\":\"zczMzMzMQUDNzMzMzMxCQM3MzMzMzERAzczMzMzMRkDNzMzMzMxBQM3MzMzMzEJAzczMzMzMREDNzMzMzMxGQM3MzMzMzEFAzczMzMzMQkDNzMzMzMxEQM3MzMzMzEZAzczMzMzMQUDNzMzMzMxCQM3MzMzMzERAzczMzMzMRkDNzMzMzMxBQM3MzMzMzEJAzczMzMzMREDNzMzMzMxGQA==\",\"dtype\":\"float64\",\"order\":\"little\",\"shape\":[20]},\"duration\":{\"__ndarray__\":\"oJmZmZmZuT+gmZmZmZm5P6CZmZmZmbk/oJmZmZmZuT+gmZmZmZm5P6CZmZmZmbk/oJmZmZmZuT+gmZmZmZm5P4CZmZmZmbk/gJmZmZmZuT+AmZmZmZm5P4CZmZmZmbk/gJmZmZmZuT+AmZmZmZm5P4CZmZmZmbk/gJmZmZmZuT+AmZmZmZm5P4CZmZmZmbk/gJmZmZmZuT+AmZmZmZm5Pw==\",\"dtype\":\"float64\",\"order\":\"little\",\"shape\":[20]},\"end_time\":{\"__ndarray__\":\"PE9tDqNX9T88T20Oo1f1PzxPbQ6jV/U/PE9tDqNX9T+TqbwEc2gPQJOpvARzaA9Ak6m8BHNoD0CTqbwEc2gPQMp3AA7rYBNAyncADutgE0DKdwAO62ATQMp3AA7rYBNAjRk668jLIUCNGTrryMshQI0ZOuvIyyFAjRk668jLIUACo1b9B+UjQAKjVv0H5SNAAqNW/QflI0ACo1b9B+UjQA==\",\"dtype\":\"float64\",\"order\":\"little\",\"shape\":[20]},\"fill_alpha\":{\"__ndarray__\":\"AAAAAAAA6j8AAAAAAADqPwAAAAAAAOo/AAAAAAAA6j8AAAAAAADkPwAAAAAAAOQ/AAAAAAAA5D8AAAAAAADkPwAAAAAAgO4/AAAAAACA7j8AAAAAAIDuPwAAAAAAgO4/AAAAAACA6D8AAAAAAIDoPwAAAAAAgOg/AAAAAACA6D8AAAAAAMDkPwAAAAAAwOQ/AAAAAADA5D8AAAAAAMDkPw==\",\"dtype\":\"float64\",\"order\":\"little\",\"shape\":[20]},\"index\":[0,1,2,3,17,18,19,20,23,24,25,26,56,57,58,59,64,65,66,67],\"instrument\":[10,10,10,10,10,10,10,10,10,10,10,10,10,10,10,10,10,10,10,10],\"pitch\":[36,38,42,46,36,38,42,46,36,38,42,46,36,38,42,46,36,38,42,46],\"program\":[0,0,0,0,0,0,0,0,0,0,0,0,0,0,0,0,0,0,0,0],\"start_time\":{\"__ndarray__\":\"orXTdAm+8z+itdN0Cb7zP6K103QJvvM/orXTdAm+8z/G3O83ppsOQMbc7zemmw5AxtzvN6abDkDG3O83ppsOQGQRmqeE+hJAZBGap4T6EkBkEZqnhPoSQGQRmqeE+hJAWuYGuJWYIUBa5ga4lZghQFrmBriVmCFAWuYGuJWYIUDPbyPK1LEjQM9vI8rUsSNAz28jytSxI0DPbyPK1LEjQA==\",\"dtype\":\"float64\",\"order\":\"little\",\"shape\":[20]},\"top\":{\"__ndarray__\":\"MzMzMzMzQkAzMzMzMzNDQDMzMzMzM0VAMzMzMzMzR0AzMzMzMzNCQDMzMzMzM0NAMzMzMzMzRUAzMzMzMzNHQDMzMzMzM0JAMzMzMzMzQ0AzMzMzMzNFQDMzMzMzM0dAMzMzMzMzQkAzMzMzMzNDQDMzMzMzM0VAMzMzMzMzR0AzMzMzMzNCQDMzMzMzM0NAMzMzMzMzRUAzMzMzMzNHQA==\",\"dtype\":\"float64\",\"order\":\"little\",\"shape\":[20]},\"velocity\":[104,104,104,104,80,80,80,80,122,122,122,122,98,98,98,98,83,83,83,83]},\"selected\":{\"id\":\"6916\"},\"selection_policy\":{\"id\":\"6915\"}},\"id\":\"6890\",\"type\":\"ColumnDataSource\"},{\"attributes\":{},\"id\":\"6913\",\"type\":\"BasicTickFormatter\"},{\"attributes\":{\"axis_label\":\"time (sec)\",\"formatter\":{\"id\":\"6911\"},\"major_label_policy\":{\"id\":\"6912\"},\"ticker\":{\"id\":\"6868\"}},\"id\":\"6867\",\"type\":\"LinearAxis\"},{\"attributes\":{\"source\":{\"id\":\"6896\"}},\"id\":\"6901\",\"type\":\"CDSView\"},{\"attributes\":{\"interval\":12},\"id\":\"6889\",\"type\":\"SingleIntervalTicker\"},{\"attributes\":{\"bottom_units\":\"screen\",\"fill_alpha\":0.5,\"fill_color\":\"lightgrey\",\"left_units\":\"screen\",\"level\":\"overlay\",\"line_alpha\":1.0,\"line_color\":\"black\",\"line_dash\":[4,4],\"line_width\":2,\"right_units\":\"screen\",\"syncable\":false,\"top_units\":\"screen\"},\"id\":\"6880\",\"type\":\"BoxAnnotation\"},{\"attributes\":{\"axis\":{\"id\":\"6871\"},\"dimension\":1,\"ticker\":{\"id\":\"6889\"}},\"id\":\"6874\",\"type\":\"Grid\"},{\"attributes\":{\"bottom\":{\"field\":\"bottom\"},\"fill_alpha\":{\"value\":0.1},\"fill_color\":{\"value\":\"#d53e4f\"},\"left\":{\"field\":\"start_time\"},\"line_alpha\":{\"value\":0.1},\"right\":{\"field\":\"end_time\"},\"top\":{\"field\":\"top\"}},\"id\":\"6893\",\"type\":\"Quad\"},{\"attributes\":{},\"id\":\"6915\",\"type\":\"UnionRenderers\"},{\"attributes\":{\"data\":{\"bottom\":{\"__ndarray__\":\"zczMzMzMREDNzMzMzMxEQM3MzMzMzERAzczMzMzMREDNzMzMzMxEQM3MzMzMzERAzczMzMzMREDNzMzMzMxEQM3MzMzMzERAzczMzMzMREDNzMzMzMxEQM3MzMzMzERAzczMzMzMREDNzMzMzMxEQM3MzMzMzERAzczMzMzMREDNzMzMzMxEQM3MzMzMzERAzczMzMzMREDNzMzMzMxEQM3MzMzMzERAzczMzMzMREDNzMzMzMxEQA==\",\"dtype\":\"float64\",\"order\":\"little\",\"shape\":[23]},\"duration\":{\"__ndarray__\":\"oJmZmZmZuT+gmZmZmZm5P6CZmZmZmbk/oJmZmZmZuT+gmZmZmZm5P6CZmZmZmbk/gJmZmZmZuT+AmZmZmZm5P4CZmZmZmbk/gJmZmZmZuT+AmZmZmZm5P4CZmZmZmbk/gJmZmZmZuT+AmZmZmZm5P4CZmZmZmbk/gJmZmZmZuT+AmZmZmZm5P4CZmZmZmbk/gJmZmZmZuT+AmZmZmZm5P8CZmZmZmbk/gJmZmZmZuT+AmZmZmZm5Pw==\",\"dtype\":\"float64\",\"order\":\"little\",\"shape\":[23]},\"end_time\":{\"__ndarray__\":\"A3w/vh5u+j+R6ih4aywCQG5xEoCJ6gNAppEUeP5oBUA+YTtBzJoGQDxT71kpNgpAnXXWm/mAEkA2GFBSKT0UQFsiURRqvhVAEKgG1hN4FkBvB5qWOrcWQAfXd+/j9RZAuQ0wojMDF0B+rCratMIXQM+j7o1bDhhATv9B7Ne5GkAmqdd3ZQwbQDmo9eMh0RxAB0rmIEoiHUBsdcvUH8MdQJsA4+iyBiBATln2J9gjIUDjY09aKy8jQA==\",\"dtype\":\"float64\",\"order\":\"little\",\"shape\":[23]},\"fill_alpha\":{\"__ndarray__\":\"AAAAAAAA5D8AAAAAAADkPwAAAAAAAOQ/AAAAAAAA5D8AAAAAAADkPwAAAAAAAOQ/AAAAAAAA5D8AAAAAAADkPwAAAAAAAOQ/AAAAAAAA5D8AAAAAAADkPwAAAAAAAOQ/AAAAAAAA5D8AAAAAAADkPwAAAAAAAOQ/AAAAAAAA5D8AAAAAAADkPwAAAAAAAOQ/AAAAAAAA5D8AAAAAAADkPwAAAAAAAOQ/AAAAAAAA5D8AAAAAAADkPw==\",\"dtype\":\"float64\",\"order\":\"little\",\"shape\":[23]},\"index\":[5,8,11,13,14,16,22,29,33,36,37,39,40,42,43,45,46,49,50,51,54,55,63],\"instrument\":[12,12,12,12,12,12,12,12,12,12,12,12,12,12,12,12,12,12,12,12,12,12,12],\"pitch\":[42,42,42,42,42,42,42,42,42,42,42,42,42,42,42,42,42,42,42,42,42,42,42],\"program\":[0,0,0,0,0,0,0,0,0,0,0,0,0,0,0,0,0,0,0,0,0,0,0],\"start_time\":{\"__ndarray__\":\"aeKlJIXU+D/EHVyrnl8BQKGkRbO8HQNA2cRHqzGcBEBxlG50/80FQG+GIo1caQlANw9wNZMaEkDQsenrwtYTQPW76q0DWBVAqkGgb60RFkAJoTMw1FAWQKFwEYl9jxZAU6fJO82cFkAYRsRzTlwXQGk9iCf1pxdA6JjbhXFTGkDAQnER/6UaQNNBj327ahxAoeN/uuO7HEAGD2VuuVwdQM+aX2v/ph9AGybD9KTwIECwMBwn+PsiQA==\",\"dtype\":\"float64\",\"order\":\"little\",\"shape\":[23]},\"top\":{\"__ndarray__\":\"MzMzMzMzRUAzMzMzMzNFQDMzMzMzM0VAMzMzMzMzRUAzMzMzMzNFQDMzMzMzM0VAMzMzMzMzRUAzMzMzMzNFQDMzMzMzM0VAMzMzMzMzRUAzMzMzMzNFQDMzMzMzM0VAMzMzMzMzRUAzMzMzMzNFQDMzMzMzM0VAMzMzMzMzRUAzMzMzMzNFQDMzMzMzM0VAMzMzMzMzRUAzMzMzMzNFQDMzMzMzM0VAMzMzMzMzRUAzMzMzMzNFQA==\",\"dtype\":\"float64\",\"order\":\"little\",\"shape\":[23]},\"velocity\":[80,80,80,80,80,80,80,80,80,80,80,80,80,80,80,80,80,80,80,80,80,80,80]},\"selected\":{\"id\":\"6920\"},\"selection_policy\":{\"id\":\"6919\"}},\"id\":\"6902\",\"type\":\"ColumnDataSource\"},{\"attributes\":{},\"id\":\"6914\",\"type\":\"AllLabels\"},{\"attributes\":{},\"id\":\"6918\",\"type\":\"Selection\"},{\"attributes\":{},\"id\":\"6863\",\"type\":\"LinearScale\"},{\"attributes\":{\"overlay\":{\"id\":\"6880\"}},\"id\":\"6877\",\"type\":\"BoxZoomTool\"},{\"attributes\":{},\"id\":\"6917\",\"type\":\"UnionRenderers\"},{\"attributes\":{},\"id\":\"6865\",\"type\":\"LinearScale\"},{\"attributes\":{\"data\":{\"bottom\":{\"__ndarray__\":\"zczMzMzMQUDNzMzMzMxBQM3MzMzMzEFAzczMzMzMQUDNzMzMzMxBQM3MzMzMzEFAzczMzMzMQUDNzMzMzMxBQM3MzMzMzEFAzczMzMzMQUDNzMzMzMxBQM3MzMzMzEFAzczMzMzMQUDNzMzMzMxBQM3MzMzMzEFAzczMzMzMQUDNzMzMzMxBQM3MzMzMzEFAzczMzMzMQUDNzMzMzMxBQM3MzMzMzEFAzczMzMzMQUDNzMzMzMxBQM3MzMzMzEFAzczMzMzMQUA=\",\"dtype\":\"float64\",\"order\":\"little\",\"shape\":[25]},\"duration\":{\"__ndarray__\":\"oJmZmZmZuT+gmZmZmZm5P6CZmZmZmbk/oJmZmZmZuT+gmZmZmZm5P6CZmZmZmbk/oJmZmZmZuT+AmZmZmZm5P4CZmZmZmbk/gJmZmZmZuT+AmZmZmZm5P4CZmZmZmbk/gJmZmZmZuT+AmZmZmZm5P4CZmZmZmbk/gJmZmZmZuT+AmZmZmZm5P4CZmZmZmbk/gJmZmZmZuT+AmZmZmZm5P4CZmZmZmbk/gJmZmZmZuT+AmZmZmZm5P4CZmZmZmbk/gJmZmZmZuT8=\",\"dtype\":\"float64\",\"order\":\"little\",\"shape\":[25]},\"end_time\":{\"__ndarray__\":\"tRCVdGBn9z/NHni0cEv9P8PividoaAFA9McnYZ8fA0CUJTa901MDQCftiKjbPQRADt5HPz/FCEBNvjwyEI0QQAXJ7GgC4RNAzMD6QHIEFEAIkfYDdIwUQAusqxaYmxRAB9AoY/AWFUCZlN5aHBcWQE4mcqb7TxZAaFJiJODxFkBsSlhabWkXQAAnzDoetBpAJEBpZk0XG0CEbz7lR1QbQEm9TQLV2B9A5sNEYHb7H0BEUsa1sxkiQLTsEOm79CJA4haLywgvI0A=\",\"dtype\":\"float64\",\"order\":\"little\",\"shape\":[25]},\"fill_alpha\":{\"__ndarray__\":\"AAAAAAAA5D8AAAAAAADkPwAAAAAAAOQ/AAAAAAAA5D8AAAAAAADkPwAAAAAAAOQ/AAAAAAAA5D8AAAAAAADkPwAAAAAAAOQ/AAAAAAAA5D8AAAAAAADkPwAAAAAAAOQ/AAAAAAAA5D8AAAAAAADkPwAAAAAAAOQ/AAAAAAAA5D8AAAAAAADkPwAAAAAAAOQ/AAAAAAAA5D8AAAAAAADkPwAAAAAAAOQ/AAAAAAAA5D8AAAAAAADkPwAAAAAAAOQ/AAAAAAAA5D8=\",\"dtype\":\"float64\",\"order\":\"little\",\"shape\":[25]},\"index\":[4,6,7,9,10,12,15,21,27,28,30,31,32,34,35,38,41,44,47,48,52,53,60,61,62],\"instrument\":[11,11,11,11,11,11,11,11,11,11,11,11,11,11,11,11,11,11,11,11,11,11,11,11,11],\"pitch\":[36,36,36,36,36,36,36,36,36,36,36,36,36,36,36,36,36,36,36,36,36,36,36,36,36],\"program\":[0,0,0,0,0,0,0,0,0,0,0,0,0,0,0,0,0,0,0,0,0,0,0,0,0],\"start_time\":{\"__ndarray__\":\"G3f72sbN9T8zhd4a17H7P/YV8lqbmwBAJ/talNJSAkDHWGnwBocCQFogvNsOcQNAQRF7cnL4B0DnV9bLqSYQQJ9ihgKcehNAZlqU2gueE0CiKpCdDSYUQKVFRbAxNRRAoWnC/ImwFEAzLnj0tbAVQOi/C0CV6RVAAuz7vXmLFkAG5PHzBgMXQJrAZdS3TRpAvtkCAOewGkAeCdh+4e0aQONW55tuch9AgF3e+Q+VH0ARH5OCgOYhQIG53bWIwSJAr+NXmNX7IkA=\",\"dtype\":\"float64\",\"order\":\"little\",\"shape\":[25]},\"top\":{\"__ndarray__\":\"MzMzMzMzQkAzMzMzMzNCQDMzMzMzM0JAMzMzMzMzQkAzMzMzMzNCQDMzMzMzM0JAMzMzMzMzQkAzMzMzMzNCQDMzMzMzM0JAMzMzMzMzQkAzMzMzMzNCQDMzMzMzM0JAMzMzMzMzQkAzMzMzMzNCQDMzMzMzM0JAMzMzMzMzQkAzMzMzMzNCQDMzMzMzM0JAMzMzMzMzQkAzMzMzMzNCQDMzMzMzM0JAMzMzMzMzQkAzMzMzMzNCQDMzMzMzM0JAMzMzMzMzQkA=\",\"dtype\":\"float64\",\"order\":\"little\",\"shape\":[25]},\"velocity\":[80,80,80,80,80,80,80,80,80,80,80,80,80,80,80,80,80,80,80,80,80,80,80,80,80]},\"selected\":{\"id\":\"6918\"},\"selection_policy\":{\"id\":\"6917\"}},\"id\":\"6896\",\"type\":\"ColumnDataSource\"},{\"attributes\":{\"callback\":null,\"tooltips\":[[\"pitch\",\"@pitch\"],[\"program\",\"@program\"],[\"velo\",\"@velocity\"],[\"duration\",\"@duration\"],[\"start_time\",\"@start_time\"],[\"end_time\",\"@end_time\"],[\"velocity\",\"@velocity\"],[\"fill_alpha\",\"@fill_alpha\"]]},\"id\":\"6875\",\"type\":\"HoverTool\"},{\"attributes\":{},\"id\":\"6911\",\"type\":\"BasicTickFormatter\"},{\"attributes\":{\"bottom\":{\"field\":\"bottom\"},\"fill_alpha\":{\"value\":0.1},\"fill_color\":{\"value\":\"#f46d43\"},\"left\":{\"field\":\"start_time\"},\"line_alpha\":{\"value\":0.1},\"right\":{\"field\":\"end_time\"},\"top\":{\"field\":\"top\"}},\"id\":\"6905\",\"type\":\"Quad\"},{\"attributes\":{\"data_source\":{\"id\":\"6890\"},\"glyph\":{\"id\":\"6892\"},\"hover_glyph\":null,\"muted_glyph\":null,\"nonselection_glyph\":{\"id\":\"6893\"},\"view\":{\"id\":\"6895\"}},\"id\":\"6894\",\"type\":\"GlyphRenderer\"},{\"attributes\":{},\"id\":\"6861\",\"type\":\"DataRange1d\"},{\"attributes\":{\"bottom\":{\"field\":\"bottom\"},\"fill_alpha\":{\"field\":\"fill_alpha\"},\"fill_color\":{\"value\":\"#d53e4f\"},\"left\":{\"field\":\"start_time\"},\"right\":{\"field\":\"end_time\"},\"top\":{\"field\":\"top\"}},\"id\":\"6892\",\"type\":\"Quad\"},{\"attributes\":{},\"id\":\"6868\",\"type\":\"BasicTicker\"},{\"attributes\":{},\"id\":\"6859\",\"type\":\"DataRange1d\"},{\"attributes\":{\"source\":{\"id\":\"6902\"}},\"id\":\"6907\",\"type\":\"CDSView\"},{\"attributes\":{},\"id\":\"6920\",\"type\":\"Selection\"},{\"attributes\":{\"data_source\":{\"id\":\"6896\"},\"glyph\":{\"id\":\"6898\"},\"hover_glyph\":null,\"muted_glyph\":null,\"nonselection_glyph\":{\"id\":\"6899\"},\"view\":{\"id\":\"6901\"}},\"id\":\"6900\",\"type\":\"GlyphRenderer\"},{\"attributes\":{\"axis_label\":\"pitch (MIDI)\",\"formatter\":{\"id\":\"6913\"},\"major_label_policy\":{\"id\":\"6914\"},\"ticker\":{\"id\":\"6887\"}},\"id\":\"6871\",\"type\":\"LinearAxis\"},{\"attributes\":{\"bottom\":{\"field\":\"bottom\"},\"fill_alpha\":{\"value\":0.1},\"fill_color\":{\"value\":\"#3288bd\"},\"left\":{\"field\":\"start_time\"},\"line_alpha\":{\"value\":0.1},\"right\":{\"field\":\"end_time\"},\"top\":{\"field\":\"top\"}},\"id\":\"6899\",\"type\":\"Quad\"},{\"attributes\":{\"axis\":{\"id\":\"6867\"},\"ticker\":null},\"id\":\"6870\",\"type\":\"Grid\"},{\"attributes\":{},\"id\":\"6909\",\"type\":\"Title\"}],\"root_ids\":[\"6858\"]},\"title\":\"Bokeh Application\",\"version\":\"2.3.3\"}};\n",
              "  var render_items = [{\"docid\":\"304bb7c8-53fc-461f-92bb-5047bcddf22b\",\"root_ids\":[\"6858\"],\"roots\":{\"6858\":\"9f8b3f99-6f44-4f1c-9c04-97e6dfeff939\"}}];\n",
              "  root.Bokeh.embed.embed_items_notebook(docs_json, render_items);\n",
              "\n",
              "  }\n",
              "  if (root.Bokeh !== undefined) {\n",
              "    embed_document(root);\n",
              "  } else {\n",
              "    var attempts = 0;\n",
              "    var timer = setInterval(function(root) {\n",
              "      if (root.Bokeh !== undefined) {\n",
              "        clearInterval(timer);\n",
              "        embed_document(root);\n",
              "      } else {\n",
              "        attempts++;\n",
              "        if (attempts > 100) {\n",
              "          clearInterval(timer);\n",
              "          console.log(\"Bokeh: ERROR: Unable to run BokehJS code because BokehJS library is missing\");\n",
              "        }\n",
              "      }\n",
              "    }, 10, root)\n",
              "  }\n",
              "})(window);"
            ],
            "application/vnd.bokehjs_exec.v0+json": ""
          },
          "metadata": {
            "tags": [],
            "application/vnd.bokehjs_exec.v0+json": {
              "id": "6858"
            }
          }
        },
        {
          "output_type": "display_data",
          "data": {
            "text/html": [
              "<div id=\"id_25\"> </div>"
            ],
            "text/plain": [
              "<IPython.core.display.HTML object>"
            ]
          },
          "metadata": {
            "tags": []
          }
        }
      ]
    }
  ]
}