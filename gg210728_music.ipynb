{
  "nbformat": 4,
  "nbformat_minor": 0,
  "metadata": {
    "colab": {
      "name": "gg210728_music.ipynb",
      "provenance": [],
      "collapsed_sections": [],
      "toc_visible": true,
      "include_colab_link": true
    },
    "kernelspec": {
      "display_name": "Python 3",
      "name": "python3"
    }
  },
  "cells": [
    {
      "cell_type": "markdown",
      "metadata": {
        "id": "view-in-github",
        "colab_type": "text"
      },
      "source": [
        "<a href=\"https://colab.research.google.com/github/gennadygorin/gillespie-xenakis/blob/main/gg210728_music.ipynb\" target=\"_parent\"><img src=\"https://colab.research.google.com/assets/colab-badge.svg\" alt=\"Open In Colab\"/></a>"
      ]
    },
    {
      "cell_type": "markdown",
      "metadata": {
        "id": "dPkdg9jTjkTd"
      },
      "source": [
        "# Gillespie-Xenakis\n",
        "\n",
        "This notebook uses the [Magenta library](https://magenta.tensorflow.org/) to synthesize audio representations of stochastic process realizations, as simulated by the [Gillespie algorithm](https://www.sciencedirect.com/science/article/pii/0021999176900413). It is based on a [sample Magenta notebook](https://colab.research.google.com/notebooks/magenta/hello_magenta/hello_magenta.ipynb)."
      ]
    },
    {
      "cell_type": "markdown",
      "metadata": {
        "id": "zJbq5TmtFJUU"
      },
      "source": [
        "# Install dependencies"
      ]
    },
    {
      "cell_type": "code",
      "metadata": {
        "cellView": "both",
        "id": "PfRDVhNs3UFx"
      },
      "source": [
        "%%capture\n",
        "#@test {\"output\": \"ignore\"}\n",
        "print('Installing dependencies...')\n",
        "!apt-get update -qq && apt-get install -qq libfluidsynth1 fluid-soundfont-gm build-essential libasound2-dev libjack-dev\n",
        "!pip install -qU pyfluidsynth pretty_midi\n",
        "\n",
        "!pip install -qU magenta\n",
        "\n",
        "# Hack to allow python to pick up the newly-installed fluidsynth lib. \n",
        "# This is only needed for the hosted Colab environment.\n",
        "import ctypes.util\n",
        "orig_ctypes_util_find_library = ctypes.util.find_library\n",
        "def proxy_find_library(lib):\n",
        "  if lib == 'fluidsynth':\n",
        "    return 'libfluidsynth.so.1'\n",
        "  else:\n",
        "    return orig_ctypes_util_find_library(lib)\n",
        "ctypes.util.find_library = proxy_find_library\n",
        "\n",
        "print('Importing libraries and defining some helper functions...')\n",
        "from google.colab import files\n",
        "\n",
        "import magenta\n",
        "import note_seq\n",
        "import tensorflow\n",
        "\n",
        "print('🎉 Done!')\n",
        "print(magenta.__version__)\n",
        "print(tensorflow.__version__)"
      ],
      "execution_count": 1,
      "outputs": []
    },
    {
      "cell_type": "markdown",
      "metadata": {
        "id": "keOzlQwB_s7L"
      },
      "source": [
        "# Import package and define simulation\n",
        "\n",
        "For now, the notebook has a very simple bursty production - isomerization - degradation reaction system:\n",
        "$\\varnothing \\to B\\times \\mathcal{U} \\to \\mathcal{S} \\to \\varnothing$, where $B$ is geometrically distributed."
      ]
    },
    {
      "cell_type": "code",
      "metadata": {
        "id": "E9YTPnC1_rW8"
      },
      "source": [
        "from note_seq.protobuf import music_pb2"
      ],
      "execution_count": 2,
      "outputs": []
    },
    {
      "cell_type": "code",
      "metadata": {
        "id": "BZwKl1n3GZTi"
      },
      "source": [
        "#rewritten to be nonvectorized: if you want multiple cells, just run it multiple times\n",
        "def gill(musicline,k,tvec,S,dt=0.1):\n",
        "    n_species = S.shape[1]\n",
        "    num_t_pts = len(tvec)\n",
        "    X_mesh = np.empty((num_t_pts,n_species),dtype=int) #change to float if storing floats!!!!!!! \n",
        "    X_mesh[:] = np.nan\n",
        "\t#initialize state\n",
        "    t = 0\n",
        "    tindex = 0\n",
        "    X = np.zeros(n_species)\n",
        "\n",
        "\t#initialize list of cells that are being simulated\n",
        "    active = True\n",
        "    while active:\n",
        "        (t_upd,mu_upd) = rxn_calculator(X,t,k,S)\n",
        "        t = t_upd\n",
        "        mu = mu_upd\n",
        "        tvec_time = tvec[tindex]\n",
        "        update = t>tvec_time\n",
        "        while update:\n",
        "            X_mesh[tindex,:] = X\n",
        "            tindex += 1\n",
        "            ended_in_update = tindex>=num_t_pts\n",
        "            if ended_in_update:\n",
        "                active = False\n",
        "                if not active:\n",
        "                    break\n",
        "            tvec_time = tvec[tindex]\n",
        "            update = t>tvec_time\n",
        "        not_burst = mu > 1\n",
        "        burst = mu == 1\n",
        "        if not_burst:\n",
        "            X += S[mu-1]\n",
        "            v_offs = 0\n",
        "        if burst:\n",
        "            bs = np.random.geometric(1/(1+S[0][0]))-1\n",
        "            X += np.matlib.hstack((bs,[0]))\n",
        "            v_offs = bs*3\n",
        "        if active:\n",
        "            add_chord(musicline,t,dt,mu,velocity=80+v_offs)\n",
        "    return X_mesh, musicline"
      ],
      "execution_count": 3,
      "outputs": []
    },
    {
      "cell_type": "code",
      "metadata": {
        "id": "pkOYoMM62WxO"
      },
      "source": [
        "def add_chord(musicline,t,dt,mu=1,inst_dict={1:10,2:11,3:12},velocity=80):\n",
        "    pitch_dict = {1:[36,38,42,46],2:[37],3:[40]}\n",
        "    pitch = pitch_dict[mu]\n",
        "    for i in range(len(pitch)):\n",
        "        musicline.notes.add(pitch=pitch[i], start_time=t, end_time=t+dt, is_drum=True, instrument=inst_dict[mu], velocity=velocity)"
      ],
      "execution_count": 14,
      "outputs": []
    },
    {
      "cell_type": "code",
      "metadata": {
        "id": "bPR6h5ku1xR_"
      },
      "source": [
        "def rxn_calculator(X,t,k,S):\n",
        "    nRxn = S.shape[0]\n",
        "    kinit = k[0]\n",
        "    a = np.zeros(nRxn,dtype=float)\n",
        "    a[0] = kinit\n",
        "    for i in range(1,nRxn):\n",
        "\t    ind = np.where(S[i,:]==-1)[0][0]\n",
        "\t    a[i] = X[ind]*k[i]\n",
        "    a0 = np.sum(a)\n",
        "    t += np.log(1./np.random.rand()) / a0\n",
        "    r2ao = a0 * np.random.rand()\n",
        "    mu = np.sum(r2ao >= np.cumsum(np.concatenate(([0],a))))\n",
        "    return (t,mu)"
      ],
      "execution_count": 10,
      "outputs": []
    },
    {
      "cell_type": "code",
      "metadata": {
        "id": "nFW_l8LzFjeY"
      },
      "source": [
        "import numpy as np\n",
        "from numpy import matlib\n",
        "import matplotlib.pyplot as plt"
      ],
      "execution_count": 6,
      "outputs": []
    },
    {
      "cell_type": "markdown",
      "metadata": {
        "id": "B2n7wEQVABgg"
      },
      "source": [
        "Define the parameters of the system. $k$ defines the transcription, splicing, and degradation rates; $bs$ defines the mean of the geometric burst distribution; $S$ defines the reaction stoichiometry matrix (where the burst size is stored in the first entry for convenience). $T$ is the simulation time horizon."
      ]
    },
    {
      "cell_type": "code",
      "metadata": {
        "id": "acnCiyYHFU5C"
      },
      "source": [
        "k = [0.4,1,1]\n",
        "T = 100\n",
        "# measure_time = T/min(k)\n",
        "measure_time = T\n",
        "bs=10\n",
        "S = np.asarray([[bs,0],[-1,1],[0,-1]])\n",
        "tvec = np.linspace(0,measure_time,1000,endpoint=True)"
      ],
      "execution_count": 7,
      "outputs": []
    },
    {
      "cell_type": "markdown",
      "metadata": {
        "id": "6VY_-FPyASPQ"
      },
      "source": [
        "Define the drum sequence and run the simulation!"
      ]
    },
    {
      "cell_type": "code",
      "metadata": {
        "id": "bJFKdtlXFnW7"
      },
      "source": [
        "drums = music_pb2.NoteSequence()\n",
        "drums.total_time = T\n",
        "\n",
        "drums.tempos.add(qpm=120)\n",
        "X,drums=gill(drums,k,tvec,S)"
      ],
      "execution_count": 15,
      "outputs": []
    },
    {
      "cell_type": "markdown",
      "metadata": {
        "id": "enV6e9QFAVj1"
      },
      "source": [
        "Plot the simulation trajectory."
      ]
    },
    {
      "cell_type": "code",
      "metadata": {
        "colab": {
          "base_uri": "https://localhost:8080/",
          "height": 298
        },
        "id": "18IpjHdb4MBB",
        "outputId": "46263154-17d9-4eeb-f963-ab39c82f0453"
      },
      "source": [
        "plt.plot(tvec,X)"
      ],
      "execution_count": 16,
      "outputs": [
        {
          "output_type": "execute_result",
          "data": {
            "text/plain": [
              "[<matplotlib.lines.Line2D at 0x7f4b488bc610>,\n",
              " <matplotlib.lines.Line2D at 0x7f4b488bc4d0>]"
            ]
          },
          "metadata": {
            "tags": []
          },
          "execution_count": 16
        },
        {
          "output_type": "display_data",
          "data": {
            "image/png": "[encoded data removed]",
            "text/plain": [
              "<Figure size 432x288 with 1 Axes>"
            ]
          },
          "metadata": {
            "tags": [],
            "needs_background": "light"
          }
        }
      ]
    },
    {
      "cell_type": "markdown",
      "metadata": {
        "id": "vALlwlS7AYmU"
      },
      "source": [
        "Visualize and play the sequence. A transcription event has several notes (with strike velocity modulated by burst size), other reactions only one. "
      ]
    },
    {
      "cell_type": "code",
      "metadata": {
        "id": "xtpm0LciE_K1",
        "colab": {
          "base_uri": "https://localhost:8080/",
          "height": 275
        },
        "outputId": "bb31935b-6533-4cfc-dc3e-6661322376da"
      },
      "source": [
        "note_seq.plot_sequence(drums)\n",
        "note_seq.play_sequence(drums,synth=note_seq.fluidsynth)"
      ],
      "execution_count": 17,
      "outputs": [
        {
          "output_type": "display_data",
          "data": {
            "application/javascript": [
              "\n",
              "(function(root) {\n",
              "  function now() {\n",
              "    return new Date();\n",
              "  }\n",
              "\n",
              "  var force = true;\n",
              "\n",
              "  if (typeof root._bokeh_onload_callbacks === \"undefined\" || force === true) {\n",
              "    root._bokeh_onload_callbacks = [];\n",
              "    root._bokeh_is_loading = undefined;\n",
              "  }\n",
              "\n",
              "  var JS_MIME_TYPE = 'application/javascript';\n",
              "  var HTML_MIME_TYPE = 'text/html';\n",
              "  var EXEC_MIME_TYPE = 'application/vnd.bokehjs_exec.v0+json';\n",
              "  var CLASS_NAME = 'output_bokeh rendered_html';\n",
              "\n",
              "  /**\n",
              "   * Render data to the DOM node\n",
              "   */\n",
              "  function render(props, node) {\n",
              "    var script = document.createElement(\"script\");\n",
              "    node.appendChild(script);\n",
              "  }\n",
              "\n",
              "  /**\n",
              "   * Handle when an output is cleared or removed\n",
              "   */\n",
              "  function handleClearOutput(event, handle) {\n",
              "    var cell = handle.cell;\n",
              "\n",
              "    var id = cell.output_area._bokeh_element_id;\n",
              "    var server_id = cell.output_area._bokeh_server_id;\n",
              "    // Clean up Bokeh references\n",
              "    if (id != null && id in Bokeh.index) {\n",
              "      Bokeh.index[id].model.document.clear();\n",
              "      delete Bokeh.index[id];\n",
              "    }\n",
              "\n",
              "    if (server_id !== undefined) {\n",
              "      // Clean up Bokeh references\n",
              "      var cmd = \"from bokeh.io.state import curstate; print(curstate().uuid_to_server['\" + server_id + \"'].get_sessions()[0].document.roots[0]._id)\";\n",
              "      cell.notebook.kernel.execute(cmd, {\n",
              "        iopub: {\n",
              "          output: function(msg) {\n",
              "            var id = msg.content.text.trim();\n",
              "            if (id in Bokeh.index) {\n",
              "              Bokeh.index[id].model.document.clear();\n",
              "              delete Bokeh.index[id];\n",
              "            }\n",
              "          }\n",
              "        }\n",
              "      });\n",
              "      // Destroy server and session\n",
              "      var cmd = \"import bokeh.io.notebook as ion; ion.destroy_server('\" + server_id + \"')\";\n",
              "      cell.notebook.kernel.execute(cmd);\n",
              "    }\n",
              "  }\n",
              "\n",
              "  /**\n",
              "   * Handle when a new output is added\n",
              "   */\n",
              "  function handleAddOutput(event, handle) {\n",
              "    var output_area = handle.output_area;\n",
              "    var output = handle.output;\n",
              "\n",
              "    // limit handleAddOutput to display_data with EXEC_MIME_TYPE content only\n",
              "    if ((output.output_type != \"display_data\") || (!Object.prototype.hasOwnProperty.call(output.data, EXEC_MIME_TYPE))) {\n",
              "      return\n",
              "    }\n",
              "\n",
              "    var toinsert = output_area.element.find(\".\" + CLASS_NAME.split(' ')[0]);\n",
              "\n",
              "    if (output.metadata[EXEC_MIME_TYPE][\"id\"] !== undefined) {\n",
              "      toinsert[toinsert.length - 1].firstChild.textContent = output.data[JS_MIME_TYPE];\n",
              "      // store reference to embed id on output_area\n",
              "      output_area._bokeh_element_id = output.metadata[EXEC_MIME_TYPE][\"id\"];\n",
              "    }\n",
              "    if (output.metadata[EXEC_MIME_TYPE][\"server_id\"] !== undefined) {\n",
              "      var bk_div = document.createElement(\"div\");\n",
              "      bk_div.innerHTML = output.data[HTML_MIME_TYPE];\n",
              "      var script_attrs = bk_div.children[0].attributes;\n",
              "      for (var i = 0; i < script_attrs.length; i++) {\n",
              "        toinsert[toinsert.length - 1].firstChild.setAttribute(script_attrs[i].name, script_attrs[i].value);\n",
              "        toinsert[toinsert.length - 1].firstChild.textContent = bk_div.children[0].textContent\n",
              "      }\n",
              "      // store reference to server id on output_area\n",
              "      output_area._bokeh_server_id = output.metadata[EXEC_MIME_TYPE][\"server_id\"];\n",
              "    }\n",
              "  }\n",
              "\n",
              "  function register_renderer(events, OutputArea) {\n",
              "\n",
              "    function append_mime(data, metadata, element) {\n",
              "      // create a DOM node to render to\n",
              "      var toinsert = this.create_output_subarea(\n",
              "        metadata,\n",
              "        CLASS_NAME,\n",
              "        EXEC_MIME_TYPE\n",
              "      );\n",
              "      this.keyboard_manager.register_events(toinsert);\n",
              "      // Render to node\n",
              "      var props = {data: data, metadata: metadata[EXEC_MIME_TYPE]};\n",
              "      render(props, toinsert[toinsert.length - 1]);\n",
              "      element.append(toinsert);\n",
              "      return toinsert\n",
              "    }\n",
              "\n",
              "    /* Handle when an output is cleared or removed */\n",
              "    events.on('clear_output.CodeCell', handleClearOutput);\n",
              "    events.on('delete.Cell', handleClearOutput);\n",
              "\n",
              "    /* Handle when a new output is added */\n",
              "    events.on('output_added.OutputArea', handleAddOutput);\n",
              "\n",
              "    /**\n",
              "     * Register the mime type and append_mime function with output_area\n",
              "     */\n",
              "    OutputArea.prototype.register_mime_type(EXEC_MIME_TYPE, append_mime, {\n",
              "      /* Is output safe? */\n",
              "      safe: true,\n",
              "      /* Index of renderer in `output_area.display_order` */\n",
              "      index: 0\n",
              "    });\n",
              "  }\n",
              "\n",
              "  // register the mime type if in Jupyter Notebook environment and previously unregistered\n",
              "  if (root.Jupyter !== undefined) {\n",
              "    var events = require('base/js/events');\n",
              "    var OutputArea = require('notebook/js/outputarea').OutputArea;\n",
              "\n",
              "    if (OutputArea.prototype.mime_types().indexOf(EXEC_MIME_TYPE) == -1) {\n",
              "      register_renderer(events, OutputArea);\n",
              "    }\n",
              "  }\n",
              "\n",
              "  \n",
              "  if (typeof (root._bokeh_timeout) === \"undefined\" || force === true) {\n",
              "    root._bokeh_timeout = Date.now() + 5000;\n",
              "    root._bokeh_failed_load = false;\n",
              "  }\n",
              "\n",
              "  var NB_LOAD_WARNING = {'data': {'text/html':\n",
              "     \"<div style='background-color: #fdd'>\\n\"+\n",
              "     \"<p>\\n\"+\n",
              "     \"BokehJS does not appear to have successfully loaded. If loading BokehJS from CDN, this \\n\"+\n",
              "     \"may be due to a slow or bad network connection. Possible fixes:\\n\"+\n",
              "     \"</p>\\n\"+\n",
              "     \"<ul>\\n\"+\n",
              "     \"<li>re-rerun `output_notebook()` to attempt to load from CDN again, or</li>\\n\"+\n",
              "     \"<li>use INLINE resources instead, as so:</li>\\n\"+\n",
              "     \"</ul>\\n\"+\n",
              "     \"<code>\\n\"+\n",
              "     \"from bokeh.resources import INLINE\\n\"+\n",
              "     \"output_notebook(resources=INLINE)\\n\"+\n",
              "     \"</code>\\n\"+\n",
              "     \"</div>\"}};\n",
              "\n",
              "  function display_loaded() {\n",
              "    var el = document.getElementById(null);\n",
              "    if (el != null) {\n",
              "      el.textContent = \"BokehJS is loading...\";\n",
              "    }\n",
              "    if (root.Bokeh !== undefined) {\n",
              "      if (el != null) {\n",
              "        el.textContent = \"BokehJS \" + root.Bokeh.version + \" successfully loaded.\";\n",
              "      }\n",
              "    } else if (Date.now() < root._bokeh_timeout) {\n",
              "      setTimeout(display_loaded, 100)\n",
              "    }\n",
              "  }\n",
              "\n",
              "\n",
              "  function run_callbacks() {\n",
              "    try {\n",
              "      root._bokeh_onload_callbacks.forEach(function(callback) {\n",
              "        if (callback != null)\n",
              "          callback();\n",
              "      });\n",
              "    } finally {\n",
              "      delete root._bokeh_onload_callbacks\n",
              "    }\n",
              "    console.debug(\"Bokeh: all callbacks have finished\");\n",
              "  }\n",
              "\n",
              "  function load_libs(css_urls, js_urls, callback) {\n",
              "    if (css_urls == null) css_urls = [];\n",
              "    if (js_urls == null) js_urls = [];\n",
              "\n",
              "    root._bokeh_onload_callbacks.push(callback);\n",
              "    if (root._bokeh_is_loading > 0) {\n",
              "      console.debug(\"Bokeh: BokehJS is being loaded, scheduling callback at\", now());\n",
              "      return null;\n",
              "    }\n",
              "    if (js_urls == null || js_urls.length === 0) {\n",
              "      run_callbacks();\n",
              "      return null;\n",
              "    }\n",
              "    console.debug(\"Bokeh: BokehJS not loaded, scheduling load and callback at\", now());\n",
              "    root._bokeh_is_loading = css_urls.length + js_urls.length;\n",
              "\n",
              "    function on_load() {\n",
              "      root._bokeh_is_loading--;\n",
              "      if (root._bokeh_is_loading === 0) {\n",
              "        console.debug(\"Bokeh: all BokehJS libraries/stylesheets loaded\");\n",
              "        run_callbacks()\n",
              "      }\n",
              "    }\n",
              "\n",
              "    function on_error(url) {\n",
              "      console.error(\"failed to load \" + url);\n",
              "    }\n",
              "\n",
              "    for (let i = 0; i < css_urls.length; i++) {\n",
              "      const url = css_urls[i];\n",
              "      const element = document.createElement(\"link\");\n",
              "      element.onload = on_load;\n",
              "      element.onerror = on_error.bind(null, url);\n",
              "      element.rel = \"stylesheet\";\n",
              "      element.type = \"text/css\";\n",
              "      element.href = url;\n",
              "      console.debug(\"Bokeh: injecting link tag for BokehJS stylesheet: \", url);\n",
              "      document.body.appendChild(element);\n",
              "    }\n",
              "\n",
              "    const hashes = {\"https://cdn.bokeh.org/bokeh/release/bokeh-2.3.3.min.js\": \"dM3QQsP+wXdHg42wTqW85BjZQdLNNIXqlPw/BgKoExPmTG7ZLML4EGqLMfqHT6ON\", \"https://cdn.bokeh.org/bokeh/release/bokeh-tables-2.3.3.min.js\": \"8x57I4YuIfu8XyZfFo0XVr2WAT8EK4rh/uDe3wF7YuW2FNUSNEpJbsPaB1nJ2fz2\", \"https://cdn.bokeh.org/bokeh/release/bokeh-widgets-2.3.3.min.js\": \"3QTqdz9LyAm2i0sG5XTePsHec3UHWwVsrOL68SYRoAXsafvfAyqtQ+h440+qIBhS\"};\n",
              "\n",
              "    for (let i = 0; i < js_urls.length; i++) {\n",
              "      const url = js_urls[i];\n",
              "      const element = document.createElement('script');\n",
              "      element.onload = on_load;\n",
              "      element.onerror = on_error.bind(null, url);\n",
              "      element.async = false;\n",
              "      element.src = url;\n",
              "      if (url in hashes) {\n",
              "        element.crossOrigin = \"anonymous\";\n",
              "        element.integrity = \"sha384-\" + hashes[url];\n",
              "      }\n",
              "      console.debug(\"Bokeh: injecting script tag for BokehJS library: \", url);\n",
              "      document.head.appendChild(element);\n",
              "    }\n",
              "  };\n",
              "\n",
              "  function inject_raw_css(css) {\n",
              "    const element = document.createElement(\"style\");\n",
              "    element.appendChild(document.createTextNode(css));\n",
              "    document.body.appendChild(element);\n",
              "  }\n",
              "\n",
              "  \n",
              "  var js_urls = [\"https://cdn.bokeh.org/bokeh/release/bokeh-2.3.3.min.js\", \"https://cdn.bokeh.org/bokeh/release/bokeh-widgets-2.3.3.min.js\", \"https://cdn.bokeh.org/bokeh/release/bokeh-tables-2.3.3.min.js\"];\n",
              "  var css_urls = [];\n",
              "  \n",
              "\n",
              "  var inline_js = [\n",
              "    function(Bokeh) {\n",
              "      Bokeh.set_log_level(\"info\");\n",
              "    },\n",
              "    function(Bokeh) {\n",
              "    \n",
              "    \n",
              "    }\n",
              "  ];\n",
              "\n",
              "  function run_inline_js() {\n",
              "    \n",
              "    if (root.Bokeh !== undefined || force === true) {\n",
              "      \n",
              "    for (var i = 0; i < inline_js.length; i++) {\n",
              "      inline_js[i].call(root, root.Bokeh);\n",
              "    }\n",
              "    } else if (Date.now() < root._bokeh_timeout) {\n",
              "      setTimeout(run_inline_js, 100);\n",
              "    } else if (!root._bokeh_failed_load) {\n",
              "      console.log(\"Bokeh: BokehJS failed to load within specified timeout.\");\n",
              "      root._bokeh_failed_load = true;\n",
              "    } else if (force !== true) {\n",
              "      var cell = $(document.getElementById(null)).parents('.cell').data().cell;\n",
              "      cell.output_area.append_execute_result(NB_LOAD_WARNING)\n",
              "    }\n",
              "\n",
              "  }\n",
              "\n",
              "  if (root._bokeh_is_loading === 0) {\n",
              "    console.debug(\"Bokeh: BokehJS loaded, going straight to plotting\");\n",
              "    run_inline_js();\n",
              "  } else {\n",
              "    load_libs(css_urls, js_urls, function() {\n",
              "      console.debug(\"Bokeh: BokehJS plotting callback run at\", now());\n",
              "      run_inline_js();\n",
              "    });\n",
              "  }\n",
              "}(window));"
            ],
            "application/vnd.bokehjs_load.v0+json": "\n(function(root) {\n  function now() {\n    return new Date();\n  }\n\n  var force = true;\n\n  if (typeof root._bokeh_onload_callbacks === \"undefined\" || force === true) {\n    root._bokeh_onload_callbacks = [];\n    root._bokeh_is_loading = undefined;\n  }\n\n  \n\n  \n  if (typeof (root._bokeh_timeout) === \"undefined\" || force === true) {\n    root._bokeh_timeout = Date.now() + 5000;\n    root._bokeh_failed_load = false;\n  }\n\n  var NB_LOAD_WARNING = {'data': {'text/html':\n     \"<div style='background-color: #fdd'>\\n\"+\n     \"<p>\\n\"+\n     \"BokehJS does not appear to have successfully loaded. If loading BokehJS from CDN, this \\n\"+\n     \"may be due to a slow or bad network connection. Possible fixes:\\n\"+\n     \"</p>\\n\"+\n     \"<ul>\\n\"+\n     \"<li>re-rerun `output_notebook()` to attempt to load from CDN again, or</li>\\n\"+\n     \"<li>use INLINE resources instead, as so:</li>\\n\"+\n     \"</ul>\\n\"+\n     \"<code>\\n\"+\n     \"from bokeh.resources import INLINE\\n\"+\n     \"output_notebook(resources=INLINE)\\n\"+\n     \"</code>\\n\"+\n     \"</div>\"}};\n\n  function display_loaded() {\n    var el = document.getElementById(null);\n    if (el != null) {\n      el.textContent = \"BokehJS is loading...\";\n    }\n    if (root.Bokeh !== undefined) {\n      if (el != null) {\n        el.textContent = \"BokehJS \" + root.Bokeh.version + \" successfully loaded.\";\n      }\n    } else if (Date.now() < root._bokeh_timeout) {\n      setTimeout(display_loaded, 100)\n    }\n  }\n\n\n  function run_callbacks() {\n    try {\n      root._bokeh_onload_callbacks.forEach(function(callback) {\n        if (callback != null)\n          callback();\n      });\n    } finally {\n      delete root._bokeh_onload_callbacks\n    }\n    console.debug(\"Bokeh: all callbacks have finished\");\n  }\n\n  function load_libs(css_urls, js_urls, callback) {\n    if (css_urls == null) css_urls = [];\n    if (js_urls == null) js_urls = [];\n\n    root._bokeh_onload_callbacks.push(callback);\n    if (root._bokeh_is_loading > 0) {\n      console.debug(\"Bokeh: BokehJS is being loaded, scheduling callback at\", now());\n      return null;\n    }\n    if (js_urls == null || js_urls.length === 0) {\n      run_callbacks();\n      return null;\n    }\n    console.debug(\"Bokeh: BokehJS not loaded, scheduling load and callback at\", now());\n    root._bokeh_is_loading = css_urls.length + js_urls.length;\n\n    function on_load() {\n      root._bokeh_is_loading--;\n      if (root._bokeh_is_loading === 0) {\n        console.debug(\"Bokeh: all BokehJS libraries/stylesheets loaded\");\n        run_callbacks()\n      }\n    }\n\n    function on_error(url) {\n      console.error(\"failed to load \" + url);\n    }\n\n    for (let i = 0; i < css_urls.length; i++) {\n      const url = css_urls[i];\n      const element = document.createElement(\"link\");\n      element.onload = on_load;\n      element.onerror = on_error.bind(null, url);\n      element.rel = \"stylesheet\";\n      element.type = \"text/css\";\n      element.href = url;\n      console.debug(\"Bokeh: injecting link tag for BokehJS stylesheet: \", url);\n      document.body.appendChild(element);\n    }\n\n    const hashes = {\"https://cdn.bokeh.org/bokeh/release/bokeh-2.3.3.min.js\": \"dM3QQsP+wXdHg42wTqW85BjZQdLNNIXqlPw/BgKoExPmTG7ZLML4EGqLMfqHT6ON\", \"https://cdn.bokeh.org/bokeh/release/bokeh-tables-2.3.3.min.js\": \"8x57I4YuIfu8XyZfFo0XVr2WAT8EK4rh/uDe3wF7YuW2FNUSNEpJbsPaB1nJ2fz2\", \"https://cdn.bokeh.org/bokeh/release/bokeh-widgets-2.3.3.min.js\": \"3QTqdz9LyAm2i0sG5XTePsHec3UHWwVsrOL68SYRoAXsafvfAyqtQ+h440+qIBhS\"};\n\n    for (let i = 0; i < js_urls.length; i++) {\n      const url = js_urls[i];\n      const element = document.createElement('script');\n      element.onload = on_load;\n      element.onerror = on_error.bind(null, url);\n      element.async = false;\n      element.src = url;\n      if (url in hashes) {\n        element.crossOrigin = \"anonymous\";\n        element.integrity = \"sha384-\" + hashes[url];\n      }\n      console.debug(\"Bokeh: injecting script tag for BokehJS library: \", url);\n      document.head.appendChild(element);\n    }\n  };\n\n  function inject_raw_css(css) {\n    const element = document.createElement(\"style\");\n    element.appendChild(document.createTextNode(css));\n    document.body.appendChild(element);\n  }\n\n  \n  var js_urls = [\"https://cdn.bokeh.org/bokeh/release/bokeh-2.3.3.min.js\", \"https://cdn.bokeh.org/bokeh/release/bokeh-widgets-2.3.3.min.js\", \"https://cdn.bokeh.org/bokeh/release/bokeh-tables-2.3.3.min.js\"];\n  var css_urls = [];\n  \n\n  var inline_js = [\n    function(Bokeh) {\n      Bokeh.set_log_level(\"info\");\n    },\n    function(Bokeh) {\n    \n    \n    }\n  ];\n\n  function run_inline_js() {\n    \n    if (root.Bokeh !== undefined || force === true) {\n      \n    for (var i = 0; i < inline_js.length; i++) {\n      inline_js[i].call(root, root.Bokeh);\n    }\n    } else if (Date.now() < root._bokeh_timeout) {\n      setTimeout(run_inline_js, 100);\n    } else if (!root._bokeh_failed_load) {\n      console.log(\"Bokeh: BokehJS failed to load within specified timeout.\");\n      root._bokeh_failed_load = true;\n    } else if (force !== true) {\n      var cell = $(document.getElementById(null)).parents('.cell').data().cell;\n      cell.output_area.append_execute_result(NB_LOAD_WARNING)\n    }\n\n  }\n\n  if (root._bokeh_is_loading === 0) {\n    console.debug(\"Bokeh: BokehJS loaded, going straight to plotting\");\n    run_inline_js();\n  } else {\n    load_libs(css_urls, js_urls, function() {\n      console.debug(\"Bokeh: BokehJS plotting callback run at\", now());\n      run_inline_js();\n    });\n  }\n}(window));"
          },
          "metadata": {
            "tags": []
          }
        },
        {
          "output_type": "display_data",
          "data": {
            "text/html": [
              "\n",
              "\n",
              "\n",
              "\n",
              "\n",
              "\n",
              "  <div class=\"bk-root\" id=\"18606ab4-18f4-4795-a99e-0ea43fba6384\" data-root-id=\"1150\"></div>\n"
            ]
          },
          "metadata": {
            "tags": []
          }
        },
        {
          "output_type": "display_data",
          "data": {
            "application/javascript": [
              "(function(root) {\n",
              "  function embed_document(root) {\n",
              "    \n",
              "  var docs_json = {\"4d82d455-47d5-4839-b490-0de3337117b8\":{\"defs\":[],\"roots\":{\"references\":[{\"attributes\":{\"below\":[{\"id\":\"1159\"}],\"center\":[{\"id\":\"1162\"},{\"id\":\"1166\"}],\"height\":200,\"left\":[{\"id\":\"1163\"}],\"renderers\":[{\"id\":\"1186\"},{\"id\":\"1192\"},{\"id\":\"1198\"}],\"title\":{\"id\":\"1200\"},\"toolbar\":{\"id\":\"1173\"},\"width\":500,\"x_range\":{\"id\":\"1151\"},\"x_scale\":{\"id\":\"1155\"},\"y_range\":{\"id\":\"1153\"},\"y_scale\":{\"id\":\"1157\"}},\"id\":\"1150\",\"subtype\":\"Figure\",\"type\":\"Plot\"},{\"attributes\":{\"callback\":null,\"tooltips\":[[\"pitch\",\"@pitch\"],[\"program\",\"@program\"],[\"velo\",\"@velocity\"],[\"duration\",\"@duration\"],[\"start_time\",\"@start_time\"],[\"end_time\",\"@end_time\"],[\"velocity\",\"@velocity\"],[\"fill_alpha\",\"@fill_alpha\"]]},\"id\":\"1167\",\"type\":\"HoverTool\"},{\"attributes\":{\"data\":{\"bottom\":{\"__ndarray__\":\"zczMzMzMQUDNzMzMzMxCQM3MzMzMzERAzczMzMzMRkDNzMzMzMxBQM3MzMzMzEJAzczMzMzMREDNzMzMzMxGQM3MzMzMzEFAzczMzMzMQkDNzMzMzMxEQM3MzMzMzEZAzczMzMzMQUDNzMzMzMxCQM3MzMzMzERAzczMzMzMRkDNzMzMzMxBQM3MzMzMzEJAzczMzMzMREDNzMzMzMxGQM3MzMzMzEFAzczMzMzMQkDNzMzMzMxEQM3MzMzMzEZAzczMzMzMQUDNzMzMzMxCQM3MzMzMzERAzczMzMzMRkDNzMzMzMxBQM3MzMzMzEJAzczMzMzMREDNzMzMzMxGQM3MzMzMzEFAzczMzMzMQkDNzMzMzMxEQM3MzMzMzEZAzczMzMzMQUDNzMzMzMxCQM3MzMzMzERAzczMzMzMRkDNzMzMzMxBQM3MzMzMzEJAzczMzMzMREDNzMzMzMxGQM3MzMzMzEFAzczMzMzMQkDNzMzMzMxEQM3MzMzMzEZAzczMzMzMQUDNzMzMzMxCQM3MzMzMzERAzczMzMzMRkDNzMzMzMxBQM3MzMzMzEJAzczMzMzMREDNzMzMzMxGQM3MzMzMzEFAzczMzMzMQkDNzMzMzMxEQM3MzMzMzEZAzczMzMzMQUDNzMzMzMxCQM3MzMzMzERAzczMzMzMRkDNzMzMzMxBQM3MzMzMzEJAzczMzMzMREDNzMzMzMxGQM3MzMzMzEFAzczMzMzMQkDNzMzMzMxEQM3MzMzMzEZAzczMzMzMQUDNzMzMzMxCQM3MzMzMzERAzczMzMzMRkDNzMzMzMxBQM3MzMzMzEJAzczMzMzMREDNzMzMzMxGQM3MzMzMzEFAzczMzMzMQkDNzMzMzMxEQM3MzMzMzEZAzczMzMzMQUDNzMzMzMxCQM3MzMzMzERAzczMzMzMRkDNzMzMzMxBQM3MzMzMzEJAzczMzMzMREDNzMzMzMxGQM3MzMzMzEFAzczMzMzMQkDNzMzMzMxEQM3MzMzMzEZAzczMzMzMQUDNzMzMzMxCQM3MzMzMzERAzczMzMzMRkDNzMzMzMxBQM3MzMzMzEJAzczMzMzMREDNzMzMzMxGQM3MzMzMzEFAzczMzMzMQkDNzMzMzMxEQM3MzMzMzEZAzczMzMzMQUDNzMzMzMxCQM3MzMzMzERAzczMzMzMRkDNzMzMzMxBQM3MzMzMzEJAzczMzMzMREDNzMzMzMxGQM3MzMzMzEFAzczMzMzMQkDNzMzMzMxEQM3MzMzMzEZAzczMzMzMQUDNzMzMzMxCQM3MzMzMzERAzczMzMzMRkDNzMzMzMxBQM3MzMzMzEJAzczMzMzMREDNzMzMzMxGQM3MzMzMzEFAzczMzMzMQkDNzMzMzMxEQM3MzMzMzEZAzczMzMzMQUDNzMzMzMxCQM3MzMzMzERAzczMzMzMRkDNzMzMzMxBQM3MzMzMzEJAzczMzMzMREDNzMzMzMxGQM3MzMzMzEFAzczMzMzMQkDNzMzMzMxEQM3MzMzMzEZAzczMzMzMQUDNzMzMzMxCQM3MzMzMzERAzczMzMzMRkDNzMzMzMxBQM3MzMzMzEJAzczMzMzMREDNzMzMzMxGQM3MzMzMzEFAzczMzMzMQkDNzMzMzMxEQM3MzMzMzEZAzczMzMzMQUDNzMzMzMxCQM3MzMzMzERAzczMzMzMRkA=\",\"dtype\":\"float64\",\"order\":\"little\",\"shape\":[160]},\"duration\":{\"__ndarray__\":\"oJmZmZmZuT+gmZmZmZm5P6CZmZmZmbk/oJmZmZmZuT+gmZmZmZm5P6CZmZmZmbk/oJmZmZmZuT+gmZmZmZm5P6CZmZmZmbk/oJmZmZmZuT+gmZmZmZm5P6CZmZmZmbk/gJmZmZmZuT+AmZmZmZm5P4CZmZmZmbk/gJmZmZmZuT+AmZmZmZm5P4CZmZmZmbk/gJmZmZmZuT+AmZmZmZm5P4CZmZmZmbk/gJmZmZmZuT+AmZmZmZm5P4CZmZmZmbk/gJmZmZmZuT+AmZmZmZm5P4CZmZmZmbk/gJmZmZmZuT+AmZmZmZm5P4CZmZmZmbk/gJmZmZmZuT+AmZmZmZm5PwCamZmZmbk/AJqZmZmZuT8AmpmZmZm5PwCamZmZmbk/AJqZmZmZuT8AmpmZmZm5PwCamZmZmbk/AJqZmZmZuT8AmpmZmZm5PwCamZmZmbk/AJqZmZmZuT8AmpmZmZm5PwCamZmZmbk/AJqZmZmZuT8AmpmZmZm5PwCamZmZmbk/AJqZmZmZuT8AmpmZmZm5PwCamZmZmbk/AJqZmZmZuT8AmpmZmZm5PwCamZmZmbk/AJqZmZmZuT8AmpmZmZm5PwCamZmZmbk/AJqZmZmZuT8AmpmZmZm5PwCamZmZmbk/AJqZmZmZuT8AmpmZmZm5PwCamZmZmbk/AJqZmZmZuT8AmpmZmZm5PwCamZmZmbk/AJqZmZmZuT8AmpmZmZm5PwCamZmZmbk/AJqZmZmZuT8AmpmZmZm5PwCamZmZmbk/AJqZmZmZuT8AmpmZmZm5PwCamZmZmbk/AJqZmZmZuT8AmpmZmZm5PwCamZmZmbk/AJqZmZmZuT8AmpmZmZm5PwCamZmZmbk/AJqZmZmZuT8AmpmZmZm5PwCamZmZmbk/AJqZmZmZuT8AmpmZmZm5PwCamZmZmbk/AJqZmZmZuT8AmpmZmZm5PwCamZmZmbk/AJqZmZmZuT8AmpmZmZm5PwCamZmZmbk/AJqZmZmZuT8AmpmZmZm5PwCamZmZmbk/AJiZmZmZuT8AmJmZmZm5PwCYmZmZmbk/AJiZmZmZuT8AmJmZmZm5PwCYmZmZmbk/AJiZmZmZuT8AmJmZmZm5PwCYmZmZmbk/AJiZmZmZuT8AmJmZmZm5PwCYmZmZmbk/AJiZmZmZuT8AmJmZmZm5PwCYmZmZmbk/AJiZmZmZuT8AmJmZmZm5PwCYmZmZmbk/AJiZmZmZuT8AmJmZmZm5PwCYmZmZmbk/AJiZmZmZuT8AmJmZmZm5PwCYmZmZmbk/AJiZmZmZuT8AmJmZmZm5PwCYmZmZmbk/AJiZmZmZuT8AmJmZmZm5PwCYmZmZmbk/AJiZmZmZuT8AmJmZmZm5PwCYmZmZmbk/AJiZmZmZuT8AmJmZmZm5PwCYmZmZmbk/AJiZmZmZuT8AmJmZmZm5PwCYmZmZmbk/AJiZmZmZuT8AmJmZmZm5PwCYmZmZmbk/AJiZmZmZuT8AmJmZmZm5PwCYmZmZmbk/AJiZmZmZuT8AmJmZmZm5PwCYmZmZmbk/AJiZmZmZuT8AmJmZmZm5PwCYmZmZmbk/AJiZmZmZuT8AmJmZmZm5PwCYmZmZmbk/AJiZmZmZuT8AmJmZmZm5PwCYmZmZmbk/AJiZmZmZuT8AmJmZmZm5PwCYmZmZmbk/AJiZmZmZuT8AmJmZmZm5PwCYmZmZmbk/AJiZmZmZuT8=\",\"dtype\":\"float64\",\"order\":\"little\",\"shape\":[160]},\"end_time\":{\"__ndarray__\":\"yNDfP6WB9D/I0N8/pYH0P8jQ3z+lgfQ/yNDfP6WB9D+VLOV7f2P3P5Us5Xt/Y/c/lSzle39j9z+VLOV7f2P3P3ty/acrNA1Ae3L9pys0DUB7cv2nKzQNQHty/acrNA1ARLPViPQIG0BEs9WI9AgbQESz1Yj0CBtARLPViPQIG0ByRgwewYImQHJGDB7BgiZAckYMHsGCJkByRgwewYImQO3cWuNs+ylA7dxa42z7KUDt3FrjbPspQO3cWuNs+ylA4P6PW8QjL0Dg/o9bxCMvQOD+j1vEIy9A4P6PW8QjL0DIY/ngPMcvQMhj+eA8xy9AyGP54DzHL0DIY/ngPMcvQBFBxReOLzJAEUHFF44vMkARQcUXji8yQBFBxReOLzJAJcoyvkRyMkAlyjK+RHIyQCXKMr5EcjJAJcoyvkRyMkBRA2DfIW8zQFEDYN8hbzNAUQNg3yFvM0BRA2DfIW8zQHKq0/Pq3TNAcqrT8+rdM0ByqtPz6t0zQHKq0/Pq3TNAbdQ2EsRgOEBt1DYSxGA4QG3UNhLEYDhAbdQ2EsRgOEBDK4KdSMI7QEMrgp1IwjtAQyuCnUjCO0BDK4KdSMI7QD/l2e1Qvz9AP+XZ7VC/P0A/5dntUL8/QD/l2e1Qvz9ALsZGAywEQkAuxkYDLARCQC7GRgMsBEJALsZGAywEQkDC7qMuYiZCQMLuoy5iJkJAwu6jLmImQkDC7qMuYiZCQC4JcLiryURALglwuKvJREAuCXC4q8lEQC4JcLiryURAxUVBde8WR0DFRUF17xZHQMVFQXXvFkdAxUVBde8WR0CBq/7YbgNJQIGr/thuA0lAgav+2G4DSUCBq/7YbgNJQNx3sS2pdkpA3HexLal2SkDcd7EtqXZKQNx3sS2pdkpATo1FcJk2TUBOjUVwmTZNQE6NRXCZNk1ATo1FcJk2TUDLUAw5jfpNQMtQDDmN+k1Ay1AMOY36TUDLUAw5jfpNQGiZUsjycE5AaJlSyPJwTkBomVLI8nBOQGiZUsjycE5AbxdcCLuvUEBvF1wIu69QQG8XXAi7r1BAbxdcCLuvUEAOkilEuMFQQA6SKUS4wVBADpIpRLjBUEAOkilEuMFQQGTFLN9OblFAZMUs305uUUBkxSzfTm5RQGTFLN9OblFABILQk+9+UUAEgtCT735RQASC0JPvflFABILQk+9+UUCh/UcyGDhSQKH9RzIYOFJAof1HMhg4UkCh/UcyGDhSQDU38iFH2lJANTfyIUfaUkA1N/IhR9pSQDU38iFH2lJAg7KaHPDbUkCDspoc8NtSQIOymhzw21JAg7KaHPDbUkAYWBUBRnpTQBhYFQFGelNAGFgVAUZ6U0AYWBUBRnpTQP88eHTXfVNA/zx4dNd9U0D/PHh0131TQP88eHTXfVNAUjwU9fYpVEBSPBT19ilUQFI8FPX2KVRAUjwU9fYpVEDOhnabDnlVQM6GdpsOeVVAzoZ2mw55VUDOhnabDnlVQJPYgS3zvFZAk9iBLfO8VkCT2IEt87xWQJPYgS3zvFZATAZJ0UrFVkBMBknRSsVWQEwGSdFKxVZATAZJ0UrFVkBkO3XlNBJXQGQ7deU0EldAZDt15TQSV0BkO3XlNBJXQHU1WM63H1hAdTVYzrcfWEB1NVjOtx9YQHU1WM63H1hAWvFJPbW8WEBa8Uk9tbxYQFrxST21vFhAWvFJPbW8WEA=\",\"dtype\":\"float64\",\"order\":\"little\",\"shape\":[160]},\"fill_alpha\":{\"__ndarray__\":\"AAAAAAAg8T8AAAAAACDxPwAAAAAAIPE/AAAAAAAg8T8AAAAAAADkPwAAAAAAAOQ/AAAAAAAA5D8AAAAAAADkPwAAAAAAAOc/AAAAAAAA5z8AAAAAAADnPwAAAAAAAOc/AAAAAAAA5D8AAAAAAADkPwAAAAAAAOQ/AAAAAAAA5D8AAAAAAEDyPwAAAAAAQPI/AAAAAABA8j8AAAAAAEDyPwAAAAAAwOc/AAAAAADA5z8AAAAAAMDnPwAAAAAAwOc/AAAAAAAA5z8AAAAAAADnPwAAAAAAAOc/AAAAAAAA5z8AAAAAAMDnPwAAAAAAwOc/AAAAAADA5z8AAAAAAMDnPwAAAAAAoPU/AAAAAACg9T8AAAAAAKD1PwAAAAAAoPU/AAAAAADg8T8AAAAAAODxPwAAAAAA4PE/AAAAAADg8T8AAAAAAIDrPwAAAAAAgOs/AAAAAACA6z8AAAAAAIDrPwAAAAAAgO4/AAAAAACA7j8AAAAAAIDuPwAAAAAAgO4/AAAAAACA6z8AAAAAAIDrPwAAAAAAgOs/AAAAAACA6z8AAAAAAEDmPwAAAAAAQOY/AAAAAABA5j8AAAAAAEDmPwAAAAAAwOo/AAAAAADA6j8AAAAAAMDqPwAAAAAAwOo/AAAAAACA6z8AAAAAAIDrPwAAAAAAgOs/AAAAAACA6z8AAAAAAMDkPwAAAAAAwOQ/AAAAAADA5D8AAAAAAMDkPwAAAAAAgO4/AAAAAACA7j8AAAAAAIDuPwAAAAAAgO4/AAAAAACA5T8AAAAAAIDlPwAAAAAAgOU/AAAAAACA5T8AAAAAAADtPwAAAAAAAO0/AAAAAAAA7T8AAAAAAADtPwAAAAAAAOo/AAAAAAAA6j8AAAAAAADqPwAAAAAAAOo/AAAAAADA5D8AAAAAAMDkPwAAAAAAwOQ/AAAAAADA5D8AAAAAAIDoPwAAAAAAgOg/AAAAAACA6D8AAAAAAIDoPwAAAAAAgOs/AAAAAACA6z8AAAAAAIDrPwAAAAAAgOs/AAAAAACA6D8AAAAAAIDoPwAAAAAAgOg/AAAAAACA6D8AAAAAAIDlPwAAAAAAgOU/AAAAAACA5T8AAAAAAIDlPwAAAAAAAOQ/AAAAAAAA5D8AAAAAAADkPwAAAAAAAOQ/AAAAAAAA5D8AAAAAAADkPwAAAAAAAOQ/AAAAAAAA5D8AAAAAAADnPwAAAAAAAOc/AAAAAAAA5z8AAAAAAADnPwAAAAAAgOU/AAAAAACA5T8AAAAAAIDlPwAAAAAAgOU/AAAAAABA5j8AAAAAAEDmPwAAAAAAQOY/AAAAAABA5j8AAAAAAIDrPwAAAAAAgOs/AAAAAACA6z8AAAAAAIDrPwAAAAAAYPA/AAAAAABg8D8AAAAAAGDwPwAAAAAAYPA/AAAAAADA5z8AAAAAAMDnPwAAAAAAwOc/AAAAAADA5z8AAAAAAADqPwAAAAAAAOo/AAAAAAAA6j8AAAAAAADqPwAAAAAAgOs/AAAAAACA6z8AAAAAAIDrPwAAAAAAgOs/AAAAAAAA6j8AAAAAAADqPwAAAAAAAOo/AAAAAAAA6j8AAAAAAADkPwAAAAAAAOQ/AAAAAAAA5D8AAAAAAADkPwAAAAAAAO0/AAAAAAAA7T8AAAAAAADtPwAAAAAAAO0/AAAAAAAA5D8AAAAAAADkPwAAAAAAAOQ/AAAAAAAA5D8=\",\"dtype\":\"float64\",\"order\":\"little\",\"shape\":[160]},\"index\":[0,1,2,3,8,9,10,11,40,41,42,43,57,58,59,60,62,63,64,65,96,97,98,99,121,122,123,124,127,128,129,130,145,146,147,148,158,159,160,161,214,215,216,217,238,239,240,241,318,319,320,321,340,341,342,343,352,353,354,355,374,375,376,377,380,381,382,383,404,405,406,407,435,436,437,438,444,445,446,447,470,471,472,473,492,493,494,495,498,499,500,501,508,509,510,511,536,537,538,539,542,543,544,545,560,561,562,563,564,565,566,567,570,571,572,573,582,583,584,585,586,587,588,589,596,597,598,599,601,602,603,604,654,655,656,657,676,677,678,679,696,697,698,699,701,702,703,704,722,723,724,725,744,745,746,747,765,766,767,768],\"instrument\":[10,10,10,10,10,10,10,10,10,10,10,10,10,10,10,10,10,10,10,10,10,10,10,10,10,10,10,10,10,10,10,10,10,10,10,10,10,10,10,10,10,10,10,10,10,10,10,10,10,10,10,10,10,10,10,10,10,10,10,10,10,10,10,10,10,10,10,10,10,10,10,10,10,10,10,10,10,10,10,10,10,10,10,10,10,10,10,10,10,10,10,10,10,10,10,10,10,10,10,10,10,10,10,10,10,10,10,10,10,10,10,10,10,10,10,10,10,10,10,10,10,10,10,10,10,10,10,10,10,10,10,10,10,10,10,10,10,10,10,10,10,10,10,10,10,10,10,10,10,10,10,10,10,10,10,10,10,10,10,10],\"pitch\":[36,38,42,46,36,38,42,46,36,38,42,46,36,38,42,46,36,38,42,46,36,38,42,46,36,38,42,46,36,38,42,46,36,38,42,46,36,38,42,46,36,38,42,46,36,38,42,46,36,38,42,46,36,38,42,46,36,38,42,46,36,38,42,46,36,38,42,46,36,38,42,46,36,38,42,46,36,38,42,46,36,38,42,46,36,38,42,46,36,38,42,46,36,38,42,46,36,38,42,46,36,38,42,46,36,38,42,46,36,38,42,46,36,38,42,46,36,38,42,46,36,38,42,46,36,38,42,46,36,38,42,46,36,38,42,46,36,38,42,46,36,38,42,46,36,38,42,46,36,38,42,46,36,38,42,46,36,38,42,46],\"program\":[0,0,0,0,0,0,0,0,0,0,0,0,0,0,0,0,0,0,0,0,0,0,0,0,0,0,0,0,0,0,0,0,0,0,0,0,0,0,0,0,0,0,0,0,0,0,0,0,0,0,0,0,0,0,0,0,0,0,0,0,0,0,0,0,0,0,0,0,0,0,0,0,0,0,0,0,0,0,0,0,0,0,0,0,0,0,0,0,0,0,0,0,0,0,0,0,0,0,0,0,0,0,0,0,0,0,0,0,0,0,0,0,0,0,0,0,0,0,0,0,0,0,0,0,0,0,0,0,0,0,0,0,0,0,0,0,0,0,0,0,0,0,0,0,0,0,0,0,0,0,0,0,0,0,0,0,0,0,0,0],\"start_time\":{\"__ndarray__\":\"LjdGpgvo8j8uN0amC+jyPy43RqYL6PI/LjdGpgvo8j/7kkvi5cn1P/uSS+LlyfU/+5JL4uXJ9T/7kkvi5cn1P66lMNteZwxArqUw215nDECupTDbXmcMQK6lMNteZwxA3kxvIo6iGkDeTG8ijqIaQN5MbyKOohpA3kxvIo6iGkA/E9nqjU8mQD8T2eqNTyZAPxPZ6o1PJkA/E9nqjU8mQLqpJ7A5yClAuqknsDnIKUC6qSewOcgpQLqpJ7A5yClArctcKJHwLkCty1wokfAuQK3LXCiR8C5ArctcKJHwLkCVMMatCZQvQJUwxq0JlC9AlTDGrQmUL0CVMMatCZQvQHenK370FTJAd6crfvQVMkB3pyt+9BUyQHenK370FTJAizCZJKtYMkCLMJkkq1gyQIswmSSrWDJAizCZJKtYMkC3acZFiFUzQLdpxkWIVTNAt2nGRYhVM0C3acZFiFUzQNgQOlpRxDNA2BA6WlHEM0DYEDpaUcQzQNgQOlpRxDNA0zqdeCpHOEDTOp14Kkc4QNM6nXgqRzhA0zqdeCpHOECpkegDr6g7QKmR6AOvqDtAqZHoA6+oO0CpkegDr6g7QKVLQFS3pT9ApUtAVLelP0ClS0BUt6U/QKVLQFS3pT9AYfl5Nl/3QUBh+Xk2X/dBQGH5eTZf90FAYfl5Nl/3QUD1IddhlRlCQPUh12GVGUJA9SHXYZUZQkD1IddhlRlCQGE8o+vevERAYTyj6968REBhPKPr3rxEQGE8o+vevERA+Hh0qCIKR0D4eHSoIgpHQPh4dKgiCkdA+Hh0qCIKR0C03jEMovZIQLTeMQyi9khAtN4xDKL2SEC03jEMovZIQA+r5GDcaUpAD6vkYNxpSkAPq+Rg3GlKQA+r5GDcaUpAgcB4o8wpTUCBwHijzClNQIHAeKPMKU1AgcB4o8wpTUD+gz9swO1NQP6DP2zA7U1A/oM/bMDtTUD+gz9swO1NQJvMhfslZE5Am8yF+yVkTkCbzIX7JWROQJvMhfslZE5ACbH1oVSpUEAJsfWhVKlQQAmx9aFUqVBACbH1oVSpUECoK8PdUbtQQKgrw91Ru1BAqCvD3VG7UECoK8PdUbtQQP5exnjoZ1FA/l7GeOhnUUD+XsZ46GdRQP5exnjoZ1FAnhtqLYl4UUCeG2otiXhRQJ4bai2JeFFAnhtqLYl4UUA7l+HLsTFSQDuX4cuxMVJAO5fhy7ExUkA7l+HLsTFSQM/Qi7vg01JAz9CLu+DTUkDP0Iu74NNSQM/Qi7vg01JAHUw0tonVUkAdTDS2idVSQB1MNLaJ1VJAHUw0tonVUkCy8a6a33NTQLLxrprfc1NAsvGumt9zU0Cy8a6a33NTQJnWEQ5xd1NAmdYRDnF3U0CZ1hEOcXdTQJnWEQ5xd1NA7NWtjpAjVEDs1a2OkCNUQOzVrY6QI1RA7NWtjpAjVEBoIBA1qHJVQGggEDWoclVAaCAQNahyVUBoIBA1qHJVQC1yG8eMtlZALXIbx4y2VkAtchvHjLZWQC1yG8eMtlZA5p/iauS+VkDmn+Jq5L5WQOaf4mrkvlZA5p/iauS+VkD+1A5/zgtXQP7UDn/OC1dA/tQOf84LV0D+1A5/zgtXQA/P8WdRGVhAD8/xZ1EZWEAPz/FnURlYQA/P8WdRGVhA9Irj1k62WED0iuPWTrZYQPSK49ZOtlhA9Irj1k62WEA=\",\"dtype\":\"float64\",\"order\":\"little\",\"shape\":[160]},\"top\":{\"__ndarray__\":\"MzMzMzMzQkAzMzMzMzNDQDMzMzMzM0VAMzMzMzMzR0AzMzMzMzNCQDMzMzMzM0NAMzMzMzMzRUAzMzMzMzNHQDMzMzMzM0JAMzMzMzMzQ0AzMzMzMzNFQDMzMzMzM0dAMzMzMzMzQkAzMzMzMzNDQDMzMzMzM0VAMzMzMzMzR0AzMzMzMzNCQDMzMzMzM0NAMzMzMzMzRUAzMzMzMzNHQDMzMzMzM0JAMzMzMzMzQ0AzMzMzMzNFQDMzMzMzM0dAMzMzMzMzQkAzMzMzMzNDQDMzMzMzM0VAMzMzMzMzR0AzMzMzMzNCQDMzMzMzM0NAMzMzMzMzRUAzMzMzMzNHQDMzMzMzM0JAMzMzMzMzQ0AzMzMzMzNFQDMzMzMzM0dAMzMzMzMzQkAzMzMzMzNDQDMzMzMzM0VAMzMzMzMzR0AzMzMzMzNCQDMzMzMzM0NAMzMzMzMzRUAzMzMzMzNHQDMzMzMzM0JAMzMzMzMzQ0AzMzMzMzNFQDMzMzMzM0dAMzMzMzMzQkAzMzMzMzNDQDMzMzMzM0VAMzMzMzMzR0AzMzMzMzNCQDMzMzMzM0NAMzMzMzMzRUAzMzMzMzNHQDMzMzMzM0JAMzMzMzMzQ0AzMzMzMzNFQDMzMzMzM0dAMzMzMzMzQkAzMzMzMzNDQDMzMzMzM0VAMzMzMzMzR0AzMzMzMzNCQDMzMzMzM0NAMzMzMzMzRUAzMzMzMzNHQDMzMzMzM0JAMzMzMzMzQ0AzMzMzMzNFQDMzMzMzM0dAMzMzMzMzQkAzMzMzMzNDQDMzMzMzM0VAMzMzMzMzR0AzMzMzMzNCQDMzMzMzM0NAMzMzMzMzRUAzMzMzMzNHQDMzMzMzM0JAMzMzMzMzQ0AzMzMzMzNFQDMzMzMzM0dAMzMzMzMzQkAzMzMzMzNDQDMzMzMzM0VAMzMzMzMzR0AzMzMzMzNCQDMzMzMzM0NAMzMzMzMzRUAzMzMzMzNHQDMzMzMzM0JAMzMzMzMzQ0AzMzMzMzNFQDMzMzMzM0dAMzMzMzMzQkAzMzMzMzNDQDMzMzMzM0VAMzMzMzMzR0AzMzMzMzNCQDMzMzMzM0NAMzMzMzMzRUAzMzMzMzNHQDMzMzMzM0JAMzMzMzMzQ0AzMzMzMzNFQDMzMzMzM0dAMzMzMzMzQkAzMzMzMzNDQDMzMzMzM0VAMzMzMzMzR0AzMzMzMzNCQDMzMzMzM0NAMzMzMzMzRUAzMzMzMzNHQDMzMzMzM0JAMzMzMzMzQ0AzMzMzMzNFQDMzMzMzM0dAMzMzMzMzQkAzMzMzMzNDQDMzMzMzM0VAMzMzMzMzR0AzMzMzMzNCQDMzMzMzM0NAMzMzMzMzRUAzMzMzMzNHQDMzMzMzM0JAMzMzMzMzQ0AzMzMzMzNFQDMzMzMzM0dAMzMzMzMzQkAzMzMzMzNDQDMzMzMzM0VAMzMzMzMzR0AzMzMzMzNCQDMzMzMzM0NAMzMzMzMzRUAzMzMzMzNHQDMzMzMzM0JAMzMzMzMzQ0AzMzMzMzNFQDMzMzMzM0dAMzMzMzMzQkAzMzMzMzNDQDMzMzMzM0VAMzMzMzMzR0AzMzMzMzNCQDMzMzMzM0NAMzMzMzMzRUAzMzMzMzNHQDMzMzMzM0JAMzMzMzMzQ0AzMzMzMzNFQDMzMzMzM0dAMzMzMzMzQkAzMzMzMzNDQDMzMzMzM0VAMzMzMzMzR0A=\",\"dtype\":\"float64\",\"order\":\"little\",\"shape\":[160]},\"velocity\":[137,137,137,137,80,80,80,80,92,92,92,92,80,80,80,80,146,146,146,146,95,95,95,95,92,92,92,92,95,95,95,95,173,173,173,173,143,143,143,143,110,110,110,110,122,122,122,122,110,110,110,110,89,89,89,89,107,107,107,107,110,110,110,110,83,83,83,83,122,122,122,122,86,86,86,86,116,116,116,116,104,104,104,104,83,83,83,83,98,98,98,98,110,110,110,110,98,98,98,98,86,86,86,86,80,80,80,80,80,80,80,80,92,92,92,92,86,86,86,86,89,89,89,89,110,110,110,110,131,131,131,131,95,95,95,95,104,104,104,104,110,110,110,110,104,104,104,104,80,80,80,80,116,116,116,116,80,80,80,80]},\"selected\":{\"id\":\"1208\"},\"selection_policy\":{\"id\":\"1207\"}},\"id\":\"1182\",\"type\":\"ColumnDataSource\"},{\"attributes\":{},\"id\":\"1155\",\"type\":\"LinearScale\"},{\"attributes\":{\"bottom\":{\"field\":\"bottom\"},\"fill_alpha\":{\"value\":0.1},\"fill_color\":{\"value\":\"#f46d43\"},\"left\":{\"field\":\"start_time\"},\"line_alpha\":{\"value\":0.1},\"right\":{\"field\":\"end_time\"},\"top\":{\"field\":\"top\"}},\"id\":\"1197\",\"type\":\"Quad\"},{\"attributes\":{\"bottom\":{\"field\":\"bottom\"},\"fill_alpha\":{\"value\":0.1},\"fill_color\":{\"value\":\"#3288bd\"},\"left\":{\"field\":\"start_time\"},\"line_alpha\":{\"value\":0.1},\"right\":{\"field\":\"end_time\"},\"top\":{\"field\":\"top\"}},\"id\":\"1191\",\"type\":\"Quad\"},{\"attributes\":{\"axis_label\":\"time (sec)\",\"formatter\":{\"id\":\"1205\"},\"major_label_policy\":{\"id\":\"1204\"},\"ticker\":{\"id\":\"1160\"}},\"id\":\"1159\",\"type\":\"LinearAxis\"},{\"attributes\":{\"data\":{\"bottom\":{\"__ndarray__\":\"zczMzMzMQ0DNzMzMzMxDQM3MzMzMzENAzczMzMzMQ0DNzMzMzMxDQM3MzMzMzENAzczMzMzMQ0DNzMzMzMxDQM3MzMzMzENAzczMzMzMQ0DNzMzMzMxDQM3MzMzMzENAzczMzMzMQ0DNzMzMzMxDQM3MzMzMzENAzczMzMzMQ0DNzMzMzMxDQM3MzMzMzENAzczMzMzMQ0DNzMzMzMxDQM3MzMzMzENAzczMzMzMQ0DNzMzMzMxDQM3MzMzMzENAzczMzMzMQ0DNzMzMzMxDQM3MzMzMzENAzczMzMzMQ0DNzMzMzMxDQM3MzMzMzENAzczMzMzMQ0DNzMzMzMxDQM3MzMzMzENAzczMzMzMQ0DNzMzMzMxDQM3MzMzMzENAzczMzMzMQ0DNzMzMzMxDQM3MzMzMzENAzczMzMzMQ0DNzMzMzMxDQM3MzMzMzENAzczMzMzMQ0DNzMzMzMxDQM3MzMzMzENAzczMzMzMQ0DNzMzMzMxDQM3MzMzMzENAzczMzMzMQ0DNzMzMzMxDQM3MzMzMzENAzczMzMzMQ0DNzMzMzMxDQM3MzMzMzENAzczMzMzMQ0DNzMzMzMxDQM3MzMzMzENAzczMzMzMQ0DNzMzMzMxDQM3MzMzMzENAzczMzMzMQ0DNzMzMzMxDQM3MzMzMzENAzczMzMzMQ0DNzMzMzMxDQM3MzMzMzENAzczMzMzMQ0DNzMzMzMxDQM3MzMzMzENAzczMzMzMQ0DNzMzMzMxDQM3MzMzMzENAzczMzMzMQ0DNzMzMzMxDQM3MzMzMzENAzczMzMzMQ0DNzMzMzMxDQM3MzMzMzENAzczMzMzMQ0DNzMzMzMxDQM3MzMzMzENAzczMzMzMQ0DNzMzMzMxDQM3MzMzMzENAzczMzMzMQ0DNzMzMzMxDQM3MzMzMzENAzczMzMzMQ0DNzMzMzMxDQM3MzMzMzENAzczMzMzMQ0DNzMzMzMxDQM3MzMzMzENAzczMzMzMQ0DNzMzMzMxDQM3MzMzMzENAzczMzMzMQ0DNzMzMzMxDQM3MzMzMzENAzczMzMzMQ0DNzMzMzMxDQM3MzMzMzENAzczMzMzMQ0DNzMzMzMxDQM3MzMzMzENAzczMzMzMQ0DNzMzMzMxDQM3MzMzMzENAzczMzMzMQ0DNzMzMzMxDQM3MzMzMzENAzczMzMzMQ0DNzMzMzMxDQM3MzMzMzENAzczMzMzMQ0DNzMzMzMxDQM3MzMzMzENAzczMzMzMQ0DNzMzMzMxDQM3MzMzMzENAzczMzMzMQ0DNzMzMzMxDQM3MzMzMzENAzczMzMzMQ0DNzMzMzMxDQM3MzMzMzENAzczMzMzMQ0DNzMzMzMxDQM3MzMzMzENAzczMzMzMQ0DNzMzMzMxDQM3MzMzMzENAzczMzMzMQ0DNzMzMzMxDQM3MzMzMzENAzczMzMzMQ0DNzMzMzMxDQM3MzMzMzENAzczMzMzMQ0DNzMzMzMxDQM3MzMzMzENAzczMzMzMQ0DNzMzMzMxDQM3MzMzMzENAzczMzMzMQ0DNzMzMzMxDQM3MzMzMzENAzczMzMzMQ0DNzMzMzMxDQM3MzMzMzENAzczMzMzMQ0DNzMzMzMxDQM3MzMzMzENAzczMzMzMQ0DNzMzMzMxDQM3MzMzMzENAzczMzMzMQ0DNzMzMzMxDQM3MzMzMzENAzczMzMzMQ0DNzMzMzMxDQM3MzMzMzENAzczMzMzMQ0DNzMzMzMxDQM3MzMzMzENAzczMzMzMQ0DNzMzMzMxDQM3MzMzMzENAzczMzMzMQ0DNzMzMzMxDQM3MzMzMzENAzczMzMzMQ0DNzMzMzMxDQM3MzMzMzENAzczMzMzMQ0DNzMzMzMxDQM3MzMzMzENAzczMzMzMQ0DNzMzMzMxDQM3MzMzMzENAzczMzMzMQ0DNzMzMzMxDQM3MzMzMzENAzczMzMzMQ0DNzMzMzMxDQM3MzMzMzENAzczMzMzMQ0DNzMzMzMxDQM3MzMzMzENAzczMzMzMQ0DNzMzMzMxDQM3MzMzMzENAzczMzMzMQ0DNzMzMzMxDQM3MzMzMzENAzczMzMzMQ0DNzMzMzMxDQM3MzMzMzENAzczMzMzMQ0DNzMzMzMxDQM3MzMzMzENAzczMzMzMQ0DNzMzMzMxDQM3MzMzMzENAzczMzMzMQ0DNzMzMzMxDQM3MzMzMzENAzczMzMzMQ0DNzMzMzMxDQM3MzMzMzENAzczMzMzMQ0DNzMzMzMxDQM3MzMzMzENAzczMzMzMQ0DNzMzMzMxDQM3MzMzMzENAzczMzMzMQ0DNzMzMzMxDQM3MzMzMzENAzczMzMzMQ0DNzMzMzMxDQM3MzMzMzENAzczMzMzMQ0DNzMzMzMxDQM3MzMzMzENAzczMzMzMQ0DNzMzMzMxDQM3MzMzMzENAzczMzMzMQ0DNzMzMzMxDQM3MzMzMzENAzczMzMzMQ0DNzMzMzMxDQM3MzMzMzENAzczMzMzMQ0DNzMzMzMxDQM3MzMzMzENAzczMzMzMQ0DNzMzMzMxDQM3MzMzMzENAzczMzMzMQ0DNzMzMzMxDQM3MzMzMzENAzczMzMzMQ0DNzMzMzMxDQM3MzMzMzENAzczMzMzMQ0DNzMzMzMxDQM3MzMzMzENAzczMzMzMQ0DNzMzMzMxDQM3MzMzMzENAzczMzMzMQ0DNzMzMzMxDQM3MzMzMzENAzczMzMzMQ0DNzMzMzMxDQM3MzMzMzENAzczMzMzMQ0DNzMzMzMxDQM3MzMzMzENAzczMzMzMQ0DNzMzMzMxDQM3MzMzMzENAzczMzMzMQ0DNzMzMzMxDQM3MzMzMzENAzczMzMzMQ0DNzMzMzMxDQM3MzMzMzENAzczMzMzMQ0DNzMzMzMxDQM3MzMzMzENAzczMzMzMQ0DNzMzMzMxDQM3MzMzMzENAzczMzMzMQ0DNzMzMzMxDQM3MzMzMzENAzczMzMzMQ0DNzMzMzMxDQM3MzMzMzENAzczMzMzMQ0DNzMzMzMxDQM3MzMzMzENAzczMzMzMQ0DNzMzMzMxDQM3MzMzMzENAzczMzMzMQ0DNzMzMzMxDQM3MzMzMzENAzczMzMzMQ0DNzMzMzMxDQM3MzMzMzENAzczMzMzMQ0DNzMzMzMxDQM3MzMzMzENAzczMzMzMQ0DNzMzMzMxDQM3MzMzMzENAzczMzMzMQ0DNzMzMzMxDQM3MzMzMzENAzczMzMzMQ0DNzMzMzMxDQA==\",\"dtype\":\"float64\",\"order\":\"little\",\"shape\":[305]},\"duration\":{\"__ndarray__\":\"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\",\"dtype\":\"float64\",\"order\":\"little\",\"shape\":[305]},\"end_time\":{\"__ndarray__\":\"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\",\"dtype\":\"float64\",\"order\":\"little\",\"shape\":[305]},\"fill_alpha\":{\"__ndarray__\":\"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\",\"dtype\":\"float64\",\"order\":\"little\",\"shape\":[305]},\"index\":[15,19,24,25,26,28,29,31,33,35,36,37,38,39,44,46,47,49,50,53,55,56,61,76,77,78,79,81,82,84,89,90,93,94,95,102,104,105,107,110,113,115,116,117,118,119,120,126,132,134,139,140,141,142,143,151,153,154,168,169,170,171,182,186,188,189,190,191,194,195,199,200,202,203,204,206,207,210,213,224,225,227,229,230,231,232,234,236,243,245,248,253,254,256,257,259,260,261,262,264,266,269,272,274,279,280,281,283,284,286,287,288,289,291,292,293,296,297,299,300,302,303,304,305,306,307,308,309,310,311,312,313,314,315,317,323,329,330,332,333,335,336,338,339,345,348,350,351,357,359,363,364,366,367,369,371,373,389,391,393,394,396,398,399,400,401,402,403,410,416,418,420,421,422,426,427,429,430,431,432,434,441,442,443,453,455,456,457,459,463,464,465,467,469,480,482,483,484,486,487,488,489,490,491,497,506,507,516,519,521,524,525,526,528,529,531,532,533,534,546,550,551,552,553,554,555,557,559,569,576,579,580,581,591,594,595,609,611,618,620,623,625,627,630,633,634,635,636,637,638,639,641,642,644,647,648,650,653,659,662,664,667,668,669,670,671,672,673,674,675,682,688,689,690,691,692,694,695,710,717,719,720,726,728,730,731,733,734,735,736,737,739,740,741,742,743,750,753,756,758,760,762,763,770,771],\"instrument\":[12,12,12,12,12,12,12,12,12,12,12,12,12,12,12,12,12,12,12,12,12,12,12,12,12,12,12,12,12,12,12,12,12,12,12,12,12,12,12,12,12,12,12,12,12,12,12,12,12,12,12,12,12,12,12,12,12,12,12,12,12,12,12,12,12,12,12,12,12,12,12,12,12,12,12,12,12,12,12,12,12,12,12,12,12,12,12,12,12,12,12,12,12,12,12,12,12,12,12,12,12,12,12,12,12,12,12,12,12,12,12,12,12,12,12,12,12,12,12,12,12,12,12,12,12,12,12,12,12,12,12,12,12,12,12,12,12,12,12,12,12,12,12,12,12,12,12,12,12,12,12,12,12,12,12,12,12,12,12,12,12,12,12,12,12,12,12,12,12,12,12,12,12,12,12,12,12,12,12,12,12,12,12,12,12,12,12,12,12,12,12,12,12,12,12,12,12,12,12,12,12,12,12,12,12,12,12,12,12,12,12,12,12,12,12,12,12,12,12,12,12,12,12,12,12,12,12,12,12,12,12,12,12,12,12,12,12,12,12,12,12,12,12,12,12,12,12,12,12,12,12,12,12,12,12,12,12,12,12,12,12,12,12,12,12,12,12,12,12,12,12,12,12,12,12,12,12,12,12,12,12,12,12,12,12,12,12,12,12,12,12,12,12,12,12,12,12,12,12,12,12,12,12,12,12],\"pitch\":[40,40,40,40,40,40,40,40,40,40,40,40,40,40,40,40,40,40,40,40,40,40,40,40,40,40,40,40,40,40,40,40,40,40,40,40,40,40,40,40,40,40,40,40,40,40,40,40,40,40,40,40,40,40,40,40,40,40,40,40,40,40,40,40,40,40,40,40,40,40,40,40,40,40,40,40,40,40,40,40,40,40,40,40,40,40,40,40,40,40,40,40,40,40,40,40,40,40,40,40,40,40,40,40,40,40,40,40,40,40,40,40,40,40,40,40,40,40,40,40,40,40,40,40,40,40,40,40,40,40,40,40,40,40,40,40,40,40,40,40,40,40,40,40,40,40,40,40,40,40,40,40,40,40,40,40,40,40,40,40,40,40,40,40,40,40,40,40,40,40,40,40,40,40,40,40,40,40,40,40,40,40,40,40,40,40,40,40,40,40,40,40,40,40,40,40,40,40,40,40,40,40,40,40,40,40,40,40,40,40,40,40,40,40,40,40,40,40,40,40,40,40,40,40,40,40,40,40,40,40,40,40,40,40,40,40,40,40,40,40,40,40,40,40,40,40,40,40,40,40,40,40,40,40,40,40,40,40,40,40,40,40,40,40,40,40,40,40,40,40,40,40,40,40,40,40,40,40,40,40,40,40,40,40,40,40,40,40,40,40,40,40,40,40,40,40,40,40,40,40,40,40,40,40,40],\"program\":[0,0,0,0,0,0,0,0,0,0,0,0,0,0,0,0,0,0,0,0,0,0,0,0,0,0,0,0,0,0,0,0,0,0,0,0,0,0,0,0,0,0,0,0,0,0,0,0,0,0,0,0,0,0,0,0,0,0,0,0,0,0,0,0,0,0,0,0,0,0,0,0,0,0,0,0,0,0,0,0,0,0,0,0,0,0,0,0,0,0,0,0,0,0,0,0,0,0,0,0,0,0,0,0,0,0,0,0,0,0,0,0,0,0,0,0,0,0,0,0,0,0,0,0,0,0,0,0,0,0,0,0,0,0,0,0,0,0,0,0,0,0,0,0,0,0,0,0,0,0,0,0,0,0,0,0,0,0,0,0,0,0,0,0,0,0,0,0,0,0,0,0,0,0,0,0,0,0,0,0,0,0,0,0,0,0,0,0,0,0,0,0,0,0,0,0,0,0,0,0,0,0,0,0,0,0,0,0,0,0,0,0,0,0,0,0,0,0,0,0,0,0,0,0,0,0,0,0,0,0,0,0,0,0,0,0,0,0,0,0,0,0,0,0,0,0,0,0,0,0,0,0,0,0,0,0,0,0,0,0,0,0,0,0,0,0,0,0,0,0,0,0,0,0,0,0,0,0,0,0,0,0,0,0,0,0,0,0,0,0,0,0,0,0,0,0,0,0,0,0,0,0,0,0,0],\"start_time\":{\"__ndarray__\":\"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\",\"dtype\":\"float64\",\"order\":\"little\",\"shape\":[305]},\"top\":{\"__ndarray__\":\"MzMzMzMzREAzMzMzMzNEQDMzMzMzM0RAMzMzMzMzREAzMzMzMzNEQDMzMzMzM0RAMzMzMzMzREAzMzMzMzNEQDMzMzMzM0RAMzMzMzMzREAzMzMzMzNEQDMzMzMzM0RAMzMzMzMzREAzMzMzMzNEQDMzMzMzM0RAMzMzMzMzREAzMzMzMzNEQDMzMzMzM0RAMzMzMzMzREAzMzMzMzNEQDMzMzMzM0RAMzMzMzMzREAzMzMzMzNEQDMzMzMzM0RAMzMzMzMzREAzMzMzMzNEQDMzMzMzM0RAMzMzMzMzREAzMzMzMzNEQDMzMzMzM0RAMzMzMzMzREAzMzMzMzNEQDMzMzMzM0RAMzMzMzMzREAzMzMzMzNEQDMzMzMzM0RAMzMzMzMzREAzMzMzMzNEQDMzMzMzM0RAMzMzMzMzREAzMzMzMzNEQDMzMzMzM0RAMzMzMzMzREAzMzMzMzNEQDMzMzMzM0RAMzMzMzMzREAzMzMzMzNEQDMzMzMzM0RAMzMzMzMzREAzMzMzMzNEQDMzMzMzM0RAMzMzMzMzREAzMzMzMzNEQDMzMzMzM0RAMzMzMzMzREAzMzMzMzNEQDMzMzMzM0RAMzMzMzMzREAzMzMzMzNEQDMzMzMzM0RAMzMzMzMzREAzMzMzMzNEQDMzMzMzM0RAMzMzMzMzREAzMzMzMzNEQDMzMzMzM0RAMzMzMzMzREAzMzMzMzNEQDMzMzMzM0RAMzMzMzMzREAzMzMzMzNEQDMzMzMzM0RAMzMzMzMzREAzMzMzMzNEQDMzMzMzM0RAMzMzMzMzREAzMzMzMzNEQDMzMzMzM0RAMzMzMzMzREAzMzMzMzNEQDMzMzMzM0RAMzMzMzMzREAzMzMzMzNEQDMzMzMzM0RAMzMzMzMzREAzMzMzMzNEQDMzMzMzM0RAMzMzMzMzREAzMzMzMzNEQDMzMzMzM0RAMzMzMzMzREAzMzMzMzNEQDMzMzMzM0RAMzMzMzMzREAzMzMzMzNEQDMzMzMzM0RAMzMzMzMzREAzMzMzMzNEQDMzMzMzM0RAMzMzMzMzREAzMzMzMzNEQDMzMzMzM0RAMzMzMzMzREAzMzMzMzNEQDMzMzMzM0RAMzMzMzMzREAzMzMzMzNEQDMzMzMzM0RAMzMzMzMzREAzMzMzMzNEQDMzMzMzM0RAMzMzMzMzREAzMzMzMzNEQDMzMzMzM0RAMzMzMzMzREAzMzMzMzNEQDMzMzMzM0RAMzMzMzMzREAzMzMzMzNEQDMzMzMzM0RAMzMzMzMzREAzMzMzMzNEQDMzMzMzM0RAMzMzMzMzREAzMzMzMzNEQDMzMzMzM0RAMzMzMzMzREAzMzMzMzNEQDMzMzMzM0RAMzMzMzMzREAzMzMzMzNEQDMzMzMzM0RAMzMzMzMzREAzMzMzMzNEQDMzMzMzM0RAMzMzMzMzREAzMzMzMzNEQDMzMzMzM0RAMzMzMzMzREAzMzMzMzNEQDMzMzMzM0RAMzMzMzMzREAzMzMzMzNEQDMzMzMzM0RAMzMzMzMzREAzMzMzMzNEQDMzMzMzM0RAMzMzMzMzREAzMzMzMzNEQDMzMzMzM0RAMzMzMzMzREAzMzMzMzNEQDMzMzMzM0RAMzMzMzMzREAzMzMzMzNEQDMzMzMzM0RAMzMzMzMzREAzMzMzMzNEQDMzMzMzM0RAMzMzMzMzREAzMzMzMzNEQDMzMzMzM0RAMzMzMzMzREAzMzMzMzNEQDMzMzMzM0RAMzMzMzMzREAzMzMzMzNEQDMzMzMzM0RAMzMzMzMzREAzMzMzMzNEQDMzMzMzM0RAMzMzMzMzREAzMzMzMzNEQDMzMzMzM0RAMzMzMzMzREAzMzMzMzNEQDMzMzMzM0RAMzMzMzMzREAzMzMzMzNEQDMzMzMzM0RAMzMzMzMzREAzMzMzMzNEQDMzMzMzM0RAMzMzMzMzREAzMzMzMzNEQDMzMzMzM0RAMzMzMzMzREAzMzMzMzNEQDMzMzMzM0RAMzMzMzMzREAzMzMzMzNEQDMzMzMzM0RAMzMzMzMzREAzMzMzMzNEQDMzMzMzM0RAMzMzMzMzREAzMzMzMzNEQDMzMzMzM0RAMzMzMzMzREAzMzMzMzNEQDMzMzMzM0RAMzMzMzMzREAzMzMzMzNEQDMzMzMzM0RAMzMzMzMzREAzMzMzMzNEQDMzMzMzM0RAMzMzMzMzREAzMzMzMzNEQDMzMzMzM0RAMzMzMzMzREAzMzMzMzNEQDMzMzMzM0RAMzMzMzMzREAzMzMzMzNEQDMzMzMzM0RAMzMzMzMzREAzMzMzMzNEQDMzMzMzM0RAMzMzMzMzREAzMzMzMzNEQDMzMzMzM0RAMzMzMzMzREAzMzMzMzNEQDMzMzMzM0RAMzMzMzMzREAzMzMzMzNEQDMzMzMzM0RAMzMzMzMzREAzMzMzMzNEQDMzMzMzM0RAMzMzMzMzREAzMzMzMzNEQDMzMzMzM0RAMzMzMzMzREAzMzMzMzNEQDMzMzMzM0RAMzMzMzMzREAzMzMzMzNEQDMzMzMzM0RAMzMzMzMzREAzMzMzMzNEQDMzMzMzM0RAMzMzMzMzREAzMzMzMzNEQDMzMzMzM0RAMzMzMzMzREAzMzMzMzNEQDMzMzMzM0RAMzMzMzMzREAzMzMzMzNEQDMzMzMzM0RAMzMzMzMzREAzMzMzMzNEQDMzMzMzM0RAMzMzMzMzREAzMzMzMzNEQDMzMzMzM0RAMzMzMzMzREAzMzMzMzNEQDMzMzMzM0RAMzMzMzMzREAzMzMzMzNEQDMzMzMzM0RAMzMzMzMzREAzMzMzMzNEQDMzMzMzM0RAMzMzMzMzREAzMzMzMzNEQDMzMzMzM0RAMzMzMzMzREAzMzMzMzNEQDMzMzMzM0RAMzMzMzMzREAzMzMzMzNEQDMzMzMzM0RAMzMzMzMzREAzMzMzMzNEQDMzMzMzM0RAMzMzMzMzREAzMzMzMzNEQDMzMzMzM0RAMzMzMzMzREAzMzMzMzNEQDMzMzMzM0RAMzMzMzMzREAzMzMzMzNEQDMzMzMzM0RAMzMzMzMzREAzMzMzMzNEQDMzMzMzM0RAMzMzMzMzREAzMzMzMzNEQDMzMzMzM0RAMzMzMzMzREAzMzMzMzNEQDMzMzMzM0RAMzMzMzMzREAzMzMzMzNEQDMzMzMzM0RAMzMzMzMzREAzMzMzMzNEQDMzMzMzM0RAMzMzMzMzREAzMzMzMzNEQA==\",\"dtype\":\"float64\",\"order\":\"little\",\"shape\":[305]},\"velocity\":[80,80,80,80,80,80,80,80,80,80,80,80,80,80,80,80,80,80,80,80,80,80,80,80,80,80,80,80,80,80,80,80,80,80,80,80,80,80,80,80,80,80,80,80,80,80,80,80,80,80,80,80,80,80,80,80,80,80,80,80,80,80,80,80,80,80,80,80,80,80,80,80,80,80,80,80,80,80,80,80,80,80,80,80,80,80,80,80,80,80,80,80,80,80,80,80,80,80,80,80,80,80,80,80,80,80,80,80,80,80,80,80,80,80,80,80,80,80,80,80,80,80,80,80,80,80,80,80,80,80,80,80,80,80,80,80,80,80,80,80,80,80,80,80,80,80,80,80,80,80,80,80,80,80,80,80,80,80,80,80,80,80,80,80,80,80,80,80,80,80,80,80,80,80,80,80,80,80,80,80,80,80,80,80,80,80,80,80,80,80,80,80,80,80,80,80,80,80,80,80,80,80,80,80,80,80,80,80,80,80,80,80,80,80,80,80,80,80,80,80,80,80,80,80,80,80,80,80,80,80,80,80,80,80,80,80,80,80,80,80,80,80,80,80,80,80,80,80,80,80,80,80,80,80,80,80,80,80,80,80,80,80,80,80,80,80,80,80,80,80,80,80,80,80,80,80,80,80,80,80,80,80,80,80,80,80,80,80,80,80,80,80,80,80,80,80,80,80,80,80,80,80,80,80,80]},\"selected\":{\"id\":\"1212\"},\"selection_policy\":{\"id\":\"1211\"}},\"id\":\"1194\",\"type\":\"ColumnDataSource\"},{\"attributes\":{\"data_source\":{\"id\":\"1194\"},\"glyph\":{\"id\":\"1196\"},\"hover_glyph\":null,\"muted_glyph\":null,\"nonselection_glyph\":{\"id\":\"1197\"},\"view\":{\"id\":\"1199\"}},\"id\":\"1198\",\"type\":\"GlyphRenderer\"},{\"attributes\":{\"axis\":{\"id\":\"1159\"},\"ticker\":null},\"id\":\"1162\",\"type\":\"Grid\"},{\"attributes\":{\"source\":{\"id\":\"1188\"}},\"id\":\"1193\",\"type\":\"CDSView\"},{\"attributes\":{\"bottom_units\":\"screen\",\"fill_alpha\":0.5,\"fill_color\":\"lightgrey\",\"left_units\":\"screen\",\"level\":\"overlay\",\"line_alpha\":1.0,\"line_color\":\"black\",\"line_dash\":[4,4],\"line_width\":2,\"right_units\":\"screen\",\"syncable\":false,\"top_units\":\"screen\"},\"id\":\"1172\",\"type\":\"BoxAnnotation\"},{\"attributes\":{\"data_source\":{\"id\":\"1182\"},\"glyph\":{\"id\":\"1184\"},\"hover_glyph\":null,\"muted_glyph\":null,\"nonselection_glyph\":{\"id\":\"1185\"},\"view\":{\"id\":\"1187\"}},\"id\":\"1186\",\"type\":\"GlyphRenderer\"},{\"attributes\":{},\"id\":\"1157\",\"type\":\"LinearScale\"},{\"attributes\":{\"bottom\":{\"field\":\"bottom\"},\"fill_alpha\":{\"field\":\"fill_alpha\"},\"fill_color\":{\"value\":\"#f46d43\"},\"left\":{\"field\":\"start_time\"},\"right\":{\"field\":\"end_time\"},\"top\":{\"field\":\"top\"}},\"id\":\"1196\",\"type\":\"Quad\"},{\"attributes\":{},\"id\":\"1168\",\"type\":\"PanTool\"},{\"attributes\":{},\"id\":\"1205\",\"type\":\"BasicTickFormatter\"},{\"attributes\":{},\"id\":\"1160\",\"type\":\"BasicTicker\"},{\"attributes\":{},\"id\":\"1209\",\"type\":\"UnionRenderers\"},{\"attributes\":{\"source\":{\"id\":\"1182\"}},\"id\":\"1187\",\"type\":\"CDSView\"},{\"attributes\":{\"data_source\":{\"id\":\"1188\"},\"glyph\":{\"id\":\"1190\"},\"hover_glyph\":null,\"muted_glyph\":null,\"nonselection_glyph\":{\"id\":\"1191\"},\"view\":{\"id\":\"1193\"}},\"id\":\"1192\",\"type\":\"GlyphRenderer\"},{\"attributes\":{\"bottom\":{\"field\":\"bottom\"},\"fill_alpha\":{\"field\":\"fill_alpha\"},\"fill_color\":{\"value\":\"#3288bd\"},\"left\":{\"field\":\"start_time\"},\"right\":{\"field\":\"end_time\"},\"top\":{\"field\":\"top\"}},\"id\":\"1190\",\"type\":\"Quad\"},{\"attributes\":{},\"id\":\"1212\",\"type\":\"Selection\"},{\"attributes\":{},\"id\":\"1153\",\"type\":\"DataRange1d\"},{\"attributes\":{},\"id\":\"1171\",\"type\":\"SaveTool\"},{\"attributes\":{},\"id\":\"1211\",\"type\":\"UnionRenderers\"},{\"attributes\":{},\"id\":\"1151\",\"type\":\"DataRange1d\"},{\"attributes\":{\"overlay\":{\"id\":\"1172\"}},\"id\":\"1169\",\"type\":\"BoxZoomTool\"},{\"attributes\":{},\"id\":\"1210\",\"type\":\"Selection\"},{\"attributes\":{},\"id\":\"1200\",\"type\":\"Title\"},{\"attributes\":{},\"id\":\"1202\",\"type\":\"AllLabels\"},{\"attributes\":{\"axis\":{\"id\":\"1163\"},\"dimension\":1,\"ticker\":{\"id\":\"1181\"}},\"id\":\"1166\",\"type\":\"Grid\"},{\"attributes\":{},\"id\":\"1203\",\"type\":\"BasicTickFormatter\"},{\"attributes\":{\"interval\":12},\"id\":\"1181\",\"type\":\"SingleIntervalTicker\"},{\"attributes\":{\"bottom\":{\"field\":\"bottom\"},\"fill_alpha\":{\"value\":0.1},\"fill_color\":{\"value\":\"#d53e4f\"},\"left\":{\"field\":\"start_time\"},\"line_alpha\":{\"value\":0.1},\"right\":{\"field\":\"end_time\"},\"top\":{\"field\":\"top\"}},\"id\":\"1185\",\"type\":\"Quad\"},{\"attributes\":{\"axis_label\":\"pitch (MIDI)\",\"formatter\":{\"id\":\"1203\"},\"major_label_policy\":{\"id\":\"1202\"},\"ticker\":{\"id\":\"1179\"}},\"id\":\"1163\",\"type\":\"LinearAxis\"},{\"attributes\":{},\"id\":\"1170\",\"type\":\"ResetTool\"},{\"attributes\":{},\"id\":\"1207\",\"type\":\"UnionRenderers\"},{\"attributes\":{\"active_multi\":null,\"tools\":[{\"id\":\"1167\"},{\"id\":\"1168\"},{\"id\":\"1169\"},{\"id\":\"1170\"},{\"id\":\"1171\"}]},\"id\":\"1173\",\"type\":\"Toolbar\"},{\"attributes\":{\"data\":{\"bottom\":{\"__ndarray__\":\"zczMzMxMQkDNzMzMzExCQM3MzMzMTEJAzczMzMxMQkDNzMzMzExCQM3MzMzMTEJAzczMzMxMQkDNzMzMzExCQM3MzMzMTEJAzczMzMxMQkDNzMzMzExCQM3MzMzMTEJAzczMzMxMQkDNzMzMzExCQM3MzMzMTEJAzczMzMxMQkDNzMzMzExCQM3MzMzMTEJAzczMzMxMQkDNzMzMzExCQM3MzMzMTEJAzczMzMxMQkDNzMzMzExCQM3MzMzMTEJAzczMzMxMQkDNzMzMzExCQM3MzMzMTEJAzczMzMxMQkDNzMzMzExCQM3MzMzMTEJAzczMzMxMQkDNzMzMzExCQM3MzMzMTEJAzczMzMxMQkDNzMzMzExCQM3MzMzMTEJAzczMzMxMQkDNzMzMzExCQM3MzMzMTEJAzczMzMxMQkDNzMzMzExCQM3MzMzMTEJAzczMzMxMQkDNzMzMzExCQM3MzMzMTEJAzczMzMxMQkDNzMzMzExCQM3MzMzMTEJAzczMzMxMQkDNzMzMzExCQM3MzMzMTEJAzczMzMxMQkDNzMzMzExCQM3MzMzMTEJAzczMzMxMQkDNzMzMzExCQM3MzMzMTEJAzczMzMxMQkDNzMzMzExCQM3MzMzMTEJAzczMzMxMQkDNzMzMzExCQM3MzMzMTEJAzczMzMxMQkDNzMzMzExCQM3MzMzMTEJAzczMzMxMQkDNzMzMzExCQM3MzMzMTEJAzczMzMxMQkDNzMzMzExCQM3MzMzMTEJAzczMzMxMQkDNzMzMzExCQM3MzMzMTEJAzczMzMxMQkDNzMzMzExCQM3MzMzMTEJAzczMzMxMQkDNzMzMzExCQM3MzMzMTEJAzczMzMxMQkDNzMzMzExCQM3MzMzMTEJAzczMzMxMQkDNzMzMzExCQM3MzMzMTEJAzczMzMxMQkDNzMzMzExCQM3MzMzMTEJAzczMzMxMQkDNzMzMzExCQM3MzMzMTEJAzczMzMxMQkDNzMzMzExCQM3MzMzMTEJAzczMzMxMQkDNzMzMzExCQM3MzMzMTEJAzczMzMxMQkDNzMzMzExCQM3MzMzMTEJAzczMzMxMQkDNzMzMzExCQM3MzMzMTEJAzczMzMxMQkDNzMzMzExCQM3MzMzMTEJAzczMzMxMQkDNzMzMzExCQM3MzMzMTEJAzczMzMxMQkDNzMzMzExCQM3MzMzMTEJAzczMzMxMQkDNzMzMzExCQM3MzMzMTEJAzczMzMxMQkDNzMzMzExCQM3MzMzMTEJAzczMzMxMQkDNzMzMzExCQM3MzMzMTEJAzczMzMxMQkDNzMzMzExCQM3MzMzMTEJAzczMzMxMQkDNzMzMzExCQM3MzMzMTEJAzczMzMxMQkDNzMzMzExCQM3MzMzMTEJAzczMzMxMQkDNzMzMzExCQM3MzMzMTEJAzczMzMxMQkDNzMzMzExCQM3MzMzMTEJAzczMzMxMQkDNzMzMzExCQM3MzMzMTEJAzczMzMxMQkDNzMzMzExCQM3MzMzMTEJAzczMzMxMQkDNzMzMzExCQM3MzMzMTEJAzczMzMxMQkDNzMzMzExCQM3MzMzMTEJAzczMzMxMQkDNzMzMzExCQM3MzMzMTEJAzczMzMxMQkDNzMzMzExCQM3MzMzMTEJAzczMzMxMQkDNzMzMzExCQM3MzMzMTEJAzczMzMxMQkDNzMzMzExCQM3MzMzMTEJAzczMzMxMQkDNzMzMzExCQM3MzMzMTEJAzczMzMxMQkDNzMzMzExCQM3MzMzMTEJAzczMzMxMQkDNzMzMzExCQM3MzMzMTEJAzczMzMxMQkDNzMzMzExCQM3MzMzMTEJAzczMzMxMQkDNzMzMzExCQM3MzMzMTEJAzczMzMxMQkDNzMzMzExCQM3MzMzMTEJAzczMzMxMQkDNzMzMzExCQM3MzMzMTEJAzczMzMxMQkDNzMzMzExCQM3MzMzMTEJAzczMzMxMQkDNzMzMzExCQM3MzMzMTEJAzczMzMxMQkDNzMzMzExCQM3MzMzMTEJAzczMzMxMQkDNzMzMzExCQM3MzMzMTEJAzczMzMxMQkDNzMzMzExCQM3MzMzMTEJAzczMzMxMQkDNzMzMzExCQM3MzMzMTEJAzczMzMxMQkDNzMzMzExCQM3MzMzMTEJAzczMzMxMQkDNzMzMzExCQM3MzMzMTEJAzczMzMxMQkDNzMzMzExCQM3MzMzMTEJAzczMzMxMQkDNzMzMzExCQM3MzMzMTEJAzczMzMxMQkDNzMzMzExCQM3MzMzMTEJAzczMzMxMQkDNzMzMzExCQM3MzMzMTEJAzczMzMxMQkDNzMzMzExCQM3MzMzMTEJAzczMzMxMQkDNzMzMzExCQM3MzMzMTEJAzczMzMxMQkDNzMzMzExCQM3MzMzMTEJAzczMzMxMQkDNzMzMzExCQM3MzMzMTEJAzczMzMxMQkDNzMzMzExCQM3MzMzMTEJAzczMzMxMQkDNzMzMzExCQM3MzMzMTEJAzczMzMxMQkDNzMzMzExCQM3MzMzMTEJAzczMzMxMQkDNzMzMzExCQM3MzMzMTEJAzczMzMxMQkDNzMzMzExCQM3MzMzMTEJAzczMzMxMQkDNzMzMzExCQM3MzMzMTEJAzczMzMxMQkDNzMzMzExCQM3MzMzMTEJAzczMzMxMQkDNzMzMzExCQM3MzMzMTEJAzczMzMxMQkDNzMzMzExCQM3MzMzMTEJAzczMzMxMQkDNzMzMzExCQM3MzMzMTEJAzczMzMxMQkDNzMzMzExCQM3MzMzMTEJAzczMzMxMQkDNzMzMzExCQM3MzMzMTEJAzczMzMxMQkDNzMzMzExCQM3MzMzMTEJAzczMzMxMQkDNzMzMzExCQM3MzMzMTEJAzczMzMxMQkDNzMzMzExCQM3MzMzMTEJAzczMzMxMQkDNzMzMzExCQM3MzMzMTEJAzczMzMxMQkDNzMzMzExCQM3MzMzMTEJAzczMzMxMQkDNzMzMzExCQM3MzMzMTEJAzczMzMxMQkDNzMzMzExCQM3MzMzMTEJAzczMzMxMQkDNzMzMzExCQM3MzMzMTEJAzczMzMxMQkDNzMzMzExCQM3MzMzMTEJAzczMzMxMQkDNzMzMzExCQM3MzMzMTEJAzczMzMxMQkDNzMzMzExCQM3MzMzMTEJAzczMzMxMQkDNzMzMzExCQM3MzMzMTEJAzczMzMxMQkDNzMzMzExCQM3MzMzMTEJAzczMzMxMQkA=\",\"dtype\":\"float64\",\"order\":\"little\",\"shape\":[307]},\"duration\":{\"__ndarray__\":\"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\",\"dtype\":\"float64\",\"order\":\"little\",\"shape\":[307]},\"end_time\":{\"__ndarray__\":\"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\",\"dtype\":\"float64\",\"order\":\"little\",\"shape\":[307]},\"fill_alpha\":{\"__ndarray__\":\"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\",\"dtype\":\"float64\",\"order\":\"little\",\"shape\":[307]},\"index\":[4,5,6,7,12,13,14,16,17,18,20,21,22,23,27,30,32,34,45,48,51,52,54,66,67,68,69,70,71,72,73,74,75,80,83,85,86,87,88,91,92,100,101,103,106,108,109,111,112,114,125,131,133,135,136,137,138,144,149,150,152,155,156,157,162,163,164,165,166,167,172,173,174,175,176,177,178,179,180,181,183,184,185,187,192,193,196,197,198,201,205,208,209,211,212,218,219,220,221,222,223,226,228,233,235,237,242,244,246,247,249,250,251,252,255,258,263,265,267,268,270,271,273,275,276,277,278,282,285,290,294,295,298,301,316,322,324,325,326,327,328,331,334,337,344,346,347,349,356,358,360,361,362,365,368,370,372,378,379,384,385,386,387,388,390,392,395,397,408,409,411,412,413,414,415,417,419,423,424,425,428,433,439,440,448,449,450,451,452,454,458,460,461,462,466,468,474,475,476,477,478,479,481,485,496,502,503,504,505,512,513,514,515,517,518,520,522,523,527,530,535,540,541,547,548,549,556,558,568,574,575,577,578,590,592,593,600,605,606,607,608,610,612,613,614,615,616,617,619,621,622,624,626,628,629,631,632,640,643,645,646,649,651,652,658,660,661,663,665,666,680,681,683,684,685,686,687,693,700,705,706,707,708,709,711,712,713,714,715,716,718,721,727,729,732,738,748,749,751,752,754,755,757,759,761,764,769],\"instrument\":[11,11,11,11,11,11,11,11,11,11,11,11,11,11,11,11,11,11,11,11,11,11,11,11,11,11,11,11,11,11,11,11,11,11,11,11,11,11,11,11,11,11,11,11,11,11,11,11,11,11,11,11,11,11,11,11,11,11,11,11,11,11,11,11,11,11,11,11,11,11,11,11,11,11,11,11,11,11,11,11,11,11,11,11,11,11,11,11,11,11,11,11,11,11,11,11,11,11,11,11,11,11,11,11,11,11,11,11,11,11,11,11,11,11,11,11,11,11,11,11,11,11,11,11,11,11,11,11,11,11,11,11,11,11,11,11,11,11,11,11,11,11,11,11,11,11,11,11,11,11,11,11,11,11,11,11,11,11,11,11,11,11,11,11,11,11,11,11,11,11,11,11,11,11,11,11,11,11,11,11,11,11,11,11,11,11,11,11,11,11,11,11,11,11,11,11,11,11,11,11,11,11,11,11,11,11,11,11,11,11,11,11,11,11,11,11,11,11,11,11,11,11,11,11,11,11,11,11,11,11,11,11,11,11,11,11,11,11,11,11,11,11,11,11,11,11,11,11,11,11,11,11,11,11,11,11,11,11,11,11,11,11,11,11,11,11,11,11,11,11,11,11,11,11,11,11,11,11,11,11,11,11,11,11,11,11,11,11,11,11,11,11,11,11,11,11,11,11,11,11,11,11,11,11,11,11,11],\"pitch\":[37,37,37,37,37,37,37,37,37,37,37,37,37,37,37,37,37,37,37,37,37,37,37,37,37,37,37,37,37,37,37,37,37,37,37,37,37,37,37,37,37,37,37,37,37,37,37,37,37,37,37,37,37,37,37,37,37,37,37,37,37,37,37,37,37,37,37,37,37,37,37,37,37,37,37,37,37,37,37,37,37,37,37,37,37,37,37,37,37,37,37,37,37,37,37,37,37,37,37,37,37,37,37,37,37,37,37,37,37,37,37,37,37,37,37,37,37,37,37,37,37,37,37,37,37,37,37,37,37,37,37,37,37,37,37,37,37,37,37,37,37,37,37,37,37,37,37,37,37,37,37,37,37,37,37,37,37,37,37,37,37,37,37,37,37,37,37,37,37,37,37,37,37,37,37,37,37,37,37,37,37,37,37,37,37,37,37,37,37,37,37,37,37,37,37,37,37,37,37,37,37,37,37,37,37,37,37,37,37,37,37,37,37,37,37,37,37,37,37,37,37,37,37,37,37,37,37,37,37,37,37,37,37,37,37,37,37,37,37,37,37,37,37,37,37,37,37,37,37,37,37,37,37,37,37,37,37,37,37,37,37,37,37,37,37,37,37,37,37,37,37,37,37,37,37,37,37,37,37,37,37,37,37,37,37,37,37,37,37,37,37,37,37,37,37,37,37,37,37,37,37,37,37,37,37,37,37],\"program\":[0,0,0,0,0,0,0,0,0,0,0,0,0,0,0,0,0,0,0,0,0,0,0,0,0,0,0,0,0,0,0,0,0,0,0,0,0,0,0,0,0,0,0,0,0,0,0,0,0,0,0,0,0,0,0,0,0,0,0,0,0,0,0,0,0,0,0,0,0,0,0,0,0,0,0,0,0,0,0,0,0,0,0,0,0,0,0,0,0,0,0,0,0,0,0,0,0,0,0,0,0,0,0,0,0,0,0,0,0,0,0,0,0,0,0,0,0,0,0,0,0,0,0,0,0,0,0,0,0,0,0,0,0,0,0,0,0,0,0,0,0,0,0,0,0,0,0,0,0,0,0,0,0,0,0,0,0,0,0,0,0,0,0,0,0,0,0,0,0,0,0,0,0,0,0,0,0,0,0,0,0,0,0,0,0,0,0,0,0,0,0,0,0,0,0,0,0,0,0,0,0,0,0,0,0,0,0,0,0,0,0,0,0,0,0,0,0,0,0,0,0,0,0,0,0,0,0,0,0,0,0,0,0,0,0,0,0,0,0,0,0,0,0,0,0,0,0,0,0,0,0,0,0,0,0,0,0,0,0,0,0,0,0,0,0,0,0,0,0,0,0,0,0,0,0,0,0,0,0,0,0,0,0,0,0,0,0,0,0,0,0,0,0,0,0,0,0,0,0,0,0,0,0,0,0,0,0],\"start_time\":{\"__ndarray__\":\"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\",\"dtype\":\"float64\",\"order\":\"little\",\"shape\":[307]},\"top\":{\"__ndarray__\":\"MzMzMzOzQkAzMzMzM7NCQDMzMzMzs0JAMzMzMzOzQkAzMzMzM7NCQDMzMzMzs0JAMzMzMzOzQkAzMzMzM7NCQDMzMzMzs0JAMzMzMzOzQkAzMzMzM7NCQDMzMzMzs0JAMzMzMzOzQkAzMzMzM7NCQDMzMzMzs0JAMzMzMzOzQkAzMzMzM7NCQDMzMzMzs0JAMzMzMzOzQkAzMzMzM7NCQDMzMzMzs0JAMzMzMzOzQkAzMzMzM7NCQDMzMzMzs0JAMzMzMzOzQkAzMzMzM7NCQDMzMzMzs0JAMzMzMzOzQkAzMzMzM7NCQDMzMzMzs0JAMzMzMzOzQkAzMzMzM7NCQDMzMzMzs0JAMzMzMzOzQkAzMzMzM7NCQDMzMzMzs0JAMzMzMzOzQkAzMzMzM7NCQDMzMzMzs0JAMzMzMzOzQkAzMzMzM7NCQDMzMzMzs0JAMzMzMzOzQkAzMzMzM7NCQDMzMzMzs0JAMzMzMzOzQkAzMzMzM7NCQDMzMzMzs0JAMzMzMzOzQkAzMzMzM7NCQDMzMzMzs0JAMzMzMzOzQkAzMzMzM7NCQDMzMzMzs0JAMzMzMzOzQkAzMzMzM7NCQDMzMzMzs0JAMzMzMzOzQkAzMzMzM7NCQDMzMzMzs0JAMzMzMzOzQkAzMzMzM7NCQDMzMzMzs0JAMzMzMzOzQkAzMzMzM7NCQDMzMzMzs0JAMzMzMzOzQkAzMzMzM7NCQDMzMzMzs0JAMzMzMzOzQkAzMzMzM7NCQDMzMzMzs0JAMzMzMzOzQkAzMzMzM7NCQDMzMzMzs0JAMzMzMzOzQkAzMzMzM7NCQDMzMzMzs0JAMzMzMzOzQkAzMzMzM7NCQDMzMzMzs0JAMzMzMzOzQkAzMzMzM7NCQDMzMzMzs0JAMzMzMzOzQkAzMzMzM7NCQDMzMzMzs0JAMzMzMzOzQkAzMzMzM7NCQDMzMzMzs0JAMzMzMzOzQkAzMzMzM7NCQDMzMzMzs0JAMzMzMzOzQkAzMzMzM7NCQDMzMzMzs0JAMzMzMzOzQkAzMzMzM7NCQDMzMzMzs0JAMzMzMzOzQkAzMzMzM7NCQDMzMzMzs0JAMzMzMzOzQkAzMzMzM7NCQDMzMzMzs0JAMzMzMzOzQkAzMzMzM7NCQDMzMzMzs0JAMzMzMzOzQkAzMzMzM7NCQDMzMzMzs0JAMzMzMzOzQkAzMzMzM7NCQDMzMzMzs0JAMzMzMzOzQkAzMzMzM7NCQDMzMzMzs0JAMzMzMzOzQkAzMzMzM7NCQDMzMzMzs0JAMzMzMzOzQkAzMzMzM7NCQDMzMzMzs0JAMzMzMzOzQkAzMzMzM7NCQDMzMzMzs0JAMzMzMzOzQkAzMzMzM7NCQDMzMzMzs0JAMzMzMzOzQkAzMzMzM7NCQDMzMzMzs0JAMzMzMzOzQkAzMzMzM7NCQDMzMzMzs0JAMzMzMzOzQkAzMzMzM7NCQDMzMzMzs0JAMzMzMzOzQkAzMzMzM7NCQDMzMzMzs0JAMzMzMzOzQkAzMzMzM7NCQDMzMzMzs0JAMzMzMzOzQkAzMzMzM7NCQDMzMzMzs0JAMzMzMzOzQkAzMzMzM7NCQDMzMzMzs0JAMzMzMzOzQkAzMzMzM7NCQDMzMzMzs0JAMzMzMzOzQkAzMzMzM7NCQDMzMzMzs0JAMzMzMzOzQkAzMzMzM7NCQDMzMzMzs0JAMzMzMzOzQkAzMzMzM7NCQDMzMzMzs0JAMzMzMzOzQkAzMzMzM7NCQDMzMzMzs0JAMzMzMzOzQkAzMzMzM7NCQDMzMzMzs0JAMzMzMzOzQkAzMzMzM7NCQDMzMzMzs0JAMzMzMzOzQkAzMzMzM7NCQDMzMzMzs0JAMzMzMzOzQkAzMzMzM7NCQDMzMzMzs0JAMzMzMzOzQkAzMzMzM7NCQDMzMzMzs0JAMzMzMzOzQkAzMzMzM7NCQDMzMzMzs0JAMzMzMzOzQkAzMzMzM7NCQDMzMzMzs0JAMzMzMzOzQkAzMzMzM7NCQDMzMzMzs0JAMzMzMzOzQkAzMzMzM7NCQDMzMzMzs0JAMzMzMzOzQkAzMzMzM7NCQDMzMzMzs0JAMzMzMzOzQkAzMzMzM7NCQDMzMzMzs0JAMzMzMzOzQkAzMzMzM7NCQDMzMzMzs0JAMzMzMzOzQkAzMzMzM7NCQDMzMzMzs0JAMzMzMzOzQkAzMzMzM7NCQDMzMzMzs0JAMzMzMzOzQkAzMzMzM7NCQDMzMzMzs0JAMzMzMzOzQkAzMzMzM7NCQDMzMzMzs0JAMzMzMzOzQkAzMzMzM7NCQDMzMzMzs0JAMzMzMzOzQkAzMzMzM7NCQDMzMzMzs0JAMzMzMzOzQkAzMzMzM7NCQDMzMzMzs0JAMzMzMzOzQkAzMzMzM7NCQDMzMzMzs0JAMzMzMzOzQkAzMzMzM7NCQDMzMzMzs0JAMzMzMzOzQkAzMzMzM7NCQDMzMzMzs0JAMzMzMzOzQkAzMzMzM7NCQDMzMzMzs0JAMzMzMzOzQkAzMzMzM7NCQDMzMzMzs0JAMzMzMzOzQkAzMzMzM7NCQDMzMzMzs0JAMzMzMzOzQkAzMzMzM7NCQDMzMzMzs0JAMzMzMzOzQkAzMzMzM7NCQDMzMzMzs0JAMzMzMzOzQkAzMzMzM7NCQDMzMzMzs0JAMzMzMzOzQkAzMzMzM7NCQDMzMzMzs0JAMzMzMzOzQkAzMzMzM7NCQDMzMzMzs0JAMzMzMzOzQkAzMzMzM7NCQDMzMzMzs0JAMzMzMzOzQkAzMzMzM7NCQDMzMzMzs0JAMzMzMzOzQkAzMzMzM7NCQDMzMzMzs0JAMzMzMzOzQkAzMzMzM7NCQDMzMzMzs0JAMzMzMzOzQkAzMzMzM7NCQDMzMzMzs0JAMzMzMzOzQkAzMzMzM7NCQDMzMzMzs0JAMzMzMzOzQkAzMzMzM7NCQDMzMzMzs0JAMzMzMzOzQkAzMzMzM7NCQDMzMzMzs0JAMzMzMzOzQkAzMzMzM7NCQDMzMzMzs0JAMzMzMzOzQkAzMzMzM7NCQDMzMzMzs0JAMzMzMzOzQkAzMzMzM7NCQDMzMzMzs0JAMzMzMzOzQkAzMzMzM7NCQDMzMzMzs0JAMzMzMzOzQkAzMzMzM7NCQDMzMzMzs0JAMzMzMzOzQkAzMzMzM7NCQDMzMzMzs0JAMzMzMzOzQkAzMzMzM7NCQDMzMzMzs0JAMzMzMzOzQkAzMzMzM7NCQDMzMzMzs0JAMzMzMzOzQkAzMzMzM7NCQDMzMzMzs0JAMzMzMzOzQkA=\",\"dtype\":\"float64\",\"order\":\"little\",\"shape\":[307]},\"velocity\":[80,80,80,80,80,80,80,80,80,80,80,80,80,80,80,80,80,80,80,80,80,80,80,80,80,80,80,80,80,80,80,80,80,80,80,80,80,80,80,80,80,80,80,80,80,80,80,80,80,80,80,80,80,80,80,80,80,80,80,80,80,80,80,80,80,80,80,80,80,80,80,80,80,80,80,80,80,80,80,80,80,80,80,80,80,80,80,80,80,80,80,80,80,80,80,80,80,80,80,80,80,80,80,80,80,80,80,80,80,80,80,80,80,80,80,80,80,80,80,80,80,80,80,80,80,80,80,80,80,80,80,80,80,80,80,80,80,80,80,80,80,80,80,80,80,80,80,80,80,80,80,80,80,80,80,80,80,80,80,80,80,80,80,80,80,80,80,80,80,80,80,80,80,80,80,80,80,80,80,80,80,80,80,80,80,80,80,80,80,80,80,80,80,80,80,80,80,80,80,80,80,80,80,80,80,80,80,80,80,80,80,80,80,80,80,80,80,80,80,80,80,80,80,80,80,80,80,80,80,80,80,80,80,80,80,80,80,80,80,80,80,80,80,80,80,80,80,80,80,80,80,80,80,80,80,80,80,80,80,80,80,80,80,80,80,80,80,80,80,80,80,80,80,80,80,80,80,80,80,80,80,80,80,80,80,80,80,80,80,80,80,80,80,80,80,80,80,80,80,80,80,80,80,80,80,80,80]},\"selected\":{\"id\":\"1210\"},\"selection_policy\":{\"id\":\"1209\"}},\"id\":\"1188\",\"type\":\"ColumnDataSource\"},{\"attributes\":{\"interval\":12},\"id\":\"1179\",\"type\":\"SingleIntervalTicker\"},{\"attributes\":{\"source\":{\"id\":\"1194\"}},\"id\":\"1199\",\"type\":\"CDSView\"},{\"attributes\":{},\"id\":\"1208\",\"type\":\"Selection\"},{\"attributes\":{\"bottom\":{\"field\":\"bottom\"},\"fill_alpha\":{\"field\":\"fill_alpha\"},\"fill_color\":{\"value\":\"#d53e4f\"},\"left\":{\"field\":\"start_time\"},\"right\":{\"field\":\"end_time\"},\"top\":{\"field\":\"top\"}},\"id\":\"1184\",\"type\":\"Quad\"},{\"attributes\":{},\"id\":\"1204\",\"type\":\"AllLabels\"}],\"root_ids\":[\"1150\"]},\"title\":\"Bokeh Application\",\"version\":\"2.3.3\"}};\n",
              "  var render_items = [{\"docid\":\"4d82d455-47d5-4839-b490-0de3337117b8\",\"root_ids\":[\"1150\"],\"roots\":{\"1150\":\"18606ab4-18f4-4795-a99e-0ea43fba6384\"}}];\n",
              "  root.Bokeh.embed.embed_items_notebook(docs_json, render_items);\n",
              "\n",
              "  }\n",
              "  if (root.Bokeh !== undefined) {\n",
              "    embed_document(root);\n",
              "  } else {\n",
              "    var attempts = 0;\n",
              "    var timer = setInterval(function(root) {\n",
              "      if (root.Bokeh !== undefined) {\n",
              "        clearInterval(timer);\n",
              "        embed_document(root);\n",
              "      } else {\n",
              "        attempts++;\n",
              "        if (attempts > 100) {\n",
              "          clearInterval(timer);\n",
              "          console.log(\"Bokeh: ERROR: Unable to run BokehJS code because BokehJS library is missing\");\n",
              "        }\n",
              "      }\n",
              "    }, 10, root)\n",
              "  }\n",
              "})(window);"
            ],
            "application/vnd.bokehjs_exec.v0+json": ""
          },
          "metadata": {
            "tags": [],
            "application/vnd.bokehjs_exec.v0+json": {
              "id": "1150"
            }
          }
        },
        {
          "output_type": "display_data",
          "data": {
            "text/html": [
              "<div id=\"id_2\"> </div>"
            ],
            "text/plain": [
              "<IPython.core.display.HTML object>"
            ]
          },
          "metadata": {
            "tags": []
          }
        }
      ]
    },
    {
      "cell_type": "code",
      "metadata": {
        "id": "MrQL05zqBBOQ"
      },
      "source": [
        ""
      ],
      "execution_count": 13,
      "outputs": []
    }
  ]
}